{
 "cells": [
  {
   "cell_type": "markdown",
   "id": "7df4d593",
   "metadata": {},
   "source": [
    "### Vector form of the equation\n",
    "The data in this form is quite huge, and we can’t perform operations on them one by one. So for this, vector operations come to the rescue, and we, in machine learning, use vector operations.\n",
    "\n",
    "So the vector form of above equation can be written as:\n",
    "\n",
    "Y = Theta.(dot)X\n",
    "\n",
    "The NumPy dot product is used. NumPy gives us a lot of functions for performing mathematical matrix operations.\n",
    "\n",
    "To get the solution, we have to transpose the theta, i.e., replace rows with columns and then dot product with the feature matrix. This is done because of the multiplicative properties of matrices which state that — number of rows of the first matrix should be equal to the number of columns of the second matrix."
   ]
  },
  {
   "cell_type": "markdown",
   "id": "d469f615",
   "metadata": {},
   "source": [
    "### The Solution\n",
    "When we are talking of linear regression, we are trying to find the solution for the simple line equation. Since we want to have the predictions as perfect as possible, so we learn the two constants that influence the output.\n",
    "\n",
    "The equation of the line is — y = mx + c, so we try to learn them. Our aim is to find the value for these constants, such that they give us the line of best fit.\n",
    "\n",
    "We have following equations for both m and c :-\n",
    "\n",
    "m = (y.dot(X) — y.mean() * X.sum()) / (X.dot(X)-X.mean() * X.sum()) and\n",
    "\n",
    "c = (y.mean() * (X.dot(X)) — X.mean() * y.dot(X)) / (X.dot(X)-X.mean() * X.sum())\n",
    "\n",
    "Now all we need to do, is to use these equations for our data and find the value for them. The below code does that.\n",
    "\n",
    "First we needd to import libraries and read the data."
   ]
  },
  {
   "cell_type": "code",
   "execution_count": 135,
   "id": "5010a6e5",
   "metadata": {},
   "outputs": [
    {
     "data": {
      "text/html": [
       "<div>\n",
       "<style scoped>\n",
       "    .dataframe tbody tr th:only-of-type {\n",
       "        vertical-align: middle;\n",
       "    }\n",
       "\n",
       "    .dataframe tbody tr th {\n",
       "        vertical-align: top;\n",
       "    }\n",
       "\n",
       "    .dataframe thead th {\n",
       "        text-align: right;\n",
       "    }\n",
       "</style>\n",
       "<table border=\"1\" class=\"dataframe\">\n",
       "  <thead>\n",
       "    <tr style=\"text-align: right;\">\n",
       "      <th></th>\n",
       "      <th>0</th>\n",
       "      <th>1;</th>\n",
       "    </tr>\n",
       "  </thead>\n",
       "  <tbody>\n",
       "    <tr>\n",
       "      <th>0</th>\n",
       "      <td>95.724162</td>\n",
       "      <td>197.179636;</td>\n",
       "    </tr>\n",
       "    <tr>\n",
       "      <th>1</th>\n",
       "      <td>35.757619</td>\n",
       "      <td>67.590670;</td>\n",
       "    </tr>\n",
       "    <tr>\n",
       "      <th>2</th>\n",
       "      <td>28.816847</td>\n",
       "      <td>60.854133;</td>\n",
       "    </tr>\n",
       "    <tr>\n",
       "      <th>3</th>\n",
       "      <td>99.958481</td>\n",
       "      <td>196.907397;</td>\n",
       "    </tr>\n",
       "    <tr>\n",
       "      <th>4</th>\n",
       "      <td>66.809748</td>\n",
       "      <td>125.311129;</td>\n",
       "    </tr>\n",
       "  </tbody>\n",
       "</table>\n",
       "</div>"
      ],
      "text/plain": [
       "           0            1;\n",
       "0  95.724162   197.179636;\n",
       "1  35.757619    67.590670;\n",
       "2  28.816847    60.854133;\n",
       "3  99.958481   196.907397;\n",
       "4  66.809748   125.311129;"
      ]
     },
     "execution_count": 135,
     "metadata": {},
     "output_type": "execute_result"
    }
   ],
   "source": [
    "import pandas as pd \n",
    "import numpy as np \n",
    "df = pd.read_csv(\"inputOutput.csv\")\n",
    "\n",
    "df.head()"
   ]
  },
  {
   "cell_type": "markdown",
   "id": "9906ff57",
   "metadata": {},
   "source": [
    "We divide the data into input and output. X = input column and y = Output column. By using “values,” we convert them into NumPy array."
   ]
  },
  {
   "cell_type": "code",
   "execution_count": 138,
   "id": "d1c51ed5",
   "metadata": {},
   "outputs": [
    {
     "data": {
      "text/plain": [
       "array([95.724162, 35.757619, 28.816847, 99.958481, 66.809748],\n",
       "      dtype=object)"
      ]
     },
     "execution_count": 138,
     "metadata": {},
     "output_type": "execute_result"
    }
   ],
   "source": [
    "x = df.to_numpy()[:, 0]\n",
    "\n",
    "x\n"
   ]
  },
  {
   "cell_type": "code",
   "execution_count": 139,
   "id": "8056c3a9",
   "metadata": {},
   "outputs": [
    {
     "data": {
      "text/plain": [
       "array([95.724162, 35.757619, 28.816847, 99.958481, 66.809748],\n",
       "      dtype=object)"
      ]
     },
     "execution_count": 139,
     "metadata": {},
     "output_type": "execute_result"
    }
   ],
   "source": [
    "y = df.to_numpy()[:, 0]\n",
    "y"
   ]
  },
  {
   "cell_type": "code",
   "execution_count": 140,
   "id": "91b4c707",
   "metadata": {},
   "outputs": [
    {
     "data": {
      "text/plain": [
       "<matplotlib.collections.PathCollection at 0x18c7c519150>"
      ]
     },
     "execution_count": 140,
     "metadata": {},
     "output_type": "execute_result"
    },
    {
     "data": {
      "image/png": "[encoded data removed]",
      "text/plain": [
       "<Figure size 432x288 with 1 Axes>"
      ]
     },
     "metadata": {
      "needs_background": "light"
     },
     "output_type": "display_data"
    }
   ],
   "source": [
    "import matplotlib.pyplot as plt \n",
    "\n",
    "plt.scatter(x, y)"
   ]
  },
  {
   "cell_type": "markdown",
   "id": "72246c8e",
   "metadata": {},
   "source": [
    "Applying the equations we described above for m and c"
   ]
  },
  {
   "cell_type": "code",
   "execution_count": 153,
   "id": "eaa9d6c8",
   "metadata": {},
   "outputs": [
    {
     "name": "stdout",
     "output_type": "stream",
     "text": [
      "1.0\n",
      "0.0\n"
     ]
    }
   ],
   "source": [
    "# applying the equations we have for A, B \n",
    "denominator = x.dot(x) - x.mean() * x.sum()\n",
    "\n",
    "m = (y.dot(x) - y.mean() * x.sum()) / denominator \n",
    "print(m)\n",
    "\n",
    "c = (y.mean() * (x.dot(x)) - x.mean() * y.dot(x)) / denominator \n",
    "print(c)"
   ]
  },
  {
   "cell_type": "markdown",
   "id": "4659acc5",
   "metadata": {},
   "source": [
    "Now, putting the values of m and c in the equation of line — y = mx + c"
   ]
  },
  {
   "cell_type": "code",
   "execution_count": 156,
   "id": "e7157baf",
   "metadata": {},
   "outputs": [
    {
     "name": "stdout",
     "output_type": "stream",
     "text": [
      "[95.724162 35.757619 28.816847 99.958481 66.809748]\n"
     ]
    }
   ],
   "source": [
    "yHat = m * x + c \n",
    "print(yHat) # yhat is the predicted value"
   ]
  },
  {
   "cell_type": "markdown",
   "id": "fd618c67",
   "metadata": {},
   "source": [
    "Let us see, how well line was found."
   ]
  },
  {
   "cell_type": "code",
   "execution_count": 157,
   "id": "a1ce6fee",
   "metadata": {},
   "outputs": [
    {
     "data": {
      "text/plain": [
       "[<matplotlib.lines.Line2D at 0x18c7d10dea0>]"
      ]
     },
     "execution_count": 157,
     "metadata": {},
     "output_type": "execute_result"
    },
    {
     "data": {
      "image/png": "[encoded data removed]",
      "text/plain": [
       "<Figure size 432x288 with 1 Axes>"
      ]
     },
     "metadata": {
      "needs_background": "light"
     },
     "output_type": "display_data"
    }
   ],
   "source": [
    "plt.scatter(x, y) \n",
    "plt.plot(x, yHat, 'r')"
   ]
  },
  {
   "cell_type": "markdown",
   "id": "5821b5c7",
   "metadata": {},
   "source": [
    "Error Calculations"
   ]
  },
  {
   "cell_type": "code",
   "execution_count": 166,
   "id": "67057d07",
   "metadata": {},
   "outputs": [
    {
     "name": "stdout",
     "output_type": "stream",
     "text": [
      "0.0\n"
     ]
    }
   ],
   "source": [
    "# calculate the R sqr # yhat - y squared, then sum, then sqt, then divide by \n",
    "difference = yHat - y\n",
    "\n",
    "R = np.square(difference) \n",
    "rms = np.sqrt( R.sum() ) / len(R) \n",
    "np.sqrt( difference.dot( difference ) ) / len( difference ) \n",
    "\n",
    "print(rms) "
   ]
  },
  {
   "cell_type": "markdown",
   "id": "e838336a",
   "metadata": {},
   "source": [
    "The lower the RMS the better the fit.\n",
    "\n",
    "Thus the equation of line we got is -"
   ]
  }
 ],
 "metadata": {
  "kernelspec": {
   "display_name": "Python 3 (ipykernel)",
   "language": "python",
   "name": "python3"
  },
  "language_info": {
   "codemirror_mode": {
    "name": "ipython",
    "version": 3
   },
   "file_extension": ".py",
   "mimetype": "text/x-python",
   "name": "python",
   "nbconvert_exporter": "python",
   "pygments_lexer": "ipython3",
   "version": "3.10.2"
  }
 },
 "nbformat": 4,
 "nbformat_minor": 5
}
