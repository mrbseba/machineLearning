{
 "cells": [
  {
   "cell_type": "code",
   "execution_count": 1,
   "id": "9cbd28ec",
   "metadata": {},
   "outputs": [],
   "source": [
    "# import the libraries\n",
    "import math"
   ]
  },
  {
   "cell_type": "markdown",
   "id": "094b5dea",
   "metadata": {},
   "source": [
    "Create a program that returns the solutions of the equation ax²+bx+c given the input of a, b and c."
   ]
  },
  {
   "cell_type": "code",
   "execution_count": 17,
   "id": "896a8edc",
   "metadata": {},
   "outputs": [
    {
     "name": "stdout",
     "output_type": "stream",
     "text": [
      "real and different root \n",
      "2.0\n",
      "-12.0\n"
     ]
    }
   ],
   "source": [
    "def equation_quadratic (a, b, c):\n",
    "#   checking the value of the a if is 0 then the equation doesn't have a solution\n",
    "    if a == 0:\n",
    "        print('Input the corect value of a (a != 0)')\n",
    "    else:\n",
    "#   calculate discriminant \n",
    "        dis = b * b - 4 * a * c\n",
    "        sqrt_val = math.sqrt(abs(dis))\n",
    "        \n",
    "#   check the value of dis\n",
    "        if dis > 0:\n",
    "            print(\"real and different root \")\n",
    "            sol_diff_root_one = (-b + sqrt_val) / (2 * a)\n",
    "            sol_diff_root_two = (-b - sqrt_val) / (2 * a)\n",
    "\n",
    "            print(sol_diff_root_one)\n",
    "            print(sol_diff_root_two)\n",
    "# check if the diff is = 0\n",
    "        elif dis == 0:\n",
    "            print('real and same roots')\n",
    "            sol_diff_same = -b / (2 *a)\n",
    "\n",
    "        else:\n",
    "            print('complex roots')\n",
    "            print(- b / (2 * a), \" + i\", sqrt_val) \n",
    "            print(- b / (2 * a), \" - i\", sqrt_val) \n",
    "            \n",
    "equation_quadratic (1, 10, -24)\n",
    "    \n",
    "    "
   ]
  },
  {
   "cell_type": "markdown",
   "id": "8234179a",
   "metadata": {},
   "source": [
    "Calculate the value of the given equations given a, b, x and y\n",
    "\n",
    "- $F = (\\pi - \\sqrt{\\frac{a * b^2}{x-\\cos(a+b)}}$\n",
    "\n",
    "- $S = \\frac{x+y-\\cos(12-y^2)}{\\pi+\\sin(1001+a^2)};$"
   ]
  },
  {
   "cell_type": "code",
   "execution_count": 26,
   "id": "3aa4ed24",
   "metadata": {},
   "outputs": [
    {
     "name": "stdout",
     "output_type": "stream",
     "text": [
      "F = 2.140339363491761\n"
     ]
    }
   ],
   "source": [
    "# calcualte F equations\n",
    "def f_equations(a, b, x):\n",
    "    \n",
    "    # formula for F equations\n",
    "    f = math.pi - math.sqrt(a * math.pow(b, 2) / (x - math.cos(a + b)))\n",
    "    \n",
    "#   display the result\n",
    "    print(\"F =\", f)\n",
    "    \n",
    "# call the function and sand the data\n",
    "f_equations(1, 2, 3)"
   ]
  },
  {
   "cell_type": "code",
   "execution_count": 28,
   "id": "b125d414",
   "metadata": {},
   "outputs": [
    {
     "name": "stdout",
     "output_type": "stream",
     "text": [
      "S = 1.5550676924263016\n"
     ]
    }
   ],
   "source": [
    "# calculate the S equations\n",
    "def s_equations(x, y, a):\n",
    "    \n",
    "#   formula for S equations\n",
    "    s = (x + y - math.cos(12 - pow(y, 2))) / ( math.pi + math.sin(1001 + pow(a, 2)))\n",
    "\n",
    "#   display the result\n",
    "    print(\"S =\", s)\n",
    "\n",
    "s_equations(3, 2, 1)"
   ]
  },
  {
   "cell_type": "markdown",
   "id": "1b0ab0cb",
   "metadata": {},
   "source": [
    "Calculate the euclidean distance between two points in the space given their coordinates (x1, y1) and (x2, y2).\n",
    "\n",
    "Exemple 2 points: d(P1, P2) = sqrt((x2 - x1)^2 + (y2 - y1)^2)\n",
    "\n",
    "Example 3 points: P1 = (2, 3, 1) and P2 = (8, -5, 9)\n",
    "\n",
    "d(P1, P2) = sqrt((8 - 2)^2 + (-5 - 3)^2 + (0 - 1)^2) = sqrt(36 + 64 + 1) = sqrt(101) ~ 10.05 "
   ]
  },
  {
   "cell_type": "code",
   "execution_count": 38,
   "id": "743abe25",
   "metadata": {},
   "outputs": [
    {
     "name": "stdout",
     "output_type": "stream",
     "text": [
      "euclidean distance between two poin:t 2.23606797749979\n"
     ]
    }
   ],
   "source": [
    "# calculate the euclidean distance between two point\n",
    "def euclidean_distance(x_one, y_one, x_two, y_two):\n",
    "    \n",
    "#   formula for calculation the eculidean distance\n",
    "    eucl_distance = math.sqrt(pow(x_two - x_one, 2) + pow(y_two - y_one, 2))\n",
    "    \n",
    "    print('euclidean distance between two poin:t', eucl_distance)\n",
    "    \n",
    "    \n",
    "x_one = 3\n",
    "y_one = 4\n",
    "\n",
    "x_two = 4\n",
    "y_two = 6\n",
    "\n",
    "euclidean_distance(x_one, y_one, x_two, y_two)\n",
    "\n",
    "# target value 2.23606797 "
   ]
  },
  {
   "cell_type": "markdown",
   "id": "f5285fd1",
   "metadata": {},
   "source": [
    "Given coordinates of three points (x1, y1), (x2, y2) and (x3, y3) which represent triangle vertices, write a program which calculates the surface area of this triangle.\n",
    "\n",
    "The Heron's formula for the area is as follows: Area = |x1 * (y2 - y3) + x2 * (y3 - y1) + x3 * (y1- y2)| / 2"
   ]
  },
  {
   "cell_type": "code",
   "execution_count": 37,
   "id": "530e21cb",
   "metadata": {},
   "outputs": [
    {
     "name": "stdout",
     "output_type": "stream",
     "text": [
      "Heron's area 10.5\n"
     ]
    }
   ],
   "source": [
    "# function for calculate the area of the triangle\n",
    "def coordinates_area(x1, y1, x2, y2, x3, y3):\n",
    "#   formula for calculation the Heron distance\n",
    "    heron_area = abs((x1 * (y2 - y3) + x2 * (y3 - y1) + x3 * (y1 - y2)) / 2)\n",
    "    \n",
    "    print('Heron\\'s area', heron_area)\n",
    "    \n",
    "# define the x coordinates    \n",
    "x1 = 0\n",
    "x2 = 2\n",
    "x3 = 5\n",
    "\n",
    "# define the y coordinates\n",
    "y1 = 0\n",
    "y2 = 5\n",
    "y3 = 2\n",
    "\n",
    "coordinates_area(x1, y1, x2, y2, x3, y3)\n",
    "\n",
    "# target value = 10.5"
   ]
  },
  {
   "cell_type": "markdown",
   "id": "96cb07fe",
   "metadata": {},
   "source": [
    "Write a program that given the number of the month and year, return the number of days in this month."
   ]
  },
  {
   "cell_type": "code",
   "execution_count": 43,
   "id": "acf46fce",
   "metadata": {},
   "outputs": [
    {
     "name": "stdout",
     "output_type": "stream",
     "text": [
      "number of days is: 29\n"
     ]
    }
   ],
   "source": [
    "# function for calculate the number of days in a month\n",
    "def days_in_month(month, year):\n",
    "#   checking the bisect year\n",
    "    if((month == 2) and ((year % 4 == 0) or ((year % 100 == 0) and (year % 400 == 0)))):\n",
    "        print(\"number of days is: 29\")\n",
    "    \n",
    "    elif(month == 2):\n",
    "        print(\"number of days is: 28\")\n",
    "\n",
    "    elif(month == 1 or month == 3 or month == 5 or month == 7 or month == 8 or month == 10 or month == 12):\n",
    "        print(\"number of days is: 31\")\n",
    "\n",
    "    else:\n",
    "        print(\"number of days is: 30\")\n",
    "\n",
    "# create the date\n",
    "month = 2\n",
    "year = 2024\n",
    "\n",
    "# call the function and send the data of var\n",
    "days_in_month(month, year)\n"
   ]
  },
  {
   "cell_type": "markdown",
   "id": "ba274e33",
   "metadata": {},
   "source": [
    "Given a number print whether the number is even or odd."
   ]
  },
  {
   "cell_type": "code",
   "execution_count": 48,
   "id": "36f10065",
   "metadata": {},
   "outputs": [
    {
     "name": "stdout",
     "output_type": "stream",
     "text": [
      "is a odd(impar)\n"
     ]
    }
   ],
   "source": [
    "# function for checking if the number is even(par) or odd(impar)\n",
    "def check_the_number(num):\n",
    "    if num % 2 == 1:\n",
    "        print('is a odd(impar)')\n",
    "    else:\n",
    "        print('is even(par)')\n",
    "\n",
    "# number for verification \n",
    "num = 1\n",
    "\n",
    "# call the function and send the number\n",
    "check_the_number(num)"
   ]
  },
  {
   "cell_type": "markdown",
   "id": "52a377f3",
   "metadata": {},
   "source": [
    "using the cyceles, print following\n",
    "\n",
    "a)*\t\t         b) * * * * *\t    c)        *\t        d) * * * * *       e)       *                                         * *\t\t        * * * *                 * *\t             * * * *              * * *                                       * * *\t\t        * * *\t\t          * * *                * * *            * * * * *                                     * * * *  \t  \t    * *\t\t            * * * *\t\t             * *\t      * * * * * * *                                   * * * * *\t        *\t\t          * * * * *\t\t               *  \t    * * * * * * * * *"
   ]
  },
  {
   "cell_type": "code",
   "execution_count": 80,
   "id": "b7f9660e",
   "metadata": {},
   "outputs": [
    {
     "name": "stdout",
     "output_type": "stream",
     "text": [
      "* \n",
      "\n",
      "* * \n",
      "\n",
      "* * * \n",
      "\n",
      "* * * * \n",
      "\n",
      "* * * * * \n",
      "\n"
     ]
    }
   ],
   "source": [
    "# a pyramid \n",
    "# 5 can be replace with row variable\n",
    "\n",
    "for i in range(5):\n",
    "    for j in range(i + 1):\n",
    "        print('* ', end = '')\n",
    "    print('\\n')"
   ]
  },
  {
   "cell_type": "code",
   "execution_count": 93,
   "id": "ab985d89",
   "metadata": {},
   "outputs": [
    {
     "name": "stdout",
     "output_type": "stream",
     "text": [
      "*  *  *  *  *  \n",
      "\n",
      "*  *  *  *  \n",
      "\n",
      "*  *  *  \n",
      "\n",
      "*  *  \n",
      "\n",
      "*  \n",
      "\n"
     ]
    }
   ],
   "source": [
    "# b pyramid\n",
    "# 5 can be replace with row variable\n",
    "\n",
    "for i in range(5, 0, -1): # - 5 max, 0 - final, -1 - step\n",
    "    for j in range(0, i):\n",
    "        print(\"* \", end=\" \")\n",
    "    print('\\n')"
   ]
  },
  {
   "cell_type": "code",
   "execution_count": 89,
   "id": "ac33403e",
   "metadata": {},
   "outputs": [
    {
     "name": "stdout",
     "output_type": "stream",
     "text": [
      "        * \n",
      "      * * \n",
      "    * * * \n",
      "  * * * * \n",
      "* * * * * \n"
     ]
    }
   ],
   "source": [
    "# c pyramid\n",
    "# 5 & 6 can be replace with row variable\n",
    "\n",
    "for i in range(1, 6):\n",
    "    for j in range(5, 0, -1):\n",
    "        if j > i:\n",
    "            print(\" \", end = ' ')\n",
    "        else:\n",
    "            print(\"*\", end = ' ')\n",
    "    print(\"\")"
   ]
  },
  {
   "cell_type": "code",
   "execution_count": 87,
   "id": "0fce44a1",
   "metadata": {},
   "outputs": [
    {
     "name": "stdout",
     "output_type": "stream",
     "text": [
      "* * * * * \n",
      "  * * * * \n",
      "    * * * \n",
      "      * * \n",
      "        * \n"
     ]
    }
   ],
   "source": [
    "# d pyramid \n",
    "# 5 can be replace with row variable\n",
    "i = 5\n",
    "while i >= 1:\n",
    "    j = 5\n",
    "    while j > i:\n",
    "        # display space\n",
    "        print(' ', end=' ')\n",
    "        j -= 1\n",
    "    k = 1\n",
    "    while k <= i:\n",
    "        print('*', end=' ')\n",
    "        k += 1\n",
    "    print()\n",
    "    i -= 1\n"
   ]
  },
  {
   "cell_type": "code",
   "execution_count": 77,
   "id": "36b79bfc",
   "metadata": {},
   "outputs": [
    {
     "name": "stdout",
     "output_type": "stream",
     "text": [
      "        * \n",
      "      * * * \n",
      "    * * * * * \n",
      "  * * * * * * * \n",
      "* * * * * * * * * \n"
     ]
    }
   ],
   "source": [
    "# e pyramid\n",
    "# 5 can be replace with row variable\n",
    "k = 0\n",
    "\n",
    "for i in range(1, 5 + 1):\n",
    "    for space in range(1, (5 - i) + 1):\n",
    "        print(end = \"  \")\n",
    "   \n",
    "    while k != (2 * i - 1):\n",
    "        print(\"* \", end = \"\")\n",
    "        k += 1\n",
    "   \n",
    "    k = 0\n",
    "    print()"
   ]
  },
  {
   "cell_type": "markdown",
   "id": "bd1bb80f",
   "metadata": {},
   "source": [
    "Generate a multiplication table for all numbers from 1 to 10."
   ]
  },
  {
   "cell_type": "code",
   "execution_count": 27,
   "id": "a4ae4141",
   "metadata": {},
   "outputs": [
    {
     "name": "stdout",
     "output_type": "stream",
     "text": [
      "\n",
      "\n",
      "1 x 1 = 1\n",
      "1 x 2 = 2\n",
      "1 x 3 = 3\n",
      "1 x 4 = 4\n",
      "1 x 5 = 5\n",
      "1 x 6 = 6\n",
      "1 x 7 = 7\n",
      "1 x 8 = 8\n",
      "1 x 9 = 9\n",
      "\n",
      "\n",
      "2 x 1 = 2\n",
      "2 x 2 = 4\n",
      "2 x 3 = 6\n",
      "2 x 4 = 8\n",
      "2 x 5 = 10\n",
      "2 x 6 = 12\n",
      "2 x 7 = 14\n",
      "2 x 8 = 16\n",
      "2 x 9 = 18\n",
      "\n",
      "\n",
      "3 x 1 = 3\n",
      "3 x 2 = 6\n",
      "3 x 3 = 9\n",
      "3 x 4 = 12\n",
      "3 x 5 = 15\n",
      "3 x 6 = 18\n",
      "3 x 7 = 21\n",
      "3 x 8 = 24\n",
      "3 x 9 = 27\n",
      "\n",
      "\n",
      "4 x 1 = 4\n",
      "4 x 2 = 8\n",
      "4 x 3 = 12\n",
      "4 x 4 = 16\n",
      "4 x 5 = 20\n",
      "4 x 6 = 24\n",
      "4 x 7 = 28\n",
      "4 x 8 = 32\n",
      "4 x 9 = 36\n",
      "\n",
      "\n",
      "5 x 1 = 5\n",
      "5 x 2 = 10\n",
      "5 x 3 = 15\n",
      "5 x 4 = 20\n",
      "5 x 5 = 25\n",
      "5 x 6 = 30\n",
      "5 x 7 = 35\n",
      "5 x 8 = 40\n",
      "5 x 9 = 45\n",
      "\n",
      "\n",
      "6 x 1 = 6\n",
      "6 x 2 = 12\n",
      "6 x 3 = 18\n",
      "6 x 4 = 24\n",
      "6 x 5 = 30\n",
      "6 x 6 = 36\n",
      "6 x 7 = 42\n",
      "6 x 8 = 48\n",
      "6 x 9 = 54\n",
      "\n",
      "\n",
      "7 x 1 = 7\n",
      "7 x 2 = 14\n",
      "7 x 3 = 21\n",
      "7 x 4 = 28\n",
      "7 x 5 = 35\n",
      "7 x 6 = 42\n",
      "7 x 7 = 49\n",
      "7 x 8 = 56\n",
      "7 x 9 = 63\n",
      "\n",
      "\n",
      "8 x 1 = 8\n",
      "8 x 2 = 16\n",
      "8 x 3 = 24\n",
      "8 x 4 = 32\n",
      "8 x 5 = 40\n",
      "8 x 6 = 48\n",
      "8 x 7 = 56\n",
      "8 x 8 = 64\n",
      "8 x 9 = 72\n",
      "\n",
      "\n",
      "9 x 1 = 9\n",
      "9 x 2 = 18\n",
      "9 x 3 = 27\n",
      "9 x 4 = 36\n",
      "9 x 5 = 45\n",
      "9 x 6 = 54\n",
      "9 x 7 = 63\n",
      "9 x 8 = 72\n",
      "9 x 9 = 81\n",
      "\n",
      "\n"
     ]
    }
   ],
   "source": [
    "# generate a multiplication table off all number 1 - 10\n",
    "\n",
    "for i in range(10):\n",
    "    for j in range(10):\n",
    "            if i > 0 and j > 0:\n",
    "                product = i * j\n",
    "                print(\"{} x {} = {}\".format(i, j, product))\n",
    "    print(\"\\n\")\n",
    "\n",
    "\n",
    "\n",
    " "
   ]
  },
  {
   "cell_type": "markdown",
   "id": "82ebc07f",
   "metadata": {},
   "source": [
    "Given number n return result of the equation: 1 + ½ + ⅓ + ¼ +...+1/n"
   ]
  },
  {
   "cell_type": "code",
   "execution_count": 20,
   "id": "8e660797",
   "metadata": {},
   "outputs": [
    {
     "name": "stdout",
     "output_type": "stream",
     "text": [
      "enter the n value: 30\n",
      "1.0344827586206897\n"
     ]
    }
   ],
   "source": [
    "n = int(input('enter the n value: '))\n",
    "for i in range(1, n, +1):\n",
    "    result = 1 + (1 / i)\n",
    "#     print(i)\n",
    "print(result)"
   ]
  },
  {
   "cell_type": "markdown",
   "id": "178ae8db",
   "metadata": {},
   "source": [
    "Given a string introduced from keyboard, return number of vowels it has."
   ]
  },
  {
   "cell_type": "code",
   "execution_count": 126,
   "id": "fb0c2d52",
   "metadata": {},
   "outputs": [
    {
     "name": "stdout",
     "output_type": "stream",
     "text": [
      "Enter the string: Eusebiu\n",
      "Total number of vowel are\n",
      "5\n"
     ]
    }
   ],
   "source": [
    "vcount = 0;  \n",
    "# ccount = 0;  \n",
    "str = input(\"Enter the string: \");  \n",
    "   \n",
    "#Converting entire string to lower case to reduce the comparisons  \n",
    "str = str.lower();  \n",
    "for i in range(0,len(str)):   \n",
    "    #Checks whether a character is a vowel  \n",
    "    if str[i] in ('a',\"e\",\"i\",\"o\",\"u\"):  \n",
    "        vcount = vcount + 1;  \n",
    "#     elif (str[i] >= 'a' and str[i] <= 'z'):  \n",
    "#         ccount = ccount + 1;  \n",
    "print(\"Total number of vowel are\" );  \n",
    "print(vcount);  \n",
    "# print(ccount);  "
   ]
  },
  {
   "cell_type": "markdown",
   "id": "216ea2e1",
   "metadata": {},
   "source": [
    "4. Return the result of the following equation:\n",
    "sqrt(2 + sqrt( 4 + sqrt( 8 + ... + sqrt( 100))))"
   ]
  },
  {
   "cell_type": "code",
   "execution_count": 10,
   "id": "17c38883",
   "metadata": {},
   "outputs": [
    {
     "name": "stdout",
     "output_type": "stream",
     "text": [
      "18.386072748311697\n"
     ]
    }
   ],
   "source": [
    "# 11\n",
    "i = 0\n",
    "sumF = 0\n",
    "for i in range(100, 0, -2): # from max to min - 100 max, 0 - final, -2 - step\n",
    "    sumF += math.sqrt(i)\n",
    "    radSum = math.sqrt(sumF)\n",
    "    \n",
    "print(radSum)"
   ]
  },
  {
   "cell_type": "markdown",
   "id": "cdb97ada",
   "metadata": {},
   "source": [
    "Given a list, print all elements that are odd and placed on an even index."
   ]
  },
  {
   "cell_type": "code",
   "execution_count": 92,
   "id": "1d10291f",
   "metadata": {},
   "outputs": [
    {
     "name": "stdout",
     "output_type": "stream",
     "text": [
      "8\n",
      "The original list : [0, 2, 3, 1, 4, 9, 253, 65]\n",
      "num: 3\n",
      "num: 253\n"
     ]
    }
   ],
   "source": [
    "# 12 initializing list \n",
    "#  even - par / odd impar\n",
    "test_list = [0, 2, 3, 1, 4, 9, 253, 65]\n",
    "n = len(test_list)\n",
    "print(n)\n",
    "# printing original list\n",
    "print(\"The original list : \" + str(test_list))\n",
    "for i in range(1, n + 1, +1):\n",
    "    if (test_list[i - 1] % 2 == 1 and test_list[i - 1] != 0):\n",
    "        if i % 2 == 1:\n",
    "            print (\"num:\", test_list[i - 1])"
   ]
  },
  {
   "cell_type": "markdown",
   "id": "18af9b9f",
   "metadata": {},
   "source": [
    "Given a list, create two new lists, in first you will store elements from even indexes and in the second list from odd ones."
   ]
  },
  {
   "cell_type": "code",
   "execution_count": 16,
   "id": "3998fefc",
   "metadata": {},
   "outputs": [
    {
     "name": "stdout",
     "output_type": "stream",
     "text": [
      "The original list : [1, 2, 3, 4, 6]\n",
      "par index list: [2, 4]\n",
      "impar index list: [1, 3, 6]\n"
     ]
    }
   ],
   "source": [
    "# 13 Python code to split into even and odd lists \n",
    "#  even - par / odd impar\n",
    "evenlist = [] \n",
    "oddlist = []\n",
    "\n",
    "test_list = [1, 2, 3, 4, 6]\n",
    "\n",
    "# printing original list\n",
    "print(\"The original list : \" + str(test_list))\n",
    "for i in range(1, n + 1, +1):\n",
    "    if (i % 2 == 1 and i != 0):\n",
    "        if i % 2 == 1:\n",
    "             oddlist.append(test_list[i-1])\n",
    "            \n",
    "    else:\n",
    "        \n",
    "        evenlist.append(test_list[i-1])\n",
    "\n",
    "print(\"par index list:\", evenlist) \n",
    "print(\"impar index list:\", oddlist) "
   ]
  },
  {
   "cell_type": "markdown",
   "id": "8b450557",
   "metadata": {},
   "source": [
    "Given a number n create a list with first n prime numbers."
   ]
  },
  {
   "cell_type": "code",
   "execution_count": 25,
   "id": "8ac75e68",
   "metadata": {},
   "outputs": [
    {
     "name": "stdout",
     "output_type": "stream",
     "text": [
      "Enter the N: 100\n",
      "2 3 5 7 11 13 17 19 23 29 31 37 41 43 47 53 59 61 67 71 73 79 83 89 97 "
     ]
    }
   ],
   "source": [
    "# 14. function to check if a given number is prime\n",
    "def isPrime(n):\n",
    "    # since 0 and 1 is not prime return false.\n",
    "    if(n == 1 or n == 0):\n",
    "        return False\n",
    "\n",
    "    # Run a loop from 2 to n-1\n",
    "    for i in range(2, n):\n",
    "        #if the number is divisible by i, then n is not a prime number.\n",
    "        if(n % i == 0):\n",
    "            return False\n",
    "    \n",
    "    # otherwise, n is prime number.\n",
    "    return True\n",
    "\n",
    "# Driver code\n",
    "# N = 100;\n",
    "N = int(input(\"Enter the N: \"))\n",
    "\n",
    "# check for every number from 1 to N\n",
    "for i in range(1, N + 1):\n",
    "    \n",
    "    # check if current number is prime\n",
    "    if(isPrime(i)):\n",
    "        print(i, end = \" \")\n"
   ]
  },
  {
   "cell_type": "markdown",
   "id": "d6a5eb19",
   "metadata": {},
   "source": [
    "Given a number n create a list with first n fibonacci numbers."
   ]
  },
  {
   "cell_type": "code",
   "execution_count": 17,
   "id": "9401aaa2",
   "metadata": {},
   "outputs": [
    {
     "name": "stdout",
     "output_type": "stream",
     "text": [
      "Enter n: 10\n"
     ]
    },
    {
     "data": {
      "text/plain": [
       "[0, 1, 1, 2, 3, 5, 8, 13, 21, 34, 55]"
      ]
     },
     "execution_count": 17,
     "metadata": {},
     "output_type": "execute_result"
    }
   ],
   "source": [
    "# 15\n",
    "def fib(n):\n",
    "    if n == 0:\n",
    "        return [0]\n",
    "    elif n == 1:\n",
    "        return [0, 1]\n",
    "    else:\n",
    "        lst = fib(n - 1)\n",
    "        lst.append(lst[-1] + lst[-2])\n",
    "        return lst\n",
    "n = int(input(\"Enter n: \"))\n",
    "fib(n)"
   ]
  },
  {
   "cell_type": "markdown",
   "id": "edbb1328",
   "metadata": {},
   "source": [
    "Write a program that given a list of tuples, where a tuple represents coordinates of a point in 2D space, calculate which of the points is closer to the graph origin (0, 0)."
   ]
  },
  {
   "cell_type": "code",
   "execution_count": 23,
   "id": "d1297d4b",
   "metadata": {},
   "outputs": [
    {
     "name": "stdout",
     "output_type": "stream",
     "text": [
      "[[2, 2], [5, 2]]\n",
      "[[5, 2], [9, 2]]\n",
      "7.0\n"
     ]
    }
   ],
   "source": [
    "# 16 \n",
    "\n",
    "# DE MODIFICAT\n",
    "def calculate_adj_distance(z):\n",
    "    #calculate distance between the two selected points\n",
    "    print(z)\n",
    "    x1 = z[0][0]\n",
    "    x2 = z[1][0]\n",
    "    y1 = z[0][1]\n",
    "    y2 = z[1][1]\n",
    "    return ((x1-x2)**2 + (y1-y2)**2)**(1/2)\n",
    "\n",
    "\n",
    "def calculate_distance(p):\n",
    "    dist = 0\n",
    "    if len(p) == 0:\n",
    "        return 0\n",
    "    else:\n",
    "        for i in range(0,len(p)-1):\n",
    "        #select two points at a time\n",
    "            dist += calculate_adj_distance([list(p[i]), list(p[i+1])])\n",
    "            #adding the calculated distance to the previous distance\n",
    "        return dist\n",
    "\n",
    "            \n",
    "print(calculate_distance([(2,2), (5,2), (9,2)]))"
   ]
  },
  {
   "cell_type": "markdown",
   "id": "5a956824",
   "metadata": {},
   "source": [
    "Given two sets of numbers, print the elements that are present in one set and are missing in the other, print for both lists."
   ]
  },
  {
   "cell_type": "code",
   "execution_count": 25,
   "id": "618c253b",
   "metadata": {},
   "outputs": [
    {
     "name": "stdout",
     "output_type": "stream",
     "text": [
      "{5}\n",
      "{4, 5}\n"
     ]
    }
   ],
   "source": [
    "# 17 \n",
    "\n",
    "def common_member(a, b):\n",
    "    a_set = set(a)\n",
    "    b_set = set(b)\n",
    "\n",
    "    if (a_set & b_set):\n",
    "        print(a_set & b_set)\n",
    "    else:\n",
    "        print(\"No common elements\")\n",
    "\n",
    "\n",
    "a = [1, 2, 3, 4, 5]\n",
    "b = [5, 6, 7, 8, 9]\n",
    "common_member(a, b)\n",
    "\n",
    "a = [1, 2, 4, 4, 5]\n",
    "b = [6, 7, 4, 5, 4]\n",
    "common_member(a, b)\n"
   ]
  },
  {
   "cell_type": "markdown",
   "id": "c78c6275",
   "metadata": {},
   "source": [
    "Given a list of tuples where every tuple represents the final score after football games between two teams, print the maximal score for every team that they had for this series of games."
   ]
  },
  {
   "cell_type": "code",
   "execution_count": 101,
   "id": "108f66c5",
   "metadata": {},
   "outputs": [
    {
     "name": "stdout",
     "output_type": "stream",
     "text": [
      "teamA, teamB\n",
      "max score (4, 4)\n"
     ]
    }
   ],
   "source": [
    "# 18. \n",
    "score = [(2, 2), (4, 4), (3, 1), (2, 1), (1, 3), (3, 1), (2, 1), (1, 2), (2, 1), (1, 2), (2, 1), (1, 2)]\n",
    "print(\"teamA, teamB\")\n",
    "print(\"max score\", max(score))\n",
    "\n",
    "# aș dori aici mai multe detalii, că nu sunt sigur dacă e corect"
   ]
  },
  {
   "cell_type": "markdown",
   "id": "1c9641a8",
   "metadata": {},
   "source": [
    "Given two sets of favorite video games of two students, return the intersection set of them."
   ]
  },
  {
   "cell_type": "code",
   "execution_count": 130,
   "id": "360cdf01",
   "metadata": {},
   "outputs": [
    {
     "name": "stdout",
     "output_type": "stream",
     "text": [
      "{'League of Legends', 'ROBLOX'}\n"
     ]
    }
   ],
   "source": [
    "# 19. \n",
    "# our sets\n",
    "game_one_student = {\"Overwatch\", \"The Sims\", \"ROBLOX\", \"Minecraft\", \"League of Legends\"}\n",
    "game_two_stedent = {\"Fortnite\", \"League of Legends\", \"Counter-Strike\", \"Valorant\", \"ROBLOX\"}\n",
    "\n",
    "# compare the sets\n",
    "commonGame = game_one_student.intersection(game_two_stedent)\n",
    "\n",
    "print(commonGame)"
   ]
  },
  {
   "cell_type": "markdown",
   "id": "7981b05d",
   "metadata": {},
   "source": [
    "Given a list of numbers, create a dictionary which will store the number of times each element appears in the list. "
   ]
  },
  {
   "cell_type": "code",
   "execution_count": 137,
   "id": "a49aa372",
   "metadata": {},
   "outputs": [
    {
     "name": "stdout",
     "output_type": "stream",
     "text": [
      " 1 :  5\n",
      " 5 :  2\n",
      " 3 :  3\n",
      " 4 :  3\n",
      " 2 :  4\n"
     ]
    }
   ],
   "source": [
    "# 20. Given a list of numbers, create a dictionary which will store the number of times each element appears in the list.\n",
    "\n",
    "def Count_frequency(list_elements):\n",
    "    # Creating an empty dictionary\n",
    "    freq = {}\n",
    "\n",
    "#   compute the elements\n",
    "    for item in my_list:\n",
    "        if (item in freq):\n",
    "            freq[item] += 1\n",
    "        else:\n",
    "            freq[item] = 1\n",
    "            \n",
    "#   print the dictionary \n",
    "    for key, value in freq.items():\n",
    "        print (\"%d:%d\"%(key, value))\n",
    " \n",
    "\n",
    "list_elements = [1, 1, 1, 5, 5, 3, 1, 3, 3, 1, 4, 4, 4, 2, 2, 2, 2] \n",
    "CountFrequency(list_elements)"
   ]
  },
  {
   "cell_type": "code",
   "execution_count": 5,
   "id": "a7ed81e7",
   "metadata": {},
   "outputs": [
    {
     "name": "stdout",
     "output_type": "stream",
     "text": [
      "Original key list is : ['name', 'surname']\n",
      "Original value list is : ['John', 'Brown']\n",
      "Resultant dictionary is : {'name': 'John', 'surname': 'Brown'}\n"
     ]
    }
   ],
   "source": [
    "# 21. Given two lists of data, for example [‘name’.’surname’] and [‘John’, ’Brown’] \n",
    "# create a dictionary using dictionary comprehensions to get {‘name’:’John’, ‘surname’:’Brown’}\n",
    "\n",
    "# initializing lists\n",
    "keys_data = [\"name\", \"surname\"]\n",
    "values_data = ['John', 'Brown']\n",
    "\n",
    "# Printing original keys-value lists\n",
    "print(\"Original key list is : \" + str(keys_data))\n",
    "print(\"Original value list is : \" + str(values_data))\n",
    "\n",
    "# using naive method\n",
    "# to convert lists to dictionary\n",
    "res = {}\n",
    "for key in keys_data:\n",
    "    for value in values_data:\n",
    "        res[key] = value\n",
    "        values_data.remove(value)\n",
    "        break\n",
    "\n",
    "# Printing resultant dictionary\n",
    "print(\"Resultant dictionary is : \" + str(res))\n",
    "\n"
   ]
  },
  {
   "cell_type": "code",
   "execution_count": 14,
   "id": "fccba672",
   "metadata": {},
   "outputs": [
    {
     "name": "stdout",
     "output_type": "stream",
     "text": [
      "{\"name\": \"Seba\", \"surname\": \"FantomHay\", \"birthday\": 2002, \"year\": \"second\", \"speciality\": \"Computer Science\"}\n"
     ]
    }
   ],
   "source": [
    "# 22. Create a dictionary with information about a student, save it to a JSON file, and import it back from the file, \n",
    "# seeing that information was successfully saved.\n",
    "import json\n",
    "\n",
    "# create a dictionary with student data\n",
    "student = {\n",
    "    'name': 'Seba',\n",
    "    'surname': 'FantomHay',\n",
    "    'birthday': 2002,\n",
    "    'year': 'second',\n",
    "    'speciality': 'Computer Science'\n",
    "}\n",
    "\n",
    "with open('student.json', 'w') as convert_file:\n",
    "    convert_file.write(json.dumps(student))\n",
    "    \n",
    "file1 = open(\"student.json\") \n",
    "    \n",
    "# Reading from file \n",
    "print(file1.read()) \n",
    "    \n",
    "file1.close() \n",
    "\n"
   ]
  },
  {
   "cell_type": "code",
   "execution_count": 20,
   "id": "78bf1fb4",
   "metadata": {},
   "outputs": [
    {
     "name": "stdout",
     "output_type": "stream",
     "text": [
      "[1, 2, 5, 6]\n"
     ]
    }
   ],
   "source": [
    "# 23. Write a program to sort a dictionary by values.\n",
    "# create the dictionary\n",
    "my_dict = {\n",
    "    1: 2, \n",
    "    2: 6, \n",
    "    3: 1,\n",
    "    4: 5 \n",
    "}\n",
    "\n",
    "# sort the dictionary \n",
    "sorted_dt_value = sorted(my_dict.values())\n",
    "\n",
    "print(sorted_dt_value)"
   ]
  },
  {
   "cell_type": "code",
   "execution_count": 23,
   "id": "ce9d3714",
   "metadata": {},
   "outputs": [
    {
     "name": "stdout",
     "output_type": "stream",
     "text": [
      "{1: 10, 2: 20, 3: 30, 4: 40, 5: 50, 6: 60}\n"
     ]
    }
   ],
   "source": [
    "# 24. Write a program that given 3 different dictionaries will concatenate them and create new one.\n",
    "# create the dictionaries\n",
    "dic_one = {\n",
    "    1: 10, \n",
    "    2: 20\n",
    "}\n",
    "dic_two = {\n",
    "    3: 30, \n",
    "    4: 40\n",
    "}\n",
    "dic_three = {\n",
    "    5: 50,\n",
    "    6: 60\n",
    "}\n",
    "\n",
    "# dict for cancatination\n",
    "dic_four = {}\n",
    "\n",
    "for i in (dic_one, dic_two, dic_three): dic_four.update(i)\n",
    "\n",
    "print(dic_four)\n"
   ]
  },
  {
   "cell_type": "code",
   "execution_count": 35,
   "id": "90ec1aa4",
   "metadata": {},
   "outputs": [
    {
     "name": "stdout",
     "output_type": "stream",
     "text": [
      "1 day left until the weekend\n"
     ]
    }
   ],
   "source": [
    "# 25. Create a function that will return how many work days there are until the weekend.\n",
    "def daysCalculation(day):\n",
    "    full_week = 5\n",
    "    days_result = full_week - day\n",
    "    \n",
    "    if days_result < 0:\n",
    "        print('today is weekend')\n",
    "    elif days_result == 0:\n",
    "        print('weekend will be tomorrow')\n",
    "    elif days_result == 1:\n",
    "        print(days_result, 'day left until the weekend')\n",
    "    else:\n",
    "        print(days_result, 'days left until the weekend')\n",
    "        \n",
    "daysCalculation(4)\n",
    "    "
   ]
  }
 ],
 "metadata": {
  "kernelspec": {
   "display_name": "Python 3 (ipykernel)",
   "language": "python",
   "name": "python3"
  },
  "language_info": {
   "codemirror_mode": {
    "name": "ipython",
    "version": 3
   },
   "file_extension": ".py",
   "mimetype": "text/x-python",
   "name": "python",
   "nbconvert_exporter": "python",
   "pygments_lexer": "ipython3",
   "version": "3.10.2"
  }
 },
 "nbformat": 4,
 "nbformat_minor": 5
}
