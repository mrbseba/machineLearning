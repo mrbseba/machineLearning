{
 "cells": [
  {
   "cell_type": "code",
   "execution_count": 1,
   "id": "eb92a3d2",
   "metadata": {},
   "outputs": [],
   "source": [
    "# import the libraries\n",
    "import math\n"
   ]
  },
  {
   "cell_type": "markdown",
   "id": "094b5dea",
   "metadata": {},
   "source": [
    "Create a program that returns the solutions of the equation ax²+bx+c given the input of a, b and c."
   ]
  },
  {
   "cell_type": "code",
   "execution_count": 17,
   "id": "896a8edc",
   "metadata": {},
   "outputs": [
    {
     "name": "stdout",
     "output_type": "stream",
     "text": [
      "real and different root \n",
      "2.0\n",
      "-12.0\n"
     ]
    }
   ],
   "source": [
    "def equation_quadratic (a, b, c):\n",
    "#   checking the value of the a if is 0 then the equation doesn't have a solution\n",
    "    if a == 0:\n",
    "        print('Input the corect value of a (a != 0)')\n",
    "    else:\n",
    "#   calculate discriminant \n",
    "        dis = b * b - 4 * a * c\n",
    "        sqrt_val = math.sqrt(abs(dis))\n",
    "        \n",
    "#   check the value of dis\n",
    "        if dis > 0:\n",
    "            print(\"real and different root \")\n",
    "            sol_diff_root_one = (-b + sqrt_val) / (2 * a)\n",
    "            sol_diff_root_two = (-b - sqrt_val) / (2 * a)\n",
    "\n",
    "            print(sol_diff_root_one)\n",
    "            print(sol_diff_root_two)\n",
    "# check if the diff is = 0\n",
    "        elif dis == 0:\n",
    "            print('real and same roots')\n",
    "            sol_diff_same = -b / (2 *a)\n",
    "\n",
    "        else:\n",
    "            print('complex roots')\n",
    "            print(- b / (2 * a), \" + i\", sqrt_val) \n",
    "            print(- b / (2 * a), \" - i\", sqrt_val) \n",
    "            \n",
    "equation_quadratic (1, 10, -24)\n",
    "    \n",
    "    "
   ]
  },
  {
   "cell_type": "markdown",
   "id": "8234179a",
   "metadata": {},
   "source": [
    "Calculate the value of the given equations given a, b, x and y\n",
    "\n",
    "- $F = (\\pi - \\sqrt{\\frac{a * b^2}{x-\\cos(a+b)}}$\n",
    "\n",
    "- $S = \\frac{x+y-\\cos(12-y^2)}{\\pi+\\sin(1001+a^2)};$"
   ]
  },
  {
   "cell_type": "code",
   "execution_count": 26,
   "id": "3aa4ed24",
   "metadata": {},
   "outputs": [
    {
     "name": "stdout",
     "output_type": "stream",
     "text": [
      "F = 2.140339363491761\n"
     ]
    }
   ],
   "source": [
    "# calcualte F equations\n",
    "def f_equations(a, b, x):\n",
    "    \n",
    "    # formula for F equations\n",
    "    f = math.pi - math.sqrt(a * math.pow(b, 2) / (x - math.cos(a + b)))\n",
    "    \n",
    "#   display the result\n",
    "    print(\"F =\", f)\n",
    "    \n",
    "# call the function and sand the data\n",
    "f_equations(1, 2, 3)"
   ]
  },
  {
   "cell_type": "code",
   "execution_count": 28,
   "id": "b125d414",
   "metadata": {},
   "outputs": [
    {
     "name": "stdout",
     "output_type": "stream",
     "text": [
      "S = 1.5550676924263016\n"
     ]
    }
   ],
   "source": [
    "# calculate the S equations\n",
    "def s_equations(x, y, a):\n",
    "    \n",
    "#   formula for S equations\n",
    "    s = (x + y - math.cos(12 - pow(y, 2))) / ( math.pi + math.sin(1001 + pow(a, 2)))\n",
    "\n",
    "#   display the result\n",
    "    print(\"S =\", s)\n",
    "\n",
    "s_equations(3, 2, 1)"
   ]
  },
  {
   "cell_type": "markdown",
   "id": "1b0ab0cb",
   "metadata": {},
   "source": [
    "Calculate the euclidean distance between two points in the space given their coordinates (x1, y1) and (x2, y2).\n",
    "\n",
    "Exemple 2 points: d(P1, P2) = sqrt((x2 - x1)^2 + (y2 - y1)^2)\n",
    "\n",
    "Example 3 points: P1 = (2, 3, 1) and P2 = (8, -5, 9)\n",
    "\n",
    "d(P1, P2) = sqrt((8 - 2)^2 + (-5 - 3)^2 + (0 - 1)^2) = sqrt(36 + 64 + 1) = sqrt(101) ~ 10.05 "
   ]
  },
  {
   "cell_type": "code",
   "execution_count": 38,
   "id": "743abe25",
   "metadata": {},
   "outputs": [
    {
     "name": "stdout",
     "output_type": "stream",
     "text": [
      "euclidean distance between two poin:t 2.23606797749979\n"
     ]
    }
   ],
   "source": [
    "# calculate the euclidean distance between two point\n",
    "def euclidean_distance(x_one, y_one, x_two, y_two):\n",
    "    \n",
    "#   formula for calculation the eculidean distance\n",
    "    eucl_distance = math.sqrt(pow(x_two - x_one, 2) + pow(y_two - y_one, 2))\n",
    "    \n",
    "    print('euclidean distance between two poin:t', eucl_distance)\n",
    "    \n",
    "    \n",
    "x_one = 3\n",
    "y_one = 4\n",
    "\n",
    "x_two = 4\n",
    "y_two = 6\n",
    "\n",
    "euclidean_distance(x_one, y_one, x_two, y_two)\n",
    "\n",
    "# target value 2.23606797 "
   ]
  },
  {
   "cell_type": "markdown",
   "id": "f5285fd1",
   "metadata": {},
   "source": [
    "Given coordinates of three points (x1, y1), (x2, y2) and (x3, y3) which represent triangle vertices, write a program which calculates the surface area of this triangle.\n",
    "\n",
    "The Heron's formula for the area is as follows: Area = |x1 * (y2 - y3) + x2 * (y3 - y1) + x3 * (y1- y2)| / 2"
   ]
  },
  {
   "cell_type": "code",
   "execution_count": 37,
   "id": "530e21cb",
   "metadata": {},
   "outputs": [
    {
     "name": "stdout",
     "output_type": "stream",
     "text": [
      "Heron's area 10.5\n"
     ]
    }
   ],
   "source": [
    "# function for calculate the area of the triangle\n",
    "def coordinates_area(x1, y1, x2, y2, x3, y3):\n",
    "#   formula for calculation the Heron distance\n",
    "    heron_area = abs((x1 * (y2 - y3) + x2 * (y3 - y1) + x3 * (y1 - y2)) / 2)\n",
    "    \n",
    "    print('Heron\\'s area', heron_area)\n",
    "    \n",
    "# define the x coordinates    \n",
    "x1 = 0\n",
    "x2 = 2\n",
    "x3 = 5\n",
    "\n",
    "# define the y coordinates\n",
    "y1 = 0\n",
    "y2 = 5\n",
    "y3 = 2\n",
    "\n",
    "coordinates_area(x1, y1, x2, y2, x3, y3)\n",
    "\n",
    "# target value = 10.5"
   ]
  },
  {
   "cell_type": "markdown",
   "id": "96cb07fe",
   "metadata": {},
   "source": [
    "Write a program that given the number of the month and year, return the number of days in this month."
   ]
  },
  {
   "cell_type": "code",
   "execution_count": 43,
   "id": "acf46fce",
   "metadata": {},
   "outputs": [
    {
     "name": "stdout",
     "output_type": "stream",
     "text": [
      "number of days is: 29\n"
     ]
    }
   ],
   "source": [
    "# function for calculate the number of days in a month\n",
    "def days_in_month(month, year):\n",
    "#   checking the bisect year\n",
    "    if((month == 2) and ((year % 4 == 0) or ((year % 100 == 0) and (year % 400 == 0)))):\n",
    "        print(\"number of days is: 29\")\n",
    "    \n",
    "    elif(month == 2):\n",
    "        print(\"number of days is: 28\")\n",
    "\n",
    "    elif(month == 1 or month == 3 or month == 5 or month == 7 or month == 8 or month == 10 or month == 12):\n",
    "        print(\"number of days is: 31\")\n",
    "\n",
    "    else:\n",
    "        print(\"number of days is: 30\")\n",
    "\n",
    "# create the date\n",
    "month = 2\n",
    "year = 2024\n",
    "\n",
    "# call the function and send the data of var\n",
    "days_in_month(month, year)\n"
   ]
  },
  {
   "cell_type": "markdown",
   "id": "ba274e33",
   "metadata": {},
   "source": [
    "Given a number print whether the number is even or odd."
   ]
  },
  {
   "cell_type": "code",
   "execution_count": 48,
   "id": "36f10065",
   "metadata": {},
   "outputs": [
    {
     "name": "stdout",
     "output_type": "stream",
     "text": [
      "is a odd(impar)\n"
     ]
    }
   ],
   "source": [
    "# function for checking if the number is even(par) or odd(impar)\n",
    "def check_the_number(num):\n",
    "    if num % 2 == 1:\n",
    "        print('is a odd(impar)')\n",
    "    else:\n",
    "        print('is even(par)')\n",
    "\n",
    "# number for verification \n",
    "num = 1\n",
    "\n",
    "# call the function and send the number\n",
    "check_the_number(num)"
   ]
  },
  {
   "cell_type": "markdown",
   "id": "52a377f3",
   "metadata": {},
   "source": [
    "using the cyceles, print following\n",
    "\n",
    "a)*\t\t         b) * * * * *\t    c)        *\t        d) * * * * *       e)       *                                         * *\t\t        * * * *                 * *\t             * * * *              * * *                                       * * *\t\t        * * *\t\t          * * *                * * *            * * * * *                                     * * * *  \t  \t    * *\t\t            * * * *\t\t             * *\t      * * * * * * *                                   * * * * *\t        *\t\t          * * * * *\t\t               *  \t    * * * * * * * * *"
   ]
  },
  {
   "cell_type": "code",
   "execution_count": 80,
   "id": "b7f9660e",
   "metadata": {},
   "outputs": [
    {
     "name": "stdout",
     "output_type": "stream",
     "text": [
      "* \n",
      "\n",
      "* * \n",
      "\n",
      "* * * \n",
      "\n",
      "* * * * \n",
      "\n",
      "* * * * * \n",
      "\n"
     ]
    }
   ],
   "source": [
    "# a pyramid \n",
    "# 5 can be replace with row variable\n",
    "\n",
    "for i in range(5):\n",
    "    for j in range(i + 1):\n",
    "        print('* ', end = '')\n",
    "    print('\\n')"
   ]
  },
  {
   "cell_type": "code",
   "execution_count": 93,
   "id": "ab985d89",
   "metadata": {},
   "outputs": [
    {
     "name": "stdout",
     "output_type": "stream",
     "text": [
      "*  *  *  *  *  \n",
      "\n",
      "*  *  *  *  \n",
      "\n",
      "*  *  *  \n",
      "\n",
      "*  *  \n",
      "\n",
      "*  \n",
      "\n"
     ]
    }
   ],
   "source": [
    "# b pyramid\n",
    "# 5 can be replace with row variable\n",
    "\n",
    "for i in range(5, 0, -1): # - 5 max, 0 - final, -1 - step\n",
    "    for j in range(0, i):\n",
    "        print(\"* \", end=\" \")\n",
    "    print('\\n')"
   ]
  },
  {
   "cell_type": "code",
   "execution_count": 89,
   "id": "ac33403e",
   "metadata": {},
   "outputs": [
    {
     "name": "stdout",
     "output_type": "stream",
     "text": [
      "        * \n",
      "      * * \n",
      "    * * * \n",
      "  * * * * \n",
      "* * * * * \n"
     ]
    }
   ],
   "source": [
    "# c pyramid\n",
    "# 5 & 6 can be replace with row variable\n",
    "\n",
    "for i in range(1, 6):\n",
    "    for j in range(5, 0, -1):\n",
    "        if j > i:\n",
    "            print(\" \", end = ' ')\n",
    "        else:\n",
    "            print(\"*\", end = ' ')\n",
    "    print(\"\")"
   ]
  },
  {
   "cell_type": "code",
   "execution_count": 87,
   "id": "0fce44a1",
   "metadata": {},
   "outputs": [
    {
     "name": "stdout",
     "output_type": "stream",
     "text": [
      "* * * * * \n",
      "  * * * * \n",
      "    * * * \n",
      "      * * \n",
      "        * \n"
     ]
    }
   ],
   "source": [
    "# d pyramid \n",
    "# 5 can be replace with row variable\n",
    "i = 5\n",
    "while i >= 1:\n",
    "    j = 5\n",
    "    while j > i:\n",
    "        # display space\n",
    "        print(' ', end=' ')\n",
    "        j -= 1\n",
    "    k = 1\n",
    "    while k <= i:\n",
    "        print('*', end=' ')\n",
    "        k += 1\n",
    "    print()\n",
    "    i -= 1\n"
   ]
  },
  {
   "cell_type": "code",
   "execution_count": 77,
   "id": "36b79bfc",
   "metadata": {},
   "outputs": [
    {
     "name": "stdout",
     "output_type": "stream",
     "text": [
      "        * \n",
      "      * * * \n",
      "    * * * * * \n",
      "  * * * * * * * \n",
      "* * * * * * * * * \n"
     ]
    }
   ],
   "source": [
    "# e pyramid\n",
    "# 5 can be replace with row variable\n",
    "k = 0\n",
    "\n",
    "for i in range(1, 5 + 1):\n",
    "    for space in range(1, (5 - i) + 1):\n",
    "        print(end = \"  \")\n",
    "   \n",
    "    while k != (2 * i - 1):\n",
    "        print(\"* \", end = \"\")\n",
    "        k += 1\n",
    "   \n",
    "    k = 0\n",
    "    print()"
   ]
  },
  {
   "cell_type": "markdown",
   "id": "bd1bb80f",
   "metadata": {},
   "source": [
    "Generate a multiplication table for all numbers from 1 to 10."
   ]
  },
  {
   "cell_type": "code",
   "execution_count": 27,
   "id": "a4ae4141",
   "metadata": {},
   "outputs": [
    {
     "name": "stdout",
     "output_type": "stream",
     "text": [
      "\n",
      "\n",
      "1 x 1 = 1\n",
      "1 x 2 = 2\n",
      "1 x 3 = 3\n",
      "1 x 4 = 4\n",
      "1 x 5 = 5\n",
      "1 x 6 = 6\n",
      "1 x 7 = 7\n",
      "1 x 8 = 8\n",
      "1 x 9 = 9\n",
      "\n",
      "\n",
      "2 x 1 = 2\n",
      "2 x 2 = 4\n",
      "2 x 3 = 6\n",
      "2 x 4 = 8\n",
      "2 x 5 = 10\n",
      "2 x 6 = 12\n",
      "2 x 7 = 14\n",
      "2 x 8 = 16\n",
      "2 x 9 = 18\n",
      "\n",
      "\n",
      "3 x 1 = 3\n",
      "3 x 2 = 6\n",
      "3 x 3 = 9\n",
      "3 x 4 = 12\n",
      "3 x 5 = 15\n",
      "3 x 6 = 18\n",
      "3 x 7 = 21\n",
      "3 x 8 = 24\n",
      "3 x 9 = 27\n",
      "\n",
      "\n",
      "4 x 1 = 4\n",
      "4 x 2 = 8\n",
      "4 x 3 = 12\n",
      "4 x 4 = 16\n",
      "4 x 5 = 20\n",
      "4 x 6 = 24\n",
      "4 x 7 = 28\n",
      "4 x 8 = 32\n",
      "4 x 9 = 36\n",
      "\n",
      "\n",
      "5 x 1 = 5\n",
      "5 x 2 = 10\n",
      "5 x 3 = 15\n",
      "5 x 4 = 20\n",
      "5 x 5 = 25\n",
      "5 x 6 = 30\n",
      "5 x 7 = 35\n",
      "5 x 8 = 40\n",
      "5 x 9 = 45\n",
      "\n",
      "\n",
      "6 x 1 = 6\n",
      "6 x 2 = 12\n",
      "6 x 3 = 18\n",
      "6 x 4 = 24\n",
      "6 x 5 = 30\n",
      "6 x 6 = 36\n",
      "6 x 7 = 42\n",
      "6 x 8 = 48\n",
      "6 x 9 = 54\n",
      "\n",
      "\n",
      "7 x 1 = 7\n",
      "7 x 2 = 14\n",
      "7 x 3 = 21\n",
      "7 x 4 = 28\n",
      "7 x 5 = 35\n",
      "7 x 6 = 42\n",
      "7 x 7 = 49\n",
      "7 x 8 = 56\n",
      "7 x 9 = 63\n",
      "\n",
      "\n",
      "8 x 1 = 8\n",
      "8 x 2 = 16\n",
      "8 x 3 = 24\n",
      "8 x 4 = 32\n",
      "8 x 5 = 40\n",
      "8 x 6 = 48\n",
      "8 x 7 = 56\n",
      "8 x 8 = 64\n",
      "8 x 9 = 72\n",
      "\n",
      "\n",
      "9 x 1 = 9\n",
      "9 x 2 = 18\n",
      "9 x 3 = 27\n",
      "9 x 4 = 36\n",
      "9 x 5 = 45\n",
      "9 x 6 = 54\n",
      "9 x 7 = 63\n",
      "9 x 8 = 72\n",
      "9 x 9 = 81\n",
      "\n",
      "\n"
     ]
    }
   ],
   "source": [
    "# generate a multiplication table off all number 1 - 10\n",
    "\n",
    "for i in range(10):\n",
    "    for j in range(10):\n",
    "            if i > 0 and j > 0:\n",
    "                product = i * j\n",
    "                print(\"{} x {} = {}\".format(i, j, product))\n",
    "    print(\"\\n\")\n",
    "\n",
    "\n",
    "\n",
    " "
   ]
  },
  {
   "cell_type": "markdown",
   "id": "82ebc07f",
   "metadata": {},
   "source": [
    "Given number n return result of the equation: 1 + ½ + ⅓ + ¼ +...+1/n"
   ]
  },
  {
   "cell_type": "code",
   "execution_count": 38,
   "id": "8e660797",
   "metadata": {},
   "outputs": [
    {
     "name": "stdout",
     "output_type": "stream",
     "text": [
      "enter the n value: 12\n",
      "1.0833333333333333\n"
     ]
    }
   ],
   "source": [
    "n = int(input('enter the n value: '))\n",
    "for i in range(n):\n",
    "    result = 1 + (1 / n)\n",
    "print(result)"
   ]
  },
  {
   "cell_type": "markdown",
   "id": "178ae8db",
   "metadata": {},
   "source": [
    "Given a string introduced from keyboard, return number of vowels it has."
   ]
  },
  {
   "cell_type": "code",
   "execution_count": 126,
   "id": "fb0c2d52",
   "metadata": {},
   "outputs": [
    {
     "name": "stdout",
     "output_type": "stream",
     "text": [
      "Enter the string: Eusebiu\n",
      "Total number of vowel are\n",
      "5\n"
     ]
    }
   ],
   "source": [
    "vcount = 0;  \n",
    "# ccount = 0;  \n",
    "str = input(\"Enter the string: \");  \n",
    "   \n",
    "#Converting entire string to lower case to reduce the comparisons  \n",
    "str = str.lower();  \n",
    "for i in range(0,len(str)):   \n",
    "    #Checks whether a character is a vowel  \n",
    "    if str[i] in ('a',\"e\",\"i\",\"o\",\"u\"):  \n",
    "        vcount = vcount + 1;  \n",
    "#     elif (str[i] >= 'a' and str[i] <= 'z'):  \n",
    "#         ccount = ccount + 1;  \n",
    "print(\"Total number of vowel are\" );  \n",
    "print(vcount);  \n",
    "# print(ccount);  "
   ]
  },
  {
   "cell_type": "markdown",
   "id": "216ea2e1",
   "metadata": {},
   "source": [
    "4. Return the result of the following equation:\n",
    "sqrt2 + sqrt 4 + sqrt 8 + ... + sqrt 100"
   ]
  },
  {
   "cell_type": "code",
   "execution_count": 154,
   "id": "17c38883",
   "metadata": {},
   "outputs": [
    {
     "name": "stdout",
     "output_type": "stream",
     "text": [
      "338.0476711062101\n"
     ]
    }
   ],
   "source": [
    "i = 0\n",
    "sumF = 0\n",
    "for i in range(100, 0, -2): # from max to min - 100 max, 0 - final, -1 - step\n",
    "    sumF += math.sqrt(i)\n",
    "print(sumF)"
   ]
  },
  {
   "cell_type": "markdown",
   "id": "cdb97ada",
   "metadata": {},
   "source": [
    "Given a list, print all elements that are odd and placed on an even index."
   ]
  },
  {
   "cell_type": "code",
   "execution_count": 10,
   "id": "1d10291f",
   "metadata": {},
   "outputs": [
    {
     "name": "stdout",
     "output_type": "stream",
     "text": [
      "The original list : [3, 6, 7, 8, 9, 2, 1, 5]\n",
      "Separated odd and even index list : [3, 7, 9, 1, 6, 8, 2, 5]\n"
     ]
    }
   ],
   "source": [
    "# initializing list\n",
    "test_list = [3, 6, 7, 8, 9, 2, 1, 5]\n",
    "\n",
    "# printing original list\n",
    "print(\"The original list : \" + str(test_list))\n",
    "\n",
    "# Using list slicing\n",
    "# Separating odd and even index elements\n",
    "res = test_list[::2] + test_list[1::2]\n",
    "\n",
    "# print result\n",
    "print(\"Separated odd and even index list : \" + str(res))\n"
   ]
  },
  {
   "cell_type": "markdown",
   "id": "18af9b9f",
   "metadata": {},
   "source": [
    "Given a list, create two new lists, in first you will store elements from even indexes and in the second list from odd ones."
   ]
  },
  {
   "cell_type": "code",
   "execution_count": 18,
   "id": "3998fefc",
   "metadata": {},
   "outputs": [
    {
     "name": "stdout",
     "output_type": "stream",
     "text": [
      "Enter the size of the First List ::4\n",
      "Enter the Element of First  List ::\n",
      "1\n",
      "2\n",
      "3\n",
      "4\n",
      "Even lists: [2, 4]\n",
      "Odd lists: [1, 3]\n"
     ]
    }
   ],
   "source": [
    "# Python code to split into even and odd lists \n",
    "# Funtion to split \n",
    "def splitevenodd(A): \n",
    "    evenlist = [] \n",
    "    oddlist = [] \n",
    "    for i in A: \n",
    "        if (i % 2 == 0): \n",
    "            evenlist.append(i) \n",
    "        else: \n",
    "            oddlist.append(i) \n",
    "    print(\"Even lists:\", evenlist) \n",
    "    print(\"Odd lists:\", oddlist) \n",
    "  \n",
    "# Driver Code \n",
    "A = list()\n",
    "n = int(input(\"Enter the size of the First List ::\"))\n",
    "print(\"Enter the Element of First  List ::\")\n",
    "for i in range(int(n)):\n",
    "   k = int(input(\"\"))\n",
    "   A.append(k)\n",
    "splitevenodd(A) "
   ]
  },
  {
   "cell_type": "markdown",
   "id": "8b450557",
   "metadata": {},
   "source": [
    "Given a number n create a list with first n prime numbers."
   ]
  },
  {
   "cell_type": "code",
   "execution_count": 25,
   "id": "8ac75e68",
   "metadata": {},
   "outputs": [
    {
     "name": "stdout",
     "output_type": "stream",
     "text": [
      "Enter the N: 100\n",
      "2 3 5 7 11 13 17 19 23 29 31 37 41 43 47 53 59 61 67 71 73 79 83 89 97 "
     ]
    }
   ],
   "source": [
    "# function to check if a given number is prime\n",
    "def isPrime(n):\n",
    "    # since 0 and 1 is not prime return false.\n",
    "    if(n == 1 or n == 0):\n",
    "        return False\n",
    "\n",
    "    # Run a loop from 2 to n-1\n",
    "    for i in range(2, n):\n",
    "        #if the number is divisible by i, then n is not a prime number.\n",
    "        if(n % i == 0):\n",
    "            return False\n",
    "    \n",
    "    # otherwise, n is prime number.\n",
    "    return True\n",
    "\n",
    "\n",
    "\n",
    "# Driver code\n",
    "# N = 100;\n",
    "N = int(input(\"Enter the N: \"))\n",
    "\n",
    "# check for every number from 1 to N\n",
    "for i in range(1, N + 1):\n",
    "    \n",
    "    # check if current number is prime\n",
    "    if(isPrime(i)):\n",
    "        print(i, end = \" \")\n"
   ]
  },
  {
   "cell_type": "markdown",
   "id": "d6a5eb19",
   "metadata": {},
   "source": [
    "Given a number n create a list with first n fibonacci numbers."
   ]
  },
  {
   "cell_type": "code",
   "execution_count": 30,
   "id": "9401aaa2",
   "metadata": {},
   "outputs": [
    {
     "name": "stdout",
     "output_type": "stream",
     "text": [
      "Enter n: 14\n"
     ]
    },
    {
     "data": {
      "text/plain": [
       "[0, 1, 1, 2, 3, 5, 8, 13, 21, 34, 55, 89, 144, 233, 377]"
      ]
     },
     "execution_count": 30,
     "metadata": {},
     "output_type": "execute_result"
    }
   ],
   "source": [
    "def fib(n):\n",
    "    if n == 0:\n",
    "        return [0]\n",
    "    elif n == 1:\n",
    "        return [0, 1]\n",
    "    else:\n",
    "        lst = fib(n - 1)\n",
    "        lst.append(lst[-1] + lst[-2])\n",
    "        return lst\n",
    "n = int(input(\"Enter n: \"))\n",
    "fib(n)"
   ]
  }
 ],
 "metadata": {
  "kernelspec": {
   "display_name": "Python 3 (ipykernel)",
   "language": "python",
   "name": "python3"
  },
  "language_info": {
   "codemirror_mode": {
    "name": "ipython",
    "version": 3
   },
   "file_extension": ".py",
   "mimetype": "text/x-python",
   "name": "python",
   "nbconvert_exporter": "python",
   "pygments_lexer": "ipython3",
   "version": "3.10.2"
  }
 },
 "nbformat": 4,
 "nbformat_minor": 5
}
