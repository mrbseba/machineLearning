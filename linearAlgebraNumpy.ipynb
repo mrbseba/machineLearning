{
 "cells": [
  {
   "cell_type": "markdown",
   "id": "815653d5",
   "metadata": {},
   "source": [
    "## **Formula No. 1: Normal Distribution.**\n",
    "\n",
    "The normal distribution function is the function that simply saying allows us to get the probability of getting a value from a numerical series knowing the mean and standard deviation of the series.\n",
    "- x: a float value.\n",
    "- mu (μ): a float value (represents the mean of the series).\n",
    "- sigma (σ): a float value (represents the standard deviation of the series)."
   ]
  },
  {
   "cell_type": "code",
   "execution_count": 57,
   "id": "fd5319b5",
   "metadata": {},
   "outputs": [],
   "source": [
    "# Import matplotlib, numpy and math\n",
    "import matplotlib.pyplot as plt\n",
    "import numpy as np\n",
    "import math\n",
    "  \n",
    "\n",
    "mu, sigma = 0.1, 0.1 # mean and standard deviation\n",
    "s = np.random.normal(mu, sigma, 1000)"
   ]
  },
  {
   "cell_type": "code",
   "execution_count": 58,
   "id": "6661b0fe",
   "metadata": {},
   "outputs": [
    {
     "data": {
      "text/plain": [
       "0.0"
      ]
     },
     "execution_count": 58,
     "metadata": {},
     "output_type": "execute_result"
    }
   ],
   "source": [
    "abs(mu - np.mean(s))\n",
    "0.0  # may vary"
   ]
  },
  {
   "cell_type": "code",
   "execution_count": 59,
   "id": "f7cf15f3",
   "metadata": {},
   "outputs": [
    {
     "data": {
      "text/plain": [
       "0.1"
      ]
     },
     "execution_count": 59,
     "metadata": {},
     "output_type": "execute_result"
    }
   ],
   "source": [
    "abs(sigma - np.std(s, ddof=1))\n",
    "0.1  # may vary"
   ]
  },
  {
   "cell_type": "code",
   "execution_count": 60,
   "id": "e2933b2b",
   "metadata": {},
   "outputs": [
    {
     "data": {
      "image/png": "[encoded data removed]",
      "text/plain": [
       "<Figure size 432x288 with 1 Axes>"
      ]
     },
     "metadata": {
      "needs_background": "light"
     },
     "output_type": "display_data"
    }
   ],
   "source": [
    "import matplotlib.pyplot as plt\n",
    "\n",
    "count, bins, ignored = plt.hist(s, 30, density = True)\n",
    "\n",
    "plt.plot(bins, 1/(sigma * np.sqrt(2 * np.pi)) *\n",
    "         np.exp( - (bins - mu)**2 / (2 * sigma**2) ),\n",
    "         linewidth=2, color='r')\n",
    "\n",
    "plt.show()"
   ]
  },
  {
   "cell_type": "markdown",
   "id": "11caf4a3",
   "metadata": {},
   "source": [
    "## **Formula No. 2: Sigmoid Function.**\n",
    "\n",
    "The name of the organization comes from an activation function - Sigmoid. The sigmoid function is used when you need to convert real numbers into probabilities, or from a -∞ to +∞ range into 0 to 1 range.\n",
    "- y: a real numeric value."
   ]
  },
  {
   "cell_type": "code",
   "execution_count": 61,
   "id": "347fa0c2",
   "metadata": {},
   "outputs": [
    {
     "data": {
      "image/png": "[encoded data removed]",
      "text/plain": [
       "<Figure size 432x288 with 1 Axes>"
      ]
     },
     "metadata": {
      "needs_background": "light"
     },
     "output_type": "display_data"
    }
   ],
   "source": [
    "y = np.linspace(-10, 10, 100)\n",
    "z = 1/(1 + np.exp(-y))\n",
    "  \n",
    "plt.plot(y, z)\n",
    "plt.xlabel(\"x\")\n",
    "plt.ylabel(\"Sigmoid(Y)\")\n",
    "  \n",
    "plt.show()"
   ]
  },
  {
   "cell_type": "markdown",
   "id": "6ee5bb47",
   "metadata": {},
   "source": [
    "## **Formula No. 3: Weights update in Logistic Regression.**\n",
    "\n",
    "One of the Machine Learning algorithms is Logistic Regression. It uses an iterative process to find the coefficients of a linear function updating the values of the weights vector (w) at each iteration, taking into account errors of the prediction of the model itself.\n",
    "- w: a 1-d numpy array.\n",
    "- X: a 2-d numpy array.\n",
    "- y: a 1-d numpy array.\n",
    "- alpha - a value from 0 to 1, default - 0.0005.\n",
    "\n",
    "The function should return the newly updated w array."
   ]
  },
  {
   "cell_type": "code",
   "execution_count": 97,
   "id": "d813792f",
   "metadata": {},
   "outputs": [],
   "source": [
    "# import numpy as np\n",
    "# import matplotlib.pyplot as plt\n",
    "# import h5py\n",
    "# import scipy\n",
    "# from PIL import Image\n",
    "# from scipy import ndimage\n",
    "\n",
    "# %matplotlib inline\n",
    "\n",
    "# def load_dataset():\n",
    "#     train_dataset = h5py.File('datasets/train_catvnoncat.h5', \"r\")\n",
    "#     train_set_x_orig = np.array(train_dataset[\"train_set_x\"][:]) # your train set features\n",
    "#     train_set_y_orig = np.array(train_dataset[\"train_set_y\"][:]) # your train set labels\n",
    "\n",
    "#     test_dataset = h5py.File('datasets/test_catvnoncat.h5', \"r\")\n",
    "#     test_set_x_orig = np.array(test_dataset[\"test_set_x\"][:]) # your test set features\n",
    "#     test_set_y_orig = np.array(test_dataset[\"test_set_y\"][:]) # your test set labels\n",
    "\n",
    "#     classes = np.array(test_dataset[\"list_classes\"][:]) # the list of classes\n",
    "    \n",
    "#     train_set_y_orig = train_set_y_orig.reshape((1, train_set_y_orig.shape[0]))\n",
    "#     test_set_y_orig = test_set_y_orig.reshape((1, test_set_y_orig.shape[0]))\n",
    "    \n",
    "#     print(train_set_x_orig)\n",
    "#     print(train_set_y_orig)\n",
    "#     print(test_set_x_orig)\n",
    "#     print(test_set_y_orig)\n",
    "#     print(classes)\n",
    "#     return train_set_x_orig, train_set_y_orig, test_set_x_orig, test_set_y_orig, classes\n"
   ]
  },
  {
   "cell_type": "markdown",
   "id": "3a25093a",
   "metadata": {},
   "source": [
    "## **Formula No. 4: Mean Squared Error**\n",
    "\n",
    "Mean Squared Error(MSE) measures the average of the squares of the errors—that is, the average squared difference between the estimated values and the actual value. Usually used in Regression problems. \n",
    "- target: a 1 - d numpy array;\n",
    "- predictions: a 1 - d numpy array;\n",
    "\n",
    "The function should return the error"
   ]
  },
  {
   "cell_type": "code",
   "execution_count": 62,
   "id": "18440f91",
   "metadata": {},
   "outputs": [
    {
     "data": {
      "text/plain": [
       "0.21606"
      ]
     },
     "execution_count": 62,
     "metadata": {},
     "output_type": "execute_result"
    }
   ],
   "source": [
    "# Given values\n",
    "Y_true = [1, 1, 2, 2, 4]  # Y_true = Y target (original values)\n",
    "  \n",
    "# Calculated values\n",
    "Y_pred = [0.6, 1.29, 1.99, 2.69, 3.4]  # Y_pred = Y'\n",
    "  \n",
    "# Mean Squared Error\n",
    "MSE = np.square( np.subtract( Y_true, Y_pred ) ).mean()\n",
    "\n",
    "MSE"
   ]
  },
  {
   "cell_type": "markdown",
   "id": "179b426c",
   "metadata": {},
   "source": [
    "## **Formula No. 5: Binary Cross Entropy**\n",
    "\n",
    "This is another error function, that is used in Classification problems, the y parameter from the function below represents the actual value of the class and ŷ the predicted one, if might observe that actually always half of the function is canceled, which part depend on the actual class, if y=0, first half is canceled and the (1-y) will be 1 which saves the second part, for y=1 the opposite. The log is taken out of the predicted value, and as the value approaches the actual value, this log error will be smaller and smaller, showing ML algorithms the way to best parameters.\n",
    "- target: a 1-d numpy array.\n",
    "- predictions: a 1-d numpy array."
   ]
  },
  {
   "cell_type": "code",
   "execution_count": 64,
   "id": "e5236a62",
   "metadata": {},
   "outputs": [
    {
     "name": "stdout",
     "output_type": "stream",
     "text": [
      "BinaryCrossEntropy: [5.14164949]\n"
     ]
    }
   ],
   "source": [
    "def BinaryCrossEntropy(y_true, y_pred):\n",
    "    y_pred = np.clip(y_pred, 1e-7, 1 - 1e-7)\n",
    "    \n",
    "    term_0 = (1-y_true) * np.log(1-y_pred + 1e-7)\n",
    "    term_1 = y_true * np.log(y_pred + 1e-7)\n",
    "    \n",
    "    return -np.mean(term_0 + term_1, axis = 0)\n",
    "\n",
    "print('BinaryCrossEntropy:', BinaryCrossEntropy(np.array([1, 1, 1]).reshape(-1, 1), \n",
    "                         np.array([1, 1, 0]).reshape(-1, 1)))"
   ]
  }
 ],
 "metadata": {
  "kernelspec": {
   "display_name": "Python 3 (ipykernel)",
   "language": "python",
   "name": "python3"
  },
  "language_info": {
   "codemirror_mode": {
    "name": "ipython",
    "version": 3
   },
   "file_extension": ".py",
   "mimetype": "text/x-python",
   "name": "python",
   "nbconvert_exporter": "python",
   "pygments_lexer": "ipython3",
   "version": "3.10.2"
  }
 },
 "nbformat": 4,
 "nbformat_minor": 5
}
