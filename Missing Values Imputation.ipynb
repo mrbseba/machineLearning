{
 "cells": [
  {
   "cell_type": "markdown",
   "id": "effe41cf",
   "metadata": {},
   "source": [
    "As you learned from the last topic, data rarely comes in a structured way with all values filled. Usually, the data comes with missing values along the way, which you need to handle, and this is what you will do in this homework."
   ]
  },
  {
   "cell_type": "code",
   "execution_count": 2,
   "id": "732c8f01",
   "metadata": {},
   "outputs": [],
   "source": [
    "# import libraries\n",
    "import pandas as pd\n",
    "import numpy as np"
   ]
  },
  {
   "cell_type": "markdown",
   "id": "11ecf701",
   "metadata": {},
   "source": [
    "### Let’s begin by importing the Data Set"
   ]
  },
  {
   "cell_type": "code",
   "execution_count": 3,
   "id": "a81796d3",
   "metadata": {},
   "outputs": [],
   "source": [
    "df = pd.read_csv('HousingData.csv')"
   ]
  },
  {
   "cell_type": "code",
   "execution_count": 4,
   "id": "d7123151",
   "metadata": {},
   "outputs": [
    {
     "data": {
      "text/html": [
       "<div>\n",
       "<style scoped>\n",
       "    .dataframe tbody tr th:only-of-type {\n",
       "        vertical-align: middle;\n",
       "    }\n",
       "\n",
       "    .dataframe tbody tr th {\n",
       "        vertical-align: top;\n",
       "    }\n",
       "\n",
       "    .dataframe thead th {\n",
       "        text-align: right;\n",
       "    }\n",
       "</style>\n",
       "<table border=\"1\" class=\"dataframe\">\n",
       "  <thead>\n",
       "    <tr style=\"text-align: right;\">\n",
       "      <th></th>\n",
       "      <th>CRIM</th>\n",
       "      <th>ZN</th>\n",
       "      <th>INDUS</th>\n",
       "      <th>CHAS</th>\n",
       "      <th>NOX</th>\n",
       "      <th>RM</th>\n",
       "      <th>AGE</th>\n",
       "      <th>DIS</th>\n",
       "      <th>RAD</th>\n",
       "      <th>TAX</th>\n",
       "      <th>PTRATIO</th>\n",
       "      <th>B</th>\n",
       "      <th>LSTAT</th>\n",
       "      <th>MEDV</th>\n",
       "    </tr>\n",
       "  </thead>\n",
       "  <tbody>\n",
       "    <tr>\n",
       "      <th>0</th>\n",
       "      <td>0.00632</td>\n",
       "      <td>18.0</td>\n",
       "      <td>2.31</td>\n",
       "      <td>0.0</td>\n",
       "      <td>0.538</td>\n",
       "      <td>6.575</td>\n",
       "      <td>65.2</td>\n",
       "      <td>4.0900</td>\n",
       "      <td>1</td>\n",
       "      <td>296</td>\n",
       "      <td>15.3</td>\n",
       "      <td>396.90</td>\n",
       "      <td>4.98</td>\n",
       "      <td>24.0</td>\n",
       "    </tr>\n",
       "    <tr>\n",
       "      <th>1</th>\n",
       "      <td>0.02731</td>\n",
       "      <td>0.0</td>\n",
       "      <td>7.07</td>\n",
       "      <td>0.0</td>\n",
       "      <td>0.469</td>\n",
       "      <td>6.421</td>\n",
       "      <td>78.9</td>\n",
       "      <td>4.9671</td>\n",
       "      <td>2</td>\n",
       "      <td>242</td>\n",
       "      <td>17.8</td>\n",
       "      <td>396.90</td>\n",
       "      <td>9.14</td>\n",
       "      <td>21.6</td>\n",
       "    </tr>\n",
       "    <tr>\n",
       "      <th>2</th>\n",
       "      <td>0.02729</td>\n",
       "      <td>0.0</td>\n",
       "      <td>7.07</td>\n",
       "      <td>0.0</td>\n",
       "      <td>0.469</td>\n",
       "      <td>7.185</td>\n",
       "      <td>61.1</td>\n",
       "      <td>4.9671</td>\n",
       "      <td>2</td>\n",
       "      <td>242</td>\n",
       "      <td>17.8</td>\n",
       "      <td>392.83</td>\n",
       "      <td>4.03</td>\n",
       "      <td>34.7</td>\n",
       "    </tr>\n",
       "    <tr>\n",
       "      <th>3</th>\n",
       "      <td>0.03237</td>\n",
       "      <td>0.0</td>\n",
       "      <td>2.18</td>\n",
       "      <td>0.0</td>\n",
       "      <td>0.458</td>\n",
       "      <td>6.998</td>\n",
       "      <td>45.8</td>\n",
       "      <td>6.0622</td>\n",
       "      <td>3</td>\n",
       "      <td>222</td>\n",
       "      <td>18.7</td>\n",
       "      <td>394.63</td>\n",
       "      <td>2.94</td>\n",
       "      <td>33.4</td>\n",
       "    </tr>\n",
       "    <tr>\n",
       "      <th>4</th>\n",
       "      <td>0.06905</td>\n",
       "      <td>0.0</td>\n",
       "      <td>2.18</td>\n",
       "      <td>0.0</td>\n",
       "      <td>0.458</td>\n",
       "      <td>7.147</td>\n",
       "      <td>54.2</td>\n",
       "      <td>6.0622</td>\n",
       "      <td>3</td>\n",
       "      <td>222</td>\n",
       "      <td>18.7</td>\n",
       "      <td>396.90</td>\n",
       "      <td>NaN</td>\n",
       "      <td>36.2</td>\n",
       "    </tr>\n",
       "    <tr>\n",
       "      <th>5</th>\n",
       "      <td>0.02985</td>\n",
       "      <td>0.0</td>\n",
       "      <td>2.18</td>\n",
       "      <td>0.0</td>\n",
       "      <td>0.458</td>\n",
       "      <td>6.430</td>\n",
       "      <td>58.7</td>\n",
       "      <td>6.0622</td>\n",
       "      <td>3</td>\n",
       "      <td>222</td>\n",
       "      <td>18.7</td>\n",
       "      <td>394.12</td>\n",
       "      <td>5.21</td>\n",
       "      <td>28.7</td>\n",
       "    </tr>\n",
       "    <tr>\n",
       "      <th>6</th>\n",
       "      <td>0.08829</td>\n",
       "      <td>12.5</td>\n",
       "      <td>7.87</td>\n",
       "      <td>NaN</td>\n",
       "      <td>0.524</td>\n",
       "      <td>6.012</td>\n",
       "      <td>66.6</td>\n",
       "      <td>5.5605</td>\n",
       "      <td>5</td>\n",
       "      <td>311</td>\n",
       "      <td>15.2</td>\n",
       "      <td>395.60</td>\n",
       "      <td>12.43</td>\n",
       "      <td>22.9</td>\n",
       "    </tr>\n",
       "    <tr>\n",
       "      <th>7</th>\n",
       "      <td>0.14455</td>\n",
       "      <td>12.5</td>\n",
       "      <td>7.87</td>\n",
       "      <td>0.0</td>\n",
       "      <td>0.524</td>\n",
       "      <td>6.172</td>\n",
       "      <td>96.1</td>\n",
       "      <td>5.9505</td>\n",
       "      <td>5</td>\n",
       "      <td>311</td>\n",
       "      <td>15.2</td>\n",
       "      <td>396.90</td>\n",
       "      <td>19.15</td>\n",
       "      <td>27.1</td>\n",
       "    </tr>\n",
       "    <tr>\n",
       "      <th>8</th>\n",
       "      <td>0.21124</td>\n",
       "      <td>12.5</td>\n",
       "      <td>7.87</td>\n",
       "      <td>0.0</td>\n",
       "      <td>0.524</td>\n",
       "      <td>5.631</td>\n",
       "      <td>100.0</td>\n",
       "      <td>6.0821</td>\n",
       "      <td>5</td>\n",
       "      <td>311</td>\n",
       "      <td>15.2</td>\n",
       "      <td>386.63</td>\n",
       "      <td>29.93</td>\n",
       "      <td>16.5</td>\n",
       "    </tr>\n",
       "    <tr>\n",
       "      <th>9</th>\n",
       "      <td>0.17004</td>\n",
       "      <td>12.5</td>\n",
       "      <td>7.87</td>\n",
       "      <td>NaN</td>\n",
       "      <td>0.524</td>\n",
       "      <td>6.004</td>\n",
       "      <td>85.9</td>\n",
       "      <td>6.5921</td>\n",
       "      <td>5</td>\n",
       "      <td>311</td>\n",
       "      <td>15.2</td>\n",
       "      <td>386.71</td>\n",
       "      <td>17.10</td>\n",
       "      <td>18.9</td>\n",
       "    </tr>\n",
       "  </tbody>\n",
       "</table>\n",
       "</div>"
      ],
      "text/plain": [
       "      CRIM    ZN  INDUS  CHAS    NOX     RM    AGE     DIS  RAD  TAX  PTRATIO  \\\n",
       "0  0.00632  18.0   2.31   0.0  0.538  6.575   65.2  4.0900    1  296     15.3   \n",
       "1  0.02731   0.0   7.07   0.0  0.469  6.421   78.9  4.9671    2  242     17.8   \n",
       "2  0.02729   0.0   7.07   0.0  0.469  7.185   61.1  4.9671    2  242     17.8   \n",
       "3  0.03237   0.0   2.18   0.0  0.458  6.998   45.8  6.0622    3  222     18.7   \n",
       "4  0.06905   0.0   2.18   0.0  0.458  7.147   54.2  6.0622    3  222     18.7   \n",
       "5  0.02985   0.0   2.18   0.0  0.458  6.430   58.7  6.0622    3  222     18.7   \n",
       "6  0.08829  12.5   7.87   NaN  0.524  6.012   66.6  5.5605    5  311     15.2   \n",
       "7  0.14455  12.5   7.87   0.0  0.524  6.172   96.1  5.9505    5  311     15.2   \n",
       "8  0.21124  12.5   7.87   0.0  0.524  5.631  100.0  6.0821    5  311     15.2   \n",
       "9  0.17004  12.5   7.87   NaN  0.524  6.004   85.9  6.5921    5  311     15.2   \n",
       "\n",
       "        B  LSTAT  MEDV  \n",
       "0  396.90   4.98  24.0  \n",
       "1  396.90   9.14  21.6  \n",
       "2  392.83   4.03  34.7  \n",
       "3  394.63   2.94  33.4  \n",
       "4  396.90    NaN  36.2  \n",
       "5  394.12   5.21  28.7  \n",
       "6  395.60  12.43  22.9  \n",
       "7  396.90  19.15  27.1  \n",
       "8  386.63  29.93  16.5  \n",
       "9  386.71  17.10  18.9  "
      ]
     },
     "execution_count": 4,
     "metadata": {},
     "output_type": "execute_result"
    }
   ],
   "source": [
    "df.head(10)"
   ]
  },
  {
   "cell_type": "code",
   "execution_count": 5,
   "id": "750d922c",
   "metadata": {},
   "outputs": [
    {
     "name": "stdout",
     "output_type": "stream",
     "text": [
      "<class 'pandas.core.frame.DataFrame'>\n",
      "RangeIndex: 506 entries, 0 to 505\n",
      "Data columns (total 14 columns):\n",
      " #   Column   Non-Null Count  Dtype  \n",
      "---  ------   --------------  -----  \n",
      " 0   CRIM     486 non-null    float64\n",
      " 1   ZN       486 non-null    float64\n",
      " 2   INDUS    486 non-null    float64\n",
      " 3   CHAS     486 non-null    float64\n",
      " 4   NOX      506 non-null    float64\n",
      " 5   RM       506 non-null    float64\n",
      " 6   AGE      486 non-null    float64\n",
      " 7   DIS      506 non-null    float64\n",
      " 8   RAD      506 non-null    int64  \n",
      " 9   TAX      506 non-null    int64  \n",
      " 10  PTRATIO  506 non-null    float64\n",
      " 11  B        506 non-null    float64\n",
      " 12  LSTAT    486 non-null    float64\n",
      " 13  MEDV     506 non-null    float64\n",
      "dtypes: float64(12), int64(2)\n",
      "memory usage: 55.5 KB\n"
     ]
    }
   ],
   "source": [
    "df.info()"
   ]
  },
  {
   "cell_type": "code",
   "execution_count": 6,
   "id": "7d15efb4",
   "metadata": {},
   "outputs": [
    {
     "data": {
      "text/html": [
       "<div>\n",
       "<style scoped>\n",
       "    .dataframe tbody tr th:only-of-type {\n",
       "        vertical-align: middle;\n",
       "    }\n",
       "\n",
       "    .dataframe tbody tr th {\n",
       "        vertical-align: top;\n",
       "    }\n",
       "\n",
       "    .dataframe thead th {\n",
       "        text-align: right;\n",
       "    }\n",
       "</style>\n",
       "<table border=\"1\" class=\"dataframe\">\n",
       "  <thead>\n",
       "    <tr style=\"text-align: right;\">\n",
       "      <th></th>\n",
       "      <th>CRIM</th>\n",
       "      <th>ZN</th>\n",
       "      <th>INDUS</th>\n",
       "      <th>CHAS</th>\n",
       "      <th>NOX</th>\n",
       "      <th>RM</th>\n",
       "      <th>AGE</th>\n",
       "      <th>DIS</th>\n",
       "      <th>RAD</th>\n",
       "      <th>TAX</th>\n",
       "      <th>PTRATIO</th>\n",
       "      <th>B</th>\n",
       "      <th>LSTAT</th>\n",
       "      <th>MEDV</th>\n",
       "    </tr>\n",
       "  </thead>\n",
       "  <tbody>\n",
       "    <tr>\n",
       "      <th>count</th>\n",
       "      <td>486.000000</td>\n",
       "      <td>486.000000</td>\n",
       "      <td>486.000000</td>\n",
       "      <td>486.000000</td>\n",
       "      <td>506.000000</td>\n",
       "      <td>506.000000</td>\n",
       "      <td>486.000000</td>\n",
       "      <td>506.000000</td>\n",
       "      <td>506.000000</td>\n",
       "      <td>506.000000</td>\n",
       "      <td>506.000000</td>\n",
       "      <td>506.000000</td>\n",
       "      <td>486.000000</td>\n",
       "      <td>506.000000</td>\n",
       "    </tr>\n",
       "    <tr>\n",
       "      <th>mean</th>\n",
       "      <td>3.611874</td>\n",
       "      <td>11.211934</td>\n",
       "      <td>11.083992</td>\n",
       "      <td>0.069959</td>\n",
       "      <td>0.554695</td>\n",
       "      <td>6.284634</td>\n",
       "      <td>68.518519</td>\n",
       "      <td>3.795043</td>\n",
       "      <td>9.549407</td>\n",
       "      <td>408.237154</td>\n",
       "      <td>18.455534</td>\n",
       "      <td>356.674032</td>\n",
       "      <td>12.715432</td>\n",
       "      <td>22.532806</td>\n",
       "    </tr>\n",
       "    <tr>\n",
       "      <th>std</th>\n",
       "      <td>8.720192</td>\n",
       "      <td>23.388876</td>\n",
       "      <td>6.835896</td>\n",
       "      <td>0.255340</td>\n",
       "      <td>0.115878</td>\n",
       "      <td>0.702617</td>\n",
       "      <td>27.999513</td>\n",
       "      <td>2.105710</td>\n",
       "      <td>8.707259</td>\n",
       "      <td>168.537116</td>\n",
       "      <td>2.164946</td>\n",
       "      <td>91.294864</td>\n",
       "      <td>7.155871</td>\n",
       "      <td>9.197104</td>\n",
       "    </tr>\n",
       "    <tr>\n",
       "      <th>min</th>\n",
       "      <td>0.006320</td>\n",
       "      <td>0.000000</td>\n",
       "      <td>0.460000</td>\n",
       "      <td>0.000000</td>\n",
       "      <td>0.385000</td>\n",
       "      <td>3.561000</td>\n",
       "      <td>2.900000</td>\n",
       "      <td>1.129600</td>\n",
       "      <td>1.000000</td>\n",
       "      <td>187.000000</td>\n",
       "      <td>12.600000</td>\n",
       "      <td>0.320000</td>\n",
       "      <td>1.730000</td>\n",
       "      <td>5.000000</td>\n",
       "    </tr>\n",
       "    <tr>\n",
       "      <th>25%</th>\n",
       "      <td>0.081900</td>\n",
       "      <td>0.000000</td>\n",
       "      <td>5.190000</td>\n",
       "      <td>0.000000</td>\n",
       "      <td>0.449000</td>\n",
       "      <td>5.885500</td>\n",
       "      <td>45.175000</td>\n",
       "      <td>2.100175</td>\n",
       "      <td>4.000000</td>\n",
       "      <td>279.000000</td>\n",
       "      <td>17.400000</td>\n",
       "      <td>375.377500</td>\n",
       "      <td>7.125000</td>\n",
       "      <td>17.025000</td>\n",
       "    </tr>\n",
       "    <tr>\n",
       "      <th>50%</th>\n",
       "      <td>0.253715</td>\n",
       "      <td>0.000000</td>\n",
       "      <td>9.690000</td>\n",
       "      <td>0.000000</td>\n",
       "      <td>0.538000</td>\n",
       "      <td>6.208500</td>\n",
       "      <td>76.800000</td>\n",
       "      <td>3.207450</td>\n",
       "      <td>5.000000</td>\n",
       "      <td>330.000000</td>\n",
       "      <td>19.050000</td>\n",
       "      <td>391.440000</td>\n",
       "      <td>11.430000</td>\n",
       "      <td>21.200000</td>\n",
       "    </tr>\n",
       "    <tr>\n",
       "      <th>75%</th>\n",
       "      <td>3.560263</td>\n",
       "      <td>12.500000</td>\n",
       "      <td>18.100000</td>\n",
       "      <td>0.000000</td>\n",
       "      <td>0.624000</td>\n",
       "      <td>6.623500</td>\n",
       "      <td>93.975000</td>\n",
       "      <td>5.188425</td>\n",
       "      <td>24.000000</td>\n",
       "      <td>666.000000</td>\n",
       "      <td>20.200000</td>\n",
       "      <td>396.225000</td>\n",
       "      <td>16.955000</td>\n",
       "      <td>25.000000</td>\n",
       "    </tr>\n",
       "    <tr>\n",
       "      <th>max</th>\n",
       "      <td>88.976200</td>\n",
       "      <td>100.000000</td>\n",
       "      <td>27.740000</td>\n",
       "      <td>1.000000</td>\n",
       "      <td>0.871000</td>\n",
       "      <td>8.780000</td>\n",
       "      <td>100.000000</td>\n",
       "      <td>12.126500</td>\n",
       "      <td>24.000000</td>\n",
       "      <td>711.000000</td>\n",
       "      <td>22.000000</td>\n",
       "      <td>396.900000</td>\n",
       "      <td>37.970000</td>\n",
       "      <td>50.000000</td>\n",
       "    </tr>\n",
       "  </tbody>\n",
       "</table>\n",
       "</div>"
      ],
      "text/plain": [
       "             CRIM          ZN       INDUS        CHAS         NOX          RM  \\\n",
       "count  486.000000  486.000000  486.000000  486.000000  506.000000  506.000000   \n",
       "mean     3.611874   11.211934   11.083992    0.069959    0.554695    6.284634   \n",
       "std      8.720192   23.388876    6.835896    0.255340    0.115878    0.702617   \n",
       "min      0.006320    0.000000    0.460000    0.000000    0.385000    3.561000   \n",
       "25%      0.081900    0.000000    5.190000    0.000000    0.449000    5.885500   \n",
       "50%      0.253715    0.000000    9.690000    0.000000    0.538000    6.208500   \n",
       "75%      3.560263   12.500000   18.100000    0.000000    0.624000    6.623500   \n",
       "max     88.976200  100.000000   27.740000    1.000000    0.871000    8.780000   \n",
       "\n",
       "              AGE         DIS         RAD         TAX     PTRATIO           B  \\\n",
       "count  486.000000  506.000000  506.000000  506.000000  506.000000  506.000000   \n",
       "mean    68.518519    3.795043    9.549407  408.237154   18.455534  356.674032   \n",
       "std     27.999513    2.105710    8.707259  168.537116    2.164946   91.294864   \n",
       "min      2.900000    1.129600    1.000000  187.000000   12.600000    0.320000   \n",
       "25%     45.175000    2.100175    4.000000  279.000000   17.400000  375.377500   \n",
       "50%     76.800000    3.207450    5.000000  330.000000   19.050000  391.440000   \n",
       "75%     93.975000    5.188425   24.000000  666.000000   20.200000  396.225000   \n",
       "max    100.000000   12.126500   24.000000  711.000000   22.000000  396.900000   \n",
       "\n",
       "            LSTAT        MEDV  \n",
       "count  486.000000  506.000000  \n",
       "mean    12.715432   22.532806  \n",
       "std      7.155871    9.197104  \n",
       "min      1.730000    5.000000  \n",
       "25%      7.125000   17.025000  \n",
       "50%     11.430000   21.200000  \n",
       "75%     16.955000   25.000000  \n",
       "max     37.970000   50.000000  "
      ]
     },
     "execution_count": 6,
     "metadata": {},
     "output_type": "execute_result"
    }
   ],
   "source": [
    "df.describe()"
   ]
  },
  {
   "cell_type": "markdown",
   "id": "7ad3089d",
   "metadata": {},
   "source": [
    "describe() is a function in the Pandas library in Python. It generates descriptive statistics of a pandas dataframe.\n",
    "\n",
    "The values 25%, 50% and 75% are quartiles. They represent the 25th percentile (lower quartile), 50th percentile (median) and 75th percentile (upper quartile) respectively. These statistics provide information about the distribution of the data in a dataframe, such as the range of values and how the values are spread across the data."
   ]
  },
  {
   "cell_type": "markdown",
   "id": "dd952af5",
   "metadata": {},
   "source": [
    "### Create a (bar) plot showing the number of missing values in every column. "
   ]
  },
  {
   "cell_type": "code",
   "execution_count": 7,
   "id": "2a323ad3",
   "metadata": {},
   "outputs": [
    {
     "data": {
      "image/png": "[encoded data removed]",
      "text/plain": [
       "<Figure size 720x360 with 1 Axes>"
      ]
     },
     "metadata": {
      "needs_background": "light"
     },
     "output_type": "display_data"
    }
   ],
   "source": [
    "import matplotlib.pyplot as plt\n",
    "import seaborn as sns\n",
    "\n",
    "# Calculate the number of missing values in each column\n",
    "missing = df.isnull().sum()\n",
    "\n",
    "# Plot the number of missing values in each column\n",
    "plt.figure(figsize=(10,5))\n",
    "sns.barplot(x=missing.index, y=missing.values)\n",
    "\n",
    "# Add labels and title to the plot\n",
    "plt.xlabel(\"Columns\")\n",
    "plt.ylabel(\"Number of Missing Values\")\n",
    "plt.title(\"Number of Missing Values in Each Column\")\n",
    "\n",
    "# Show the plot\n",
    "plt.show()"
   ]
  },
  {
   "cell_type": "markdown",
   "id": "4f54730f",
   "metadata": {},
   "source": [
    "### Split the Data Set into the train and test sets"
   ]
  },
  {
   "cell_type": "code",
   "execution_count": 8,
   "id": "787082d9",
   "metadata": {},
   "outputs": [],
   "source": [
    "from sklearn.model_selection import train_test_split"
   ]
  },
  {
   "cell_type": "code",
   "execution_count": 9,
   "id": "587615ab",
   "metadata": {},
   "outputs": [],
   "source": [
    "# split the dataset into features (X) and target (y)\n",
    "X = df.iloc[:, :-1]\n",
    "y = df.iloc[:, -1]"
   ]
  },
  {
   "cell_type": "code",
   "execution_count": 10,
   "id": "ce3644a3",
   "metadata": {},
   "outputs": [
    {
     "data": {
      "text/html": [
       "<div>\n",
       "<style scoped>\n",
       "    .dataframe tbody tr th:only-of-type {\n",
       "        vertical-align: middle;\n",
       "    }\n",
       "\n",
       "    .dataframe tbody tr th {\n",
       "        vertical-align: top;\n",
       "    }\n",
       "\n",
       "    .dataframe thead th {\n",
       "        text-align: right;\n",
       "    }\n",
       "</style>\n",
       "<table border=\"1\" class=\"dataframe\">\n",
       "  <thead>\n",
       "    <tr style=\"text-align: right;\">\n",
       "      <th></th>\n",
       "      <th>CRIM</th>\n",
       "      <th>ZN</th>\n",
       "      <th>INDUS</th>\n",
       "      <th>CHAS</th>\n",
       "      <th>NOX</th>\n",
       "      <th>RM</th>\n",
       "      <th>AGE</th>\n",
       "      <th>DIS</th>\n",
       "      <th>RAD</th>\n",
       "      <th>TAX</th>\n",
       "      <th>PTRATIO</th>\n",
       "      <th>B</th>\n",
       "      <th>LSTAT</th>\n",
       "    </tr>\n",
       "  </thead>\n",
       "  <tbody>\n",
       "    <tr>\n",
       "      <th>0</th>\n",
       "      <td>0.00632</td>\n",
       "      <td>18.0</td>\n",
       "      <td>2.31</td>\n",
       "      <td>0.0</td>\n",
       "      <td>0.538</td>\n",
       "      <td>6.575</td>\n",
       "      <td>65.2</td>\n",
       "      <td>4.0900</td>\n",
       "      <td>1</td>\n",
       "      <td>296</td>\n",
       "      <td>15.3</td>\n",
       "      <td>396.90</td>\n",
       "      <td>4.98</td>\n",
       "    </tr>\n",
       "    <tr>\n",
       "      <th>1</th>\n",
       "      <td>0.02731</td>\n",
       "      <td>0.0</td>\n",
       "      <td>7.07</td>\n",
       "      <td>0.0</td>\n",
       "      <td>0.469</td>\n",
       "      <td>6.421</td>\n",
       "      <td>78.9</td>\n",
       "      <td>4.9671</td>\n",
       "      <td>2</td>\n",
       "      <td>242</td>\n",
       "      <td>17.8</td>\n",
       "      <td>396.90</td>\n",
       "      <td>9.14</td>\n",
       "    </tr>\n",
       "    <tr>\n",
       "      <th>2</th>\n",
       "      <td>0.02729</td>\n",
       "      <td>0.0</td>\n",
       "      <td>7.07</td>\n",
       "      <td>0.0</td>\n",
       "      <td>0.469</td>\n",
       "      <td>7.185</td>\n",
       "      <td>61.1</td>\n",
       "      <td>4.9671</td>\n",
       "      <td>2</td>\n",
       "      <td>242</td>\n",
       "      <td>17.8</td>\n",
       "      <td>392.83</td>\n",
       "      <td>4.03</td>\n",
       "    </tr>\n",
       "    <tr>\n",
       "      <th>3</th>\n",
       "      <td>0.03237</td>\n",
       "      <td>0.0</td>\n",
       "      <td>2.18</td>\n",
       "      <td>0.0</td>\n",
       "      <td>0.458</td>\n",
       "      <td>6.998</td>\n",
       "      <td>45.8</td>\n",
       "      <td>6.0622</td>\n",
       "      <td>3</td>\n",
       "      <td>222</td>\n",
       "      <td>18.7</td>\n",
       "      <td>394.63</td>\n",
       "      <td>2.94</td>\n",
       "    </tr>\n",
       "    <tr>\n",
       "      <th>4</th>\n",
       "      <td>0.06905</td>\n",
       "      <td>0.0</td>\n",
       "      <td>2.18</td>\n",
       "      <td>0.0</td>\n",
       "      <td>0.458</td>\n",
       "      <td>7.147</td>\n",
       "      <td>54.2</td>\n",
       "      <td>6.0622</td>\n",
       "      <td>3</td>\n",
       "      <td>222</td>\n",
       "      <td>18.7</td>\n",
       "      <td>396.90</td>\n",
       "      <td>NaN</td>\n",
       "    </tr>\n",
       "    <tr>\n",
       "      <th>...</th>\n",
       "      <td>...</td>\n",
       "      <td>...</td>\n",
       "      <td>...</td>\n",
       "      <td>...</td>\n",
       "      <td>...</td>\n",
       "      <td>...</td>\n",
       "      <td>...</td>\n",
       "      <td>...</td>\n",
       "      <td>...</td>\n",
       "      <td>...</td>\n",
       "      <td>...</td>\n",
       "      <td>...</td>\n",
       "      <td>...</td>\n",
       "    </tr>\n",
       "    <tr>\n",
       "      <th>501</th>\n",
       "      <td>0.06263</td>\n",
       "      <td>0.0</td>\n",
       "      <td>11.93</td>\n",
       "      <td>0.0</td>\n",
       "      <td>0.573</td>\n",
       "      <td>6.593</td>\n",
       "      <td>69.1</td>\n",
       "      <td>2.4786</td>\n",
       "      <td>1</td>\n",
       "      <td>273</td>\n",
       "      <td>21.0</td>\n",
       "      <td>391.99</td>\n",
       "      <td>NaN</td>\n",
       "    </tr>\n",
       "    <tr>\n",
       "      <th>502</th>\n",
       "      <td>0.04527</td>\n",
       "      <td>0.0</td>\n",
       "      <td>11.93</td>\n",
       "      <td>0.0</td>\n",
       "      <td>0.573</td>\n",
       "      <td>6.120</td>\n",
       "      <td>76.7</td>\n",
       "      <td>2.2875</td>\n",
       "      <td>1</td>\n",
       "      <td>273</td>\n",
       "      <td>21.0</td>\n",
       "      <td>396.90</td>\n",
       "      <td>9.08</td>\n",
       "    </tr>\n",
       "    <tr>\n",
       "      <th>503</th>\n",
       "      <td>0.06076</td>\n",
       "      <td>0.0</td>\n",
       "      <td>11.93</td>\n",
       "      <td>0.0</td>\n",
       "      <td>0.573</td>\n",
       "      <td>6.976</td>\n",
       "      <td>91.0</td>\n",
       "      <td>2.1675</td>\n",
       "      <td>1</td>\n",
       "      <td>273</td>\n",
       "      <td>21.0</td>\n",
       "      <td>396.90</td>\n",
       "      <td>5.64</td>\n",
       "    </tr>\n",
       "    <tr>\n",
       "      <th>504</th>\n",
       "      <td>0.10959</td>\n",
       "      <td>0.0</td>\n",
       "      <td>11.93</td>\n",
       "      <td>0.0</td>\n",
       "      <td>0.573</td>\n",
       "      <td>6.794</td>\n",
       "      <td>89.3</td>\n",
       "      <td>2.3889</td>\n",
       "      <td>1</td>\n",
       "      <td>273</td>\n",
       "      <td>21.0</td>\n",
       "      <td>393.45</td>\n",
       "      <td>6.48</td>\n",
       "    </tr>\n",
       "    <tr>\n",
       "      <th>505</th>\n",
       "      <td>0.04741</td>\n",
       "      <td>0.0</td>\n",
       "      <td>11.93</td>\n",
       "      <td>0.0</td>\n",
       "      <td>0.573</td>\n",
       "      <td>6.030</td>\n",
       "      <td>NaN</td>\n",
       "      <td>2.5050</td>\n",
       "      <td>1</td>\n",
       "      <td>273</td>\n",
       "      <td>21.0</td>\n",
       "      <td>396.90</td>\n",
       "      <td>7.88</td>\n",
       "    </tr>\n",
       "  </tbody>\n",
       "</table>\n",
       "<p>506 rows × 13 columns</p>\n",
       "</div>"
      ],
      "text/plain": [
       "        CRIM    ZN  INDUS  CHAS    NOX     RM   AGE     DIS  RAD  TAX  \\\n",
       "0    0.00632  18.0   2.31   0.0  0.538  6.575  65.2  4.0900    1  296   \n",
       "1    0.02731   0.0   7.07   0.0  0.469  6.421  78.9  4.9671    2  242   \n",
       "2    0.02729   0.0   7.07   0.0  0.469  7.185  61.1  4.9671    2  242   \n",
       "3    0.03237   0.0   2.18   0.0  0.458  6.998  45.8  6.0622    3  222   \n",
       "4    0.06905   0.0   2.18   0.0  0.458  7.147  54.2  6.0622    3  222   \n",
       "..       ...   ...    ...   ...    ...    ...   ...     ...  ...  ...   \n",
       "501  0.06263   0.0  11.93   0.0  0.573  6.593  69.1  2.4786    1  273   \n",
       "502  0.04527   0.0  11.93   0.0  0.573  6.120  76.7  2.2875    1  273   \n",
       "503  0.06076   0.0  11.93   0.0  0.573  6.976  91.0  2.1675    1  273   \n",
       "504  0.10959   0.0  11.93   0.0  0.573  6.794  89.3  2.3889    1  273   \n",
       "505  0.04741   0.0  11.93   0.0  0.573  6.030   NaN  2.5050    1  273   \n",
       "\n",
       "     PTRATIO       B  LSTAT  \n",
       "0       15.3  396.90   4.98  \n",
       "1       17.8  396.90   9.14  \n",
       "2       17.8  392.83   4.03  \n",
       "3       18.7  394.63   2.94  \n",
       "4       18.7  396.90    NaN  \n",
       "..       ...     ...    ...  \n",
       "501     21.0  391.99    NaN  \n",
       "502     21.0  396.90   9.08  \n",
       "503     21.0  396.90   5.64  \n",
       "504     21.0  393.45   6.48  \n",
       "505     21.0  396.90   7.88  \n",
       "\n",
       "[506 rows x 13 columns]"
      ]
     },
     "execution_count": 10,
     "metadata": {},
     "output_type": "execute_result"
    }
   ],
   "source": [
    "X"
   ]
  },
  {
   "cell_type": "code",
   "execution_count": 11,
   "id": "0f801dca",
   "metadata": {},
   "outputs": [
    {
     "data": {
      "text/plain": [
       "0      24.0\n",
       "1      21.6\n",
       "2      34.7\n",
       "3      33.4\n",
       "4      36.2\n",
       "       ... \n",
       "501    22.4\n",
       "502    20.6\n",
       "503    23.9\n",
       "504    22.0\n",
       "505    11.9\n",
       "Name: MEDV, Length: 506, dtype: float64"
      ]
     },
     "execution_count": 11,
     "metadata": {},
     "output_type": "execute_result"
    }
   ],
   "source": [
    "y"
   ]
  },
  {
   "cell_type": "code",
   "execution_count": 12,
   "id": "6181a56c",
   "metadata": {},
   "outputs": [],
   "source": [
    "# split the data into training and test sets\n",
    "X_train, X_test, y_train, y_test = train_test_split(X, y, test_size=0.3, random_state=0)"
   ]
  },
  {
   "cell_type": "markdown",
   "id": "e44a456d",
   "metadata": {},
   "source": [
    "### Create instances"
   ]
  },
  {
   "cell_type": "markdown",
   "id": "f8acc120",
   "metadata": {},
   "source": [
    "- Create an instance of the SimpleImputer with the strategy set as mean. (https://bit.ly/3Wh7tvN)"
   ]
  },
  {
   "cell_type": "code",
   "execution_count": 13,
   "id": "6e8143df",
   "metadata": {},
   "outputs": [],
   "source": [
    "from sklearn.impute import SimpleImputer\n",
    "\n",
    "# Create an instance of the SimpleImputer with the mean strategy\n",
    "imputerMean = SimpleImputer(strategy='mean')"
   ]
  },
  {
   "cell_type": "markdown",
   "id": "bf2b982b",
   "metadata": {},
   "source": [
    "Train imputer on the train Data Set."
   ]
  },
  {
   "cell_type": "markdown",
   "id": "9916ba64",
   "metadata": {},
   "source": [
    "Fill in the missing values on the train and test subset."
   ]
  },
  {
   "cell_type": "code",
   "execution_count": 14,
   "id": "780f3a80",
   "metadata": {},
   "outputs": [],
   "source": [
    "# Fit the mean imputer on the train and test data set\n",
    "X_train_mean = imputerMean.fit_transform(X_train) \n",
    "\n",
    "X_test_mean = imputerMean.transform(X_test)\n",
    "\n",
    "# de creat o variabila petru train - test\n",
    "# de facut fit - trans la un loc - la un loc"
   ]
  },
  {
   "cell_type": "markdown",
   "id": "6ef9dc2f",
   "metadata": {},
   "source": [
    "- Create an instance of the SimpleImputer with the strategy set as median."
   ]
  },
  {
   "cell_type": "code",
   "execution_count": 15,
   "id": "20111bb2",
   "metadata": {},
   "outputs": [],
   "source": [
    "from sklearn.impute import SimpleImputer\n",
    "\n",
    "# Create an instance of the SimpleImputer with the median strategy\n",
    "imputerMedian = SimpleImputer(strategy='median')"
   ]
  },
  {
   "cell_type": "markdown",
   "id": "03165e19",
   "metadata": {},
   "source": [
    "Train imputer on the train Data Set."
   ]
  },
  {
   "cell_type": "markdown",
   "id": "ca0af72a",
   "metadata": {},
   "source": [
    "Fill in the missing values on the train and test subset."
   ]
  },
  {
   "cell_type": "code",
   "execution_count": 16,
   "id": "fca656f6",
   "metadata": {},
   "outputs": [],
   "source": [
    "# Fit the median imputer on the train and test data set\n",
    "# Transform the train data set with the mean imputer\n",
    "X_train_median = imputerMedian.fit_transform(X_train)\n",
    "\n",
    "# Transform the test data set with the mean imputer\n",
    "X_test_median = imputerMedian.transform(X_test)\n"
   ]
  },
  {
   "cell_type": "markdown",
   "id": "35278936",
   "metadata": {},
   "source": [
    "- Create an instance of the SimpleImputer with the strategy set as constant and the fill value = 0. "
   ]
  },
  {
   "cell_type": "code",
   "execution_count": 17,
   "id": "5c031eb8",
   "metadata": {},
   "outputs": [],
   "source": [
    "from sklearn.impute import SimpleImputer\n",
    "\n",
    "# Create an instance of the SimpleImputer with the constant strategy and fill value = 0\n",
    "imputerConstant = SimpleImputer(strategy='constant', fill_value=0)"
   ]
  },
  {
   "cell_type": "markdown",
   "id": "71c0041b",
   "metadata": {},
   "source": [
    "Train imputer on the train Data Set."
   ]
  },
  {
   "cell_type": "markdown",
   "id": "5394fe0f",
   "metadata": {},
   "source": [
    "Fill in the missing values on the train and test subset."
   ]
  },
  {
   "cell_type": "code",
   "execution_count": 18,
   "id": "b2f9c7cb",
   "metadata": {
    "scrolled": true
   },
   "outputs": [],
   "source": [
    "# Fit the median imputer on the train adn test data set\n",
    "# Transform the train data set with the mean imputer\n",
    "X_train_Constant = imputerConstant.fit_transform(X_train)\n",
    "\n",
    "# Transform the test data set with the mean imputer\n",
    "X_test_Constant = imputerConstant.transform(X_test)"
   ]
  },
  {
   "cell_type": "markdown",
   "id": "c3af97aa",
   "metadata": {},
   "source": [
    "__- Create an instance of the CDI from reparo.__ "
   ]
  },
  {
   "cell_type": "code",
   "execution_count": 19,
   "id": "bea84378",
   "metadata": {},
   "outputs": [],
   "source": [
    "# import CDI\n",
    "from reparo import CDI\n",
    "\n",
    "# Create an instance of the CDI\n",
    "imputerCDI = CDI()"
   ]
  },
  {
   "cell_type": "markdown",
   "id": "dc9c868a",
   "metadata": {},
   "source": [
    "Train imputer on the train Data Set."
   ]
  },
  {
   "cell_type": "markdown",
   "id": "2c62979a",
   "metadata": {},
   "source": [
    "Fill in the missing values on the train and test subset."
   ]
  },
  {
   "cell_type": "code",
   "execution_count": 20,
   "id": "4ed27b13",
   "metadata": {},
   "outputs": [],
   "source": [
    "# transform into values\n",
    "X_train_CDI_val = X_train.values\n",
    "X_test_CDI_val = X_test.values\n",
    "\n",
    "# Fit the median imputer on the train and test data set\n",
    "# Transform the train and test data set with the CDI imputer\n",
    "X_train_CDI = imputerCDI.fit_transform(X_train_CDI_val)\n",
    "\n",
    "X_test_CDI = imputerCDI.transform(X_test_CDI_val)"
   ]
  },
  {
   "cell_type": "markdown",
   "id": "8855853e",
   "metadata": {},
   "source": [
    "__- Create an instance of the FRNNI from reparo.__ "
   ]
  },
  {
   "cell_type": "code",
   "execution_count": 21,
   "id": "e74bc55c",
   "metadata": {},
   "outputs": [],
   "source": [
    "# import FRNNI\n",
    "from reparo import FRNNI\n",
    "\n",
    "# Create an instance of the FRNNI\n",
    "imputerFRNNI = FRNNI()"
   ]
  },
  {
   "cell_type": "markdown",
   "id": "97cb18b3",
   "metadata": {},
   "source": [
    "Fill in the missing values on the train and test subset."
   ]
  },
  {
   "cell_type": "markdown",
   "id": "c71f494c",
   "metadata": {},
   "source": [
    "Train imputer on the train Data Set."
   ]
  },
  {
   "cell_type": "code",
   "execution_count": 22,
   "id": "1d1179db",
   "metadata": {},
   "outputs": [],
   "source": [
    "# Transform the train data set with the mean imputer\n",
    "X_train_FRNNI_val = X_train.values\n",
    "X_test_FRNNI_val = X_test.values\n",
    "\n",
    "X_train_FRNNI = imputerFRNNI.fit_transform(X_train_FRNNI_val)\n",
    "\n",
    "X_test_FRNNI = imputerFRNNI.transform(X_test_FRNNI_val)"
   ]
  },
  {
   "cell_type": "markdown",
   "id": "23f54ff7",
   "metadata": {},
   "source": [
    "__- Create an instance of the HotDeckImputation from reparo.__"
   ]
  },
  {
   "cell_type": "code",
   "execution_count": 23,
   "id": "57fa2493",
   "metadata": {},
   "outputs": [],
   "source": [
    "from reparo import HotDeckImputation\n",
    "\n",
    "# Create an instance of the HotDeckImputation\n",
    "imputerHDI = HotDeckImputation()"
   ]
  },
  {
   "cell_type": "markdown",
   "id": "a16c99a5",
   "metadata": {},
   "source": [
    "Train imputer on the train Data Set."
   ]
  },
  {
   "cell_type": "markdown",
   "id": "660aeb0c",
   "metadata": {},
   "source": [
    "Fill in the missing values on the train and test subset."
   ]
  },
  {
   "cell_type": "code",
   "execution_count": 24,
   "id": "c32c63cb",
   "metadata": {},
   "outputs": [],
   "source": [
    "# tranform data into values\n",
    "X_train_HDI_val = X_train.values\n",
    "X_test_HDI_val = X_test.values\n",
    "\n",
    "# Transform the train data set with the HDI imputer\n",
    "X_train_HDI = imputerHDI.fit_transform(X_train_HDI_val)\n",
    "\n",
    "X_test_HDI = imputerHDI.transform(X_test_HDI_val)"
   ]
  },
  {
   "cell_type": "markdown",
   "id": "fcb3415e",
   "metadata": {},
   "source": [
    "__- Create an instance of the KNNImputer from reparo.__ "
   ]
  },
  {
   "cell_type": "code",
   "execution_count": 25,
   "id": "e32c59ef",
   "metadata": {},
   "outputs": [],
   "source": [
    "from reparo import KNNImputer\n",
    "\n",
    "# Create an instance of the KNNImputer\n",
    "imputerKN = KNNImputer()"
   ]
  },
  {
   "cell_type": "markdown",
   "id": "cfecbcf9",
   "metadata": {},
   "source": [
    "Train imputer on the train Data Set."
   ]
  },
  {
   "cell_type": "markdown",
   "id": "84a75b54",
   "metadata": {},
   "source": [
    "Fill in the missing values on the train and test subset."
   ]
  },
  {
   "cell_type": "code",
   "execution_count": 26,
   "id": "0c307c20",
   "metadata": {},
   "outputs": [],
   "source": [
    "# transform the data into values\n",
    "X_train_KNNI_val = X_train.values\n",
    "X_test_KNNI_val = X_test.values\n",
    "\n",
    "# Transform the train data set with the HDI imputer\n",
    "X_train_KNNI = imputerKN.fit_transform(X_train_KNNI_val)\n",
    "\n",
    "X_test_KNNI = imputerKN.transform(X_test_KNNI_val)"
   ]
  },
  {
   "cell_type": "markdown",
   "id": "cac6d5dc",
   "metadata": {},
   "source": [
    "__- Create an instance of the PMM from reparo.__"
   ]
  },
  {
   "cell_type": "code",
   "execution_count": 27,
   "id": "8813e335",
   "metadata": {},
   "outputs": [],
   "source": [
    "from reparo import PMM\n",
    "\n",
    "# Create an instance of the PMM\n",
    "imputerPMM = PMM()"
   ]
  },
  {
   "cell_type": "markdown",
   "id": "791d7e99",
   "metadata": {},
   "source": [
    "Train imputer on the train Data Set."
   ]
  },
  {
   "cell_type": "markdown",
   "id": "6e86f633",
   "metadata": {},
   "source": [
    "Fill in the missing values on the train and test subset."
   ]
  },
  {
   "cell_type": "code",
   "execution_count": 28,
   "id": "181fc91f",
   "metadata": {},
   "outputs": [],
   "source": [
    "# transform data into values\n",
    "X_train_PMM_val = X_train.values\n",
    "X_test_PMM_val = X_test.values\n",
    "\n",
    "# Transform the train data set with the HDI imputer\n",
    "X_train_PMM = imputerPMM.fit_transform(X_train_PMM_val)\n",
    "\n",
    "X_test_PMM = imputerPMM.transform(X_test_PMM_val)"
   ]
  },
  {
   "cell_type": "markdown",
   "id": "48c728fb",
   "metadata": {},
   "source": [
    "__- Create an instance of the SICE from reparo.__ "
   ]
  },
  {
   "cell_type": "code",
   "execution_count": 29,
   "id": "6967a8f0",
   "metadata": {},
   "outputs": [],
   "source": [
    "from reparo import SICE\n",
    "\n",
    "# Create an instance of the SICE\n",
    "imputerSICE = SICE()"
   ]
  },
  {
   "cell_type": "markdown",
   "id": "33b5ac9a",
   "metadata": {},
   "source": [
    "Train imputer on the train Data Set."
   ]
  },
  {
   "cell_type": "markdown",
   "id": "d90a6f99",
   "metadata": {},
   "source": [
    "Fill in the missing values on the train and test subset."
   ]
  },
  {
   "cell_type": "code",
   "execution_count": 30,
   "id": "645ad689",
   "metadata": {},
   "outputs": [],
   "source": [
    "# transform the data into values\n",
    "X_train_SICE_val = X_train.values\n",
    "X_test_SICE_val = X_test.values\n",
    "\n",
    "# Transform the train data set with the HDI imputer\n",
    "X_train_SICE = imputerSICE.fit_transform(X_train_SICE_val)\n",
    "\n",
    "X_test_SICE = imputerSICE.transform(X_test_SICE_val)"
   ]
  },
  {
   "cell_type": "markdown",
   "id": "3336412e",
   "metadata": {},
   "source": [
    "__- Create an instance of the MICE from reparo.__ "
   ]
  },
  {
   "cell_type": "code",
   "execution_count": 31,
   "id": "c586be4d",
   "metadata": {},
   "outputs": [],
   "source": [
    "from reparo import MICE\n",
    "\n",
    "# Create an instance of the MICE\n",
    "imputerMICE = MICE()"
   ]
  },
  {
   "cell_type": "markdown",
   "id": "86290ee8",
   "metadata": {},
   "source": [
    "Train imputer on the train Data Set."
   ]
  },
  {
   "cell_type": "markdown",
   "id": "b4479701",
   "metadata": {},
   "source": [
    "Fill in the missing values on the train and test subset. "
   ]
  },
  {
   "cell_type": "code",
   "execution_count": 32,
   "id": "7f44b242",
   "metadata": {},
   "outputs": [],
   "source": [
    "# transform the data into values\n",
    "X_train_MICE_val = X_train.values\n",
    "X_test_MICE_val = X_test.values\n",
    "\n",
    "# Transform the train data set with the HDI imputer\n",
    "X_train_MICE = imputerMICE.fit_transform(X_train_MICE_val)\n",
    "\n",
    "X_test_MICE = imputerMICE.transform(X_test_MICE_val)"
   ]
  },
  {
   "cell_type": "markdown",
   "id": "0727ec59",
   "metadata": {},
   "source": [
    "### Train the following models on every set that you got after imputing."
   ]
  },
  {
   "cell_type": "markdown",
   "id": "93c58320",
   "metadata": {},
   "source": [
    "- Logistic Regression."
   ]
  },
  {
   "cell_type": "code",
   "execution_count": 33,
   "id": "a54b9b59",
   "metadata": {},
   "outputs": [
    {
     "ename": "ValueError",
     "evalue": "Unknown label type: 'continuous'",
     "output_type": "error",
     "traceback": [
      "\u001b[1;31m---------------------------------------------------------------------------\u001b[0m",
      "\u001b[1;31mValueError\u001b[0m                                Traceback (most recent call last)",
      "Input \u001b[1;32mIn [33]\u001b[0m, in \u001b[0;36m<cell line: 8>\u001b[1;34m()\u001b[0m\n\u001b[0;32m      5\u001b[0m log_reg \u001b[38;5;241m=\u001b[39m LogisticRegression()\n\u001b[0;32m      7\u001b[0m \u001b[38;5;66;03m# implementation of the log reg to mean\u001b[39;00m\n\u001b[1;32m----> 8\u001b[0m log_reg_mean \u001b[38;5;241m=\u001b[39m \u001b[43mlog_reg\u001b[49m\u001b[38;5;241;43m.\u001b[39;49m\u001b[43mfit\u001b[49m\u001b[43m(\u001b[49m\u001b[43mX_train_mean\u001b[49m\u001b[43m,\u001b[49m\u001b[43m \u001b[49m\u001b[43my_train\u001b[49m\u001b[43m)\u001b[49m\n\u001b[0;32m     10\u001b[0m \u001b[38;5;66;03m# implementation of the log reg to median\u001b[39;00m\n\u001b[0;32m     11\u001b[0m log_reg_median \u001b[38;5;241m=\u001b[39m log_reg\u001b[38;5;241m.\u001b[39mfit(X_train_median, y_train)\n",
      "File \u001b[1;32mC:\\Python310\\lib\\site-packages\\sklearn\\linear_model\\_logistic.py:1146\u001b[0m, in \u001b[0;36mLogisticRegression.fit\u001b[1;34m(self, X, y, sample_weight)\u001b[0m\n\u001b[0;32m   1136\u001b[0m     _dtype \u001b[38;5;241m=\u001b[39m [np\u001b[38;5;241m.\u001b[39mfloat64, np\u001b[38;5;241m.\u001b[39mfloat32]\n\u001b[0;32m   1138\u001b[0m X, y \u001b[38;5;241m=\u001b[39m \u001b[38;5;28mself\u001b[39m\u001b[38;5;241m.\u001b[39m_validate_data(\n\u001b[0;32m   1139\u001b[0m     X,\n\u001b[0;32m   1140\u001b[0m     y,\n\u001b[1;32m   (...)\u001b[0m\n\u001b[0;32m   1144\u001b[0m     accept_large_sparse\u001b[38;5;241m=\u001b[39msolver \u001b[38;5;129;01mnot\u001b[39;00m \u001b[38;5;129;01min\u001b[39;00m [\u001b[38;5;124m\"\u001b[39m\u001b[38;5;124mliblinear\u001b[39m\u001b[38;5;124m\"\u001b[39m, \u001b[38;5;124m\"\u001b[39m\u001b[38;5;124msag\u001b[39m\u001b[38;5;124m\"\u001b[39m, \u001b[38;5;124m\"\u001b[39m\u001b[38;5;124msaga\u001b[39m\u001b[38;5;124m\"\u001b[39m],\n\u001b[0;32m   1145\u001b[0m )\n\u001b[1;32m-> 1146\u001b[0m \u001b[43mcheck_classification_targets\u001b[49m\u001b[43m(\u001b[49m\u001b[43my\u001b[49m\u001b[43m)\u001b[49m\n\u001b[0;32m   1147\u001b[0m \u001b[38;5;28mself\u001b[39m\u001b[38;5;241m.\u001b[39mclasses_ \u001b[38;5;241m=\u001b[39m np\u001b[38;5;241m.\u001b[39munique(y)\n\u001b[0;32m   1149\u001b[0m multi_class \u001b[38;5;241m=\u001b[39m _check_multi_class(\u001b[38;5;28mself\u001b[39m\u001b[38;5;241m.\u001b[39mmulti_class, solver, \u001b[38;5;28mlen\u001b[39m(\u001b[38;5;28mself\u001b[39m\u001b[38;5;241m.\u001b[39mclasses_))\n",
      "File \u001b[1;32mC:\\Python310\\lib\\site-packages\\sklearn\\utils\\multiclass.py:200\u001b[0m, in \u001b[0;36mcheck_classification_targets\u001b[1;34m(y)\u001b[0m\n\u001b[0;32m    192\u001b[0m y_type \u001b[38;5;241m=\u001b[39m type_of_target(y, input_name\u001b[38;5;241m=\u001b[39m\u001b[38;5;124m\"\u001b[39m\u001b[38;5;124my\u001b[39m\u001b[38;5;124m\"\u001b[39m)\n\u001b[0;32m    193\u001b[0m \u001b[38;5;28;01mif\u001b[39;00m y_type \u001b[38;5;129;01mnot\u001b[39;00m \u001b[38;5;129;01min\u001b[39;00m [\n\u001b[0;32m    194\u001b[0m     \u001b[38;5;124m\"\u001b[39m\u001b[38;5;124mbinary\u001b[39m\u001b[38;5;124m\"\u001b[39m,\n\u001b[0;32m    195\u001b[0m     \u001b[38;5;124m\"\u001b[39m\u001b[38;5;124mmulticlass\u001b[39m\u001b[38;5;124m\"\u001b[39m,\n\u001b[1;32m   (...)\u001b[0m\n\u001b[0;32m    198\u001b[0m     \u001b[38;5;124m\"\u001b[39m\u001b[38;5;124mmultilabel-sequences\u001b[39m\u001b[38;5;124m\"\u001b[39m,\n\u001b[0;32m    199\u001b[0m ]:\n\u001b[1;32m--> 200\u001b[0m     \u001b[38;5;28;01mraise\u001b[39;00m \u001b[38;5;167;01mValueError\u001b[39;00m(\u001b[38;5;124m\"\u001b[39m\u001b[38;5;124mUnknown label type: \u001b[39m\u001b[38;5;132;01m%r\u001b[39;00m\u001b[38;5;124m\"\u001b[39m \u001b[38;5;241m%\u001b[39m y_type)\n",
      "\u001b[1;31mValueError\u001b[0m: Unknown label type: 'continuous'"
     ]
    }
   ],
   "source": [
    "# Import the LogisticRegression module from sklearn\n",
    "from sklearn.linear_model import LogisticRegression\n",
    "\n",
    "# initiating the logRegres\n",
    "log_reg = LogisticRegression()\n",
    "\n",
    "# implementation of the log reg to mean\n",
    "log_reg_mean = log_reg.fit(X_train_mean, y_train)\n",
    "\n",
    "# implementation of the log reg to median\n",
    "log_reg_median = log_reg.fit(X_train_median, y_train)\n",
    "\n",
    "# implementation of the log reg to Constant\n",
    "log_reg_constant = log_reg.fit(X_train_Constant, y_train)\n",
    "\n",
    "# implementation of the log reg to CDI\n",
    "log_reg_CDI = log_reg.fit(X_train_CDI, y_train)\n",
    "\n",
    "# implementation of the log reg to FRNNI\n",
    "log_reg_FRNNI = log_reg.fit(X_train_FRNNI, y_train)\n",
    "\n",
    "# implementation of the log reg to HDI\n",
    "log_reg_HDI = log_reg.fit(X_train_HDI, y_train)\n",
    "\n",
    "# implementation of the log reg to KNNImputer\n",
    "log_reg_KNNI = log_reg.fit(X_train_KNNI, y_train)\n",
    "\n",
    "# implementation of the log reg to PMM\n",
    "log_reg_PMM = log_reg.fit(X_train_PMM, y_train)\n",
    "\n",
    "# implementation of the log reg to SICE\n",
    "log_reg_SICE = log_reg.fit(X_train_SICE, y_train)\n",
    "\n",
    "# implementation of the log reg to MICE\n",
    "log_reg_MICE = log_reg.fit(X_train_MICE, y_train)\n"
   ]
  },
  {
   "cell_type": "markdown",
   "id": "39b8f108",
   "metadata": {},
   "source": [
    "- Gaussian Naive Bayes."
   ]
  },
  {
   "cell_type": "code",
   "execution_count": 34,
   "id": "93fc0db4",
   "metadata": {},
   "outputs": [
    {
     "ename": "ValueError",
     "evalue": "Unknown label type: (array([ 5. ,  6.3,  7. ,  7.2,  8.1,  8.3,  8.5,  8.7,  8.8,  9.5,  9.6,\n       10.2, 10.4, 10.5, 10.8, 10.9, 11.3, 11.5, 11.7, 11.8, 11.9, 12. ,\n       12.1, 12.5, 12.6, 12.7, 12.8, 13. , 13.1, 13.2, 13.3, 13.4, 13.5,\n       13.6, 13.8, 13.9, 14. , 14.1, 14.2, 14.3, 14.4, 14.5, 14.6, 14.8,\n       14.9, 15. , 15.1, 15.2, 15.3, 15.4, 15.6, 15.7, 16. , 16.1, 16.2,\n       16.3, 16.4, 16.6, 16.7, 16.8, 17.1, 17.3, 17.4, 17.5, 17.6, 17.7,\n       17.8, 17.9, 18. , 18.1, 18.2, 18.3, 18.4, 18.5, 18.8, 18.9, 19. ,\n       19.1, 19.2, 19.3, 19.4, 19.5, 19.6, 19.7, 19.8, 19.9, 20. , 20.1,\n       20.2, 20.3, 20.4, 20.5, 20.6, 20.7, 20.8, 20.9, 21. , 21.1, 21.2,\n       21.4, 21.5, 21.6, 21.7, 21.8, 21.9, 22. , 22.1, 22.2, 22.3, 22.4,\n       22.5, 22.6, 22.7, 22.8, 22.9, 23.1, 23.2, 23.3, 23.4, 23.6, 23.7,\n       23.8, 23.9, 24. , 24.1, 24.2, 24.3, 24.4, 24.5, 24.6, 24.7, 24.8,\n       25. , 25.1, 25.2, 25.3, 26.4, 26.5, 26.6, 27. , 27.1, 27.5, 27.9,\n       28. , 28.2, 28.4, 28.5, 28.6, 28.7, 29. , 29.1, 29.6, 29.8, 29.9,\n       30.1, 30.3, 30.7, 30.8, 31. , 31.1, 31.5, 31.6, 31.7, 32. , 32.2,\n       32.4, 32.5, 32.7, 33. , 33.1, 33.2, 33.4, 33.8, 34.6, 34.7, 34.9,\n       35.1, 35.2, 35.4, 36. , 36.1, 36.2, 36.4, 36.5, 37. , 37.3, 37.6,\n       37.9, 39.8, 41.7, 42.3, 43.1, 43.5, 43.8, 44. , 45.4, 46. , 46.7,\n       48.5, 48.8, 50. ]),)",
     "output_type": "error",
     "traceback": [
      "\u001b[1;31m---------------------------------------------------------------------------\u001b[0m",
      "\u001b[1;31mValueError\u001b[0m                                Traceback (most recent call last)",
      "Input \u001b[1;32mIn [34]\u001b[0m, in \u001b[0;36m<cell line: 8>\u001b[1;34m()\u001b[0m\n\u001b[0;32m      5\u001b[0m gnb \u001b[38;5;241m=\u001b[39m GaussianNB()\n\u001b[0;32m      7\u001b[0m \u001b[38;5;66;03m# Fit the GNB classifier on the mean imputed data set\u001b[39;00m\n\u001b[1;32m----> 8\u001b[0m gnb_mean \u001b[38;5;241m=\u001b[39m \u001b[43mgnb\u001b[49m\u001b[38;5;241;43m.\u001b[39;49m\u001b[43mfit\u001b[49m\u001b[43m(\u001b[49m\u001b[43mX_train_mean\u001b[49m\u001b[43m,\u001b[49m\u001b[43m \u001b[49m\u001b[43my_train\u001b[49m\u001b[43m)\u001b[49m\n\u001b[0;32m     10\u001b[0m \u001b[38;5;66;03m# Fit the GNB classifier on the median imputed data set\u001b[39;00m\n\u001b[0;32m     11\u001b[0m gnb_median \u001b[38;5;241m=\u001b[39m gnb\u001b[38;5;241m.\u001b[39mfit(X_train_median, y_train)\n",
      "File \u001b[1;32mC:\\Python310\\lib\\site-packages\\sklearn\\naive_bayes.py:243\u001b[0m, in \u001b[0;36mGaussianNB.fit\u001b[1;34m(self, X, y, sample_weight)\u001b[0m\n\u001b[0;32m    220\u001b[0m \u001b[38;5;124;03m\"\"\"Fit Gaussian Naive Bayes according to X, y.\u001b[39;00m\n\u001b[0;32m    221\u001b[0m \n\u001b[0;32m    222\u001b[0m \u001b[38;5;124;03mParameters\u001b[39;00m\n\u001b[1;32m   (...)\u001b[0m\n\u001b[0;32m    240\u001b[0m \u001b[38;5;124;03m    Returns the instance itself.\u001b[39;00m\n\u001b[0;32m    241\u001b[0m \u001b[38;5;124;03m\"\"\"\u001b[39;00m\n\u001b[0;32m    242\u001b[0m y \u001b[38;5;241m=\u001b[39m \u001b[38;5;28mself\u001b[39m\u001b[38;5;241m.\u001b[39m_validate_data(y\u001b[38;5;241m=\u001b[39my)\n\u001b[1;32m--> 243\u001b[0m \u001b[38;5;28;01mreturn\u001b[39;00m \u001b[38;5;28;43mself\u001b[39;49m\u001b[38;5;241;43m.\u001b[39;49m\u001b[43m_partial_fit\u001b[49m\u001b[43m(\u001b[49m\n\u001b[0;32m    244\u001b[0m \u001b[43m    \u001b[49m\u001b[43mX\u001b[49m\u001b[43m,\u001b[49m\u001b[43m \u001b[49m\u001b[43my\u001b[49m\u001b[43m,\u001b[49m\u001b[43m \u001b[49m\u001b[43mnp\u001b[49m\u001b[38;5;241;43m.\u001b[39;49m\u001b[43munique\u001b[49m\u001b[43m(\u001b[49m\u001b[43my\u001b[49m\u001b[43m)\u001b[49m\u001b[43m,\u001b[49m\u001b[43m \u001b[49m\u001b[43m_refit\u001b[49m\u001b[38;5;241;43m=\u001b[39;49m\u001b[38;5;28;43;01mTrue\u001b[39;49;00m\u001b[43m,\u001b[49m\u001b[43m \u001b[49m\u001b[43msample_weight\u001b[49m\u001b[38;5;241;43m=\u001b[39;49m\u001b[43msample_weight\u001b[49m\n\u001b[0;32m    245\u001b[0m \u001b[43m\u001b[49m\u001b[43m)\u001b[49m\n",
      "File \u001b[1;32mC:\\Python310\\lib\\site-packages\\sklearn\\naive_bayes.py:399\u001b[0m, in \u001b[0;36mGaussianNB._partial_fit\u001b[1;34m(self, X, y, classes, _refit, sample_weight)\u001b[0m\n\u001b[0;32m    396\u001b[0m \u001b[38;5;28;01mif\u001b[39;00m _refit:\n\u001b[0;32m    397\u001b[0m     \u001b[38;5;28mself\u001b[39m\u001b[38;5;241m.\u001b[39mclasses_ \u001b[38;5;241m=\u001b[39m \u001b[38;5;28;01mNone\u001b[39;00m\n\u001b[1;32m--> 399\u001b[0m first_call \u001b[38;5;241m=\u001b[39m \u001b[43m_check_partial_fit_first_call\u001b[49m\u001b[43m(\u001b[49m\u001b[38;5;28;43mself\u001b[39;49m\u001b[43m,\u001b[49m\u001b[43m \u001b[49m\u001b[43mclasses\u001b[49m\u001b[43m)\u001b[49m\n\u001b[0;32m    400\u001b[0m X, y \u001b[38;5;241m=\u001b[39m \u001b[38;5;28mself\u001b[39m\u001b[38;5;241m.\u001b[39m_validate_data(X, y, reset\u001b[38;5;241m=\u001b[39mfirst_call)\n\u001b[0;32m    401\u001b[0m \u001b[38;5;28;01mif\u001b[39;00m sample_weight \u001b[38;5;129;01mis\u001b[39;00m \u001b[38;5;129;01mnot\u001b[39;00m \u001b[38;5;28;01mNone\u001b[39;00m:\n",
      "File \u001b[1;32mC:\\Python310\\lib\\site-packages\\sklearn\\utils\\multiclass.py:368\u001b[0m, in \u001b[0;36m_check_partial_fit_first_call\u001b[1;34m(clf, classes)\u001b[0m\n\u001b[0;32m    361\u001b[0m             \u001b[38;5;28;01mraise\u001b[39;00m \u001b[38;5;167;01mValueError\u001b[39;00m(\n\u001b[0;32m    362\u001b[0m                 \u001b[38;5;124m\"\u001b[39m\u001b[38;5;124m`classes=\u001b[39m\u001b[38;5;132;01m%r\u001b[39;00m\u001b[38;5;124m` is not the same as on last call \u001b[39m\u001b[38;5;124m\"\u001b[39m\n\u001b[0;32m    363\u001b[0m                 \u001b[38;5;124m\"\u001b[39m\u001b[38;5;124mto partial_fit, was: \u001b[39m\u001b[38;5;132;01m%r\u001b[39;00m\u001b[38;5;124m\"\u001b[39m \u001b[38;5;241m%\u001b[39m (classes, clf\u001b[38;5;241m.\u001b[39mclasses_)\n\u001b[0;32m    364\u001b[0m             )\n\u001b[0;32m    366\u001b[0m     \u001b[38;5;28;01melse\u001b[39;00m:\n\u001b[0;32m    367\u001b[0m         \u001b[38;5;66;03m# This is the first call to partial_fit\u001b[39;00m\n\u001b[1;32m--> 368\u001b[0m         clf\u001b[38;5;241m.\u001b[39mclasses_ \u001b[38;5;241m=\u001b[39m \u001b[43munique_labels\u001b[49m\u001b[43m(\u001b[49m\u001b[43mclasses\u001b[49m\u001b[43m)\u001b[49m\n\u001b[0;32m    369\u001b[0m         \u001b[38;5;28;01mreturn\u001b[39;00m \u001b[38;5;28;01mTrue\u001b[39;00m\n\u001b[0;32m    371\u001b[0m \u001b[38;5;66;03m# classes is None and clf.classes_ has already previously been set:\u001b[39;00m\n\u001b[0;32m    372\u001b[0m \u001b[38;5;66;03m# nothing to do\u001b[39;00m\n",
      "File \u001b[1;32mC:\\Python310\\lib\\site-packages\\sklearn\\utils\\multiclass.py:103\u001b[0m, in \u001b[0;36munique_labels\u001b[1;34m(*ys)\u001b[0m\n\u001b[0;32m    101\u001b[0m _unique_labels \u001b[38;5;241m=\u001b[39m _FN_UNIQUE_LABELS\u001b[38;5;241m.\u001b[39mget(label_type, \u001b[38;5;28;01mNone\u001b[39;00m)\n\u001b[0;32m    102\u001b[0m \u001b[38;5;28;01mif\u001b[39;00m \u001b[38;5;129;01mnot\u001b[39;00m _unique_labels:\n\u001b[1;32m--> 103\u001b[0m     \u001b[38;5;28;01mraise\u001b[39;00m \u001b[38;5;167;01mValueError\u001b[39;00m(\u001b[38;5;124m\"\u001b[39m\u001b[38;5;124mUnknown label type: \u001b[39m\u001b[38;5;132;01m%s\u001b[39;00m\u001b[38;5;124m\"\u001b[39m \u001b[38;5;241m%\u001b[39m \u001b[38;5;28mrepr\u001b[39m(ys))\n\u001b[0;32m    105\u001b[0m ys_labels \u001b[38;5;241m=\u001b[39m \u001b[38;5;28mset\u001b[39m(chain\u001b[38;5;241m.\u001b[39mfrom_iterable(_unique_labels(y) \u001b[38;5;28;01mfor\u001b[39;00m y \u001b[38;5;129;01min\u001b[39;00m ys))\n\u001b[0;32m    107\u001b[0m \u001b[38;5;66;03m# Check that we don't mix string type with number type\u001b[39;00m\n",
      "\u001b[1;31mValueError\u001b[0m: Unknown label type: (array([ 5. ,  6.3,  7. ,  7.2,  8.1,  8.3,  8.5,  8.7,  8.8,  9.5,  9.6,\n       10.2, 10.4, 10.5, 10.8, 10.9, 11.3, 11.5, 11.7, 11.8, 11.9, 12. ,\n       12.1, 12.5, 12.6, 12.7, 12.8, 13. , 13.1, 13.2, 13.3, 13.4, 13.5,\n       13.6, 13.8, 13.9, 14. , 14.1, 14.2, 14.3, 14.4, 14.5, 14.6, 14.8,\n       14.9, 15. , 15.1, 15.2, 15.3, 15.4, 15.6, 15.7, 16. , 16.1, 16.2,\n       16.3, 16.4, 16.6, 16.7, 16.8, 17.1, 17.3, 17.4, 17.5, 17.6, 17.7,\n       17.8, 17.9, 18. , 18.1, 18.2, 18.3, 18.4, 18.5, 18.8, 18.9, 19. ,\n       19.1, 19.2, 19.3, 19.4, 19.5, 19.6, 19.7, 19.8, 19.9, 20. , 20.1,\n       20.2, 20.3, 20.4, 20.5, 20.6, 20.7, 20.8, 20.9, 21. , 21.1, 21.2,\n       21.4, 21.5, 21.6, 21.7, 21.8, 21.9, 22. , 22.1, 22.2, 22.3, 22.4,\n       22.5, 22.6, 22.7, 22.8, 22.9, 23.1, 23.2, 23.3, 23.4, 23.6, 23.7,\n       23.8, 23.9, 24. , 24.1, 24.2, 24.3, 24.4, 24.5, 24.6, 24.7, 24.8,\n       25. , 25.1, 25.2, 25.3, 26.4, 26.5, 26.6, 27. , 27.1, 27.5, 27.9,\n       28. , 28.2, 28.4, 28.5, 28.6, 28.7, 29. , 29.1, 29.6, 29.8, 29.9,\n       30.1, 30.3, 30.7, 30.8, 31. , 31.1, 31.5, 31.6, 31.7, 32. , 32.2,\n       32.4, 32.5, 32.7, 33. , 33.1, 33.2, 33.4, 33.8, 34.6, 34.7, 34.9,\n       35.1, 35.2, 35.4, 36. , 36.1, 36.2, 36.4, 36.5, 37. , 37.3, 37.6,\n       37.9, 39.8, 41.7, 42.3, 43.1, 43.5, 43.8, 44. , 45.4, 46. , 46.7,\n       48.5, 48.8, 50. ]),)"
     ]
    }
   ],
   "source": [
    "# Import the GaussianNB module from sklearn\n",
    "from sklearn.naive_bayes import GaussianNB\n",
    "\n",
    "# Initiating the Gaussian Naive Bayes (GNB) classifier\n",
    "gnb = GaussianNB()\n",
    "\n",
    "# Fit the GNB classifier on the mean imputed data set\n",
    "gnb_mean = gnb.fit(X_train_mean, y_train)\n",
    "\n",
    "# Fit the GNB classifier on the median imputed data set\n",
    "gnb_median = gnb.fit(X_train_median, y_train)\n",
    "\n",
    "# Fit the GNB classifier on the constant imputed data set\n",
    "gnb_constant = gnb.fit(X_train_constant, y_train)\n",
    "\n",
    "# Fit the GNB classifier on the CDI imputed data set\n",
    "gnb_CDI = gnb.fit(X_train_CDI, y_train)\n",
    "\n",
    "# Fit the GNB classifier on the FRNNI imputed data set\n",
    "gnb_FRNNI = gnb.fit(X_train_FRNNI, y_train)\n",
    "\n",
    "# Fit the GNB classifier on the HDI imputed data set\n",
    "gnb_HDI = gnb.fit(X_train_HDI, y_train)\n",
    "\n",
    "# Fit the GNB classifier on the KNNImputer imputed data set\n",
    "gnb_KNNI = gnb.fit(X_train_KNNI, y_train)\n",
    "\n",
    "# Fit the GNB classifier on the PMM imputed data set\n",
    "gnb_PMM = gnb.fit(X_train_PMM, y_train)\n",
    "\n",
    "# Fit the GNB classifier on the SICE imputed data set\n",
    "gnb_SICE = gnb.fit(X_train_SICE, y_train)\n",
    "\n",
    "# Fit the GNB classifier on the MICE imputed data set\n",
    "gnb_MICE = gnb.fit(X_train_MICE, y_train)\n"
   ]
  },
  {
   "cell_type": "markdown",
   "id": "8f902cf7",
   "metadata": {},
   "source": [
    "- TreeDecisionClassifier."
   ]
  },
  {
   "cell_type": "code",
   "execution_count": 35,
   "id": "13521ee2",
   "metadata": {},
   "outputs": [
    {
     "ename": "ValueError",
     "evalue": "Unknown label type: 'continuous'",
     "output_type": "error",
     "traceback": [
      "\u001b[1;31m---------------------------------------------------------------------------\u001b[0m",
      "\u001b[1;31mValueError\u001b[0m                                Traceback (most recent call last)",
      "Input \u001b[1;32mIn [35]\u001b[0m, in \u001b[0;36m<cell line: 8>\u001b[1;34m()\u001b[0m\n\u001b[0;32m      5\u001b[0m tree_clf \u001b[38;5;241m=\u001b[39m DecisionTreeClassifier()\n\u001b[0;32m      7\u001b[0m \u001b[38;5;66;03m# Fit the classifier with mean imputed data\u001b[39;00m\n\u001b[1;32m----> 8\u001b[0m tree_clf_mean \u001b[38;5;241m=\u001b[39m \u001b[43mtree_clf\u001b[49m\u001b[38;5;241;43m.\u001b[39;49m\u001b[43mfit\u001b[49m\u001b[43m(\u001b[49m\u001b[43mX_train_mean\u001b[49m\u001b[43m,\u001b[49m\u001b[43m \u001b[49m\u001b[43my_train\u001b[49m\u001b[43m)\u001b[49m\n\u001b[0;32m     10\u001b[0m \u001b[38;5;66;03m# Fit the classifier with median imputed data\u001b[39;00m\n\u001b[0;32m     11\u001b[0m tree_clf_median \u001b[38;5;241m=\u001b[39m tree_clf\u001b[38;5;241m.\u001b[39mfit(X_train_median, y_train)\n",
      "File \u001b[1;32mC:\\Python310\\lib\\site-packages\\sklearn\\tree\\_classes.py:969\u001b[0m, in \u001b[0;36mDecisionTreeClassifier.fit\u001b[1;34m(self, X, y, sample_weight, check_input)\u001b[0m\n\u001b[0;32m    939\u001b[0m \u001b[38;5;28;01mdef\u001b[39;00m \u001b[38;5;21mfit\u001b[39m(\u001b[38;5;28mself\u001b[39m, X, y, sample_weight\u001b[38;5;241m=\u001b[39m\u001b[38;5;28;01mNone\u001b[39;00m, check_input\u001b[38;5;241m=\u001b[39m\u001b[38;5;28;01mTrue\u001b[39;00m):\n\u001b[0;32m    940\u001b[0m     \u001b[38;5;124;03m\"\"\"Build a decision tree classifier from the training set (X, y).\u001b[39;00m\n\u001b[0;32m    941\u001b[0m \n\u001b[0;32m    942\u001b[0m \u001b[38;5;124;03m    Parameters\u001b[39;00m\n\u001b[1;32m   (...)\u001b[0m\n\u001b[0;32m    966\u001b[0m \u001b[38;5;124;03m        Fitted estimator.\u001b[39;00m\n\u001b[0;32m    967\u001b[0m \u001b[38;5;124;03m    \"\"\"\u001b[39;00m\n\u001b[1;32m--> 969\u001b[0m     \u001b[38;5;28;43msuper\u001b[39;49m\u001b[43m(\u001b[49m\u001b[43m)\u001b[49m\u001b[38;5;241;43m.\u001b[39;49m\u001b[43mfit\u001b[49m\u001b[43m(\u001b[49m\n\u001b[0;32m    970\u001b[0m \u001b[43m        \u001b[49m\u001b[43mX\u001b[49m\u001b[43m,\u001b[49m\n\u001b[0;32m    971\u001b[0m \u001b[43m        \u001b[49m\u001b[43my\u001b[49m\u001b[43m,\u001b[49m\n\u001b[0;32m    972\u001b[0m \u001b[43m        \u001b[49m\u001b[43msample_weight\u001b[49m\u001b[38;5;241;43m=\u001b[39;49m\u001b[43msample_weight\u001b[49m\u001b[43m,\u001b[49m\n\u001b[0;32m    973\u001b[0m \u001b[43m        \u001b[49m\u001b[43mcheck_input\u001b[49m\u001b[38;5;241;43m=\u001b[39;49m\u001b[43mcheck_input\u001b[49m\u001b[43m,\u001b[49m\n\u001b[0;32m    974\u001b[0m \u001b[43m    \u001b[49m\u001b[43m)\u001b[49m\n\u001b[0;32m    975\u001b[0m     \u001b[38;5;28;01mreturn\u001b[39;00m \u001b[38;5;28mself\u001b[39m\n",
      "File \u001b[1;32mC:\\Python310\\lib\\site-packages\\sklearn\\tree\\_classes.py:210\u001b[0m, in \u001b[0;36mBaseDecisionTree.fit\u001b[1;34m(self, X, y, sample_weight, check_input)\u001b[0m\n\u001b[0;32m    207\u001b[0m \u001b[38;5;28mself\u001b[39m\u001b[38;5;241m.\u001b[39mn_outputs_ \u001b[38;5;241m=\u001b[39m y\u001b[38;5;241m.\u001b[39mshape[\u001b[38;5;241m1\u001b[39m]\n\u001b[0;32m    209\u001b[0m \u001b[38;5;28;01mif\u001b[39;00m is_classification:\n\u001b[1;32m--> 210\u001b[0m     \u001b[43mcheck_classification_targets\u001b[49m\u001b[43m(\u001b[49m\u001b[43my\u001b[49m\u001b[43m)\u001b[49m\n\u001b[0;32m    211\u001b[0m     y \u001b[38;5;241m=\u001b[39m np\u001b[38;5;241m.\u001b[39mcopy(y)\n\u001b[0;32m    213\u001b[0m     \u001b[38;5;28mself\u001b[39m\u001b[38;5;241m.\u001b[39mclasses_ \u001b[38;5;241m=\u001b[39m []\n",
      "File \u001b[1;32mC:\\Python310\\lib\\site-packages\\sklearn\\utils\\multiclass.py:200\u001b[0m, in \u001b[0;36mcheck_classification_targets\u001b[1;34m(y)\u001b[0m\n\u001b[0;32m    192\u001b[0m y_type \u001b[38;5;241m=\u001b[39m type_of_target(y, input_name\u001b[38;5;241m=\u001b[39m\u001b[38;5;124m\"\u001b[39m\u001b[38;5;124my\u001b[39m\u001b[38;5;124m\"\u001b[39m)\n\u001b[0;32m    193\u001b[0m \u001b[38;5;28;01mif\u001b[39;00m y_type \u001b[38;5;129;01mnot\u001b[39;00m \u001b[38;5;129;01min\u001b[39;00m [\n\u001b[0;32m    194\u001b[0m     \u001b[38;5;124m\"\u001b[39m\u001b[38;5;124mbinary\u001b[39m\u001b[38;5;124m\"\u001b[39m,\n\u001b[0;32m    195\u001b[0m     \u001b[38;5;124m\"\u001b[39m\u001b[38;5;124mmulticlass\u001b[39m\u001b[38;5;124m\"\u001b[39m,\n\u001b[1;32m   (...)\u001b[0m\n\u001b[0;32m    198\u001b[0m     \u001b[38;5;124m\"\u001b[39m\u001b[38;5;124mmultilabel-sequences\u001b[39m\u001b[38;5;124m\"\u001b[39m,\n\u001b[0;32m    199\u001b[0m ]:\n\u001b[1;32m--> 200\u001b[0m     \u001b[38;5;28;01mraise\u001b[39;00m \u001b[38;5;167;01mValueError\u001b[39;00m(\u001b[38;5;124m\"\u001b[39m\u001b[38;5;124mUnknown label type: \u001b[39m\u001b[38;5;132;01m%r\u001b[39;00m\u001b[38;5;124m\"\u001b[39m \u001b[38;5;241m%\u001b[39m y_type)\n",
      "\u001b[1;31mValueError\u001b[0m: Unknown label type: 'continuous'"
     ]
    }
   ],
   "source": [
    "# Import the DecisionTreeClassifier module from sklearn\n",
    "from sklearn.tree import DecisionTreeClassifier\n",
    "\n",
    "# Initiate the Decision Tree Classifier\n",
    "tree_clf = DecisionTreeClassifier()\n",
    "\n",
    "# Fit the classifier with mean imputed data\n",
    "tree_clf_mean = tree_clf.fit(X_train_mean, y_train)\n",
    "\n",
    "# Fit the classifier with median imputed data\n",
    "tree_clf_median = tree_clf.fit(X_train_median, y_train)\n",
    "\n",
    "# Fit the classifier with constant imputed data\n",
    "tree_clf_constant = tree_clf.fit(X_train_Constant, y_train)\n",
    "\n",
    "# Fit the classifier with CDI imputed data\n",
    "tree_clf_CDI = tree_clf.fit(X_train_CDI, y_train)\n",
    "\n",
    "# Fit the classifier with FRNNI imputed data\n",
    "tree_clf_FRNNI = tree_clf.fit(X_train_FRNNI, y_train)\n",
    "\n",
    "# Fit the classifier with HDI imputed data\n",
    "tree_clf_HDI = tree_clf.fit(X_train_HDI, y_train)\n",
    "\n",
    "# Fit the classifier with KNNI imputed data\n",
    "tree_clf_KNNI = tree_clf.fit(X_train_KNNI, y_train)\n",
    "\n",
    "# Fit the classifier with PMM imputed data\n",
    "tree_clf_PMM = tree_clf.fit(X_train_PMM, y_train)\n",
    "\n",
    "# Fit the classifier with SICE imputed data\n",
    "tree_clf_SICE = tree_clf.fit(X_train_SICE, y_train)\n",
    "\n",
    "# Fit the classifier with MICE imputed data\n",
    "tree_clf_MICE = tree_clf.fit(X_train_MICE, y_train)"
   ]
  },
  {
   "cell_type": "markdown",
   "id": "1d29a230",
   "metadata": {},
   "source": [
    "- RandomForest"
   ]
  },
  {
   "cell_type": "code",
   "execution_count": 36,
   "id": "513e0232",
   "metadata": {},
   "outputs": [
    {
     "ename": "ValueError",
     "evalue": "Unknown label type: 'continuous'",
     "output_type": "error",
     "traceback": [
      "\u001b[1;31m---------------------------------------------------------------------------\u001b[0m",
      "\u001b[1;31mValueError\u001b[0m                                Traceback (most recent call last)",
      "Input \u001b[1;32mIn [36]\u001b[0m, in \u001b[0;36m<cell line: 8>\u001b[1;34m()\u001b[0m\n\u001b[0;32m      5\u001b[0m rfc \u001b[38;5;241m=\u001b[39m RandomForestClassifier()\n\u001b[0;32m      7\u001b[0m \u001b[38;5;66;03m# fit the RandomForestClassifier to the mean imputed data\u001b[39;00m\n\u001b[1;32m----> 8\u001b[0m rfc_mean \u001b[38;5;241m=\u001b[39m \u001b[43mrfc\u001b[49m\u001b[38;5;241;43m.\u001b[39;49m\u001b[43mfit\u001b[49m\u001b[43m(\u001b[49m\u001b[43mX_train_mean\u001b[49m\u001b[43m,\u001b[49m\u001b[43m \u001b[49m\u001b[43my_train\u001b[49m\u001b[43m)\u001b[49m\n\u001b[0;32m     10\u001b[0m \u001b[38;5;66;03m# fit the RandomForestClassifier to the median imputed data\u001b[39;00m\n\u001b[0;32m     11\u001b[0m rfc_median \u001b[38;5;241m=\u001b[39m rfc\u001b[38;5;241m.\u001b[39mfit(X_train_median, y_train)\n",
      "File \u001b[1;32mC:\\Python310\\lib\\site-packages\\sklearn\\ensemble\\_forest.py:371\u001b[0m, in \u001b[0;36mBaseForest.fit\u001b[1;34m(self, X, y, sample_weight)\u001b[0m\n\u001b[0;32m    364\u001b[0m         \u001b[38;5;28;01mraise\u001b[39;00m \u001b[38;5;167;01mValueError\u001b[39;00m(\n\u001b[0;32m    365\u001b[0m             \u001b[38;5;124m\"\u001b[39m\u001b[38;5;124mSum of y is not strictly positive which \u001b[39m\u001b[38;5;124m\"\u001b[39m\n\u001b[0;32m    366\u001b[0m             \u001b[38;5;124m\"\u001b[39m\u001b[38;5;124mis necessary for Poisson regression.\u001b[39m\u001b[38;5;124m\"\u001b[39m\n\u001b[0;32m    367\u001b[0m         )\n\u001b[0;32m    369\u001b[0m \u001b[38;5;28mself\u001b[39m\u001b[38;5;241m.\u001b[39mn_outputs_ \u001b[38;5;241m=\u001b[39m y\u001b[38;5;241m.\u001b[39mshape[\u001b[38;5;241m1\u001b[39m]\n\u001b[1;32m--> 371\u001b[0m y, expanded_class_weight \u001b[38;5;241m=\u001b[39m \u001b[38;5;28;43mself\u001b[39;49m\u001b[38;5;241;43m.\u001b[39;49m\u001b[43m_validate_y_class_weight\u001b[49m\u001b[43m(\u001b[49m\u001b[43my\u001b[49m\u001b[43m)\u001b[49m\n\u001b[0;32m    373\u001b[0m \u001b[38;5;28;01mif\u001b[39;00m \u001b[38;5;28mgetattr\u001b[39m(y, \u001b[38;5;124m\"\u001b[39m\u001b[38;5;124mdtype\u001b[39m\u001b[38;5;124m\"\u001b[39m, \u001b[38;5;28;01mNone\u001b[39;00m) \u001b[38;5;241m!=\u001b[39m DOUBLE \u001b[38;5;129;01mor\u001b[39;00m \u001b[38;5;129;01mnot\u001b[39;00m y\u001b[38;5;241m.\u001b[39mflags\u001b[38;5;241m.\u001b[39mcontiguous:\n\u001b[0;32m    374\u001b[0m     y \u001b[38;5;241m=\u001b[39m np\u001b[38;5;241m.\u001b[39mascontiguousarray(y, dtype\u001b[38;5;241m=\u001b[39mDOUBLE)\n",
      "File \u001b[1;32mC:\\Python310\\lib\\site-packages\\sklearn\\ensemble\\_forest.py:758\u001b[0m, in \u001b[0;36mForestClassifier._validate_y_class_weight\u001b[1;34m(self, y)\u001b[0m\n\u001b[0;32m    757\u001b[0m \u001b[38;5;28;01mdef\u001b[39;00m \u001b[38;5;21m_validate_y_class_weight\u001b[39m(\u001b[38;5;28mself\u001b[39m, y):\n\u001b[1;32m--> 758\u001b[0m     \u001b[43mcheck_classification_targets\u001b[49m\u001b[43m(\u001b[49m\u001b[43my\u001b[49m\u001b[43m)\u001b[49m\n\u001b[0;32m    760\u001b[0m     y \u001b[38;5;241m=\u001b[39m np\u001b[38;5;241m.\u001b[39mcopy(y)\n\u001b[0;32m    761\u001b[0m     expanded_class_weight \u001b[38;5;241m=\u001b[39m \u001b[38;5;28;01mNone\u001b[39;00m\n",
      "File \u001b[1;32mC:\\Python310\\lib\\site-packages\\sklearn\\utils\\multiclass.py:200\u001b[0m, in \u001b[0;36mcheck_classification_targets\u001b[1;34m(y)\u001b[0m\n\u001b[0;32m    192\u001b[0m y_type \u001b[38;5;241m=\u001b[39m type_of_target(y, input_name\u001b[38;5;241m=\u001b[39m\u001b[38;5;124m\"\u001b[39m\u001b[38;5;124my\u001b[39m\u001b[38;5;124m\"\u001b[39m)\n\u001b[0;32m    193\u001b[0m \u001b[38;5;28;01mif\u001b[39;00m y_type \u001b[38;5;129;01mnot\u001b[39;00m \u001b[38;5;129;01min\u001b[39;00m [\n\u001b[0;32m    194\u001b[0m     \u001b[38;5;124m\"\u001b[39m\u001b[38;5;124mbinary\u001b[39m\u001b[38;5;124m\"\u001b[39m,\n\u001b[0;32m    195\u001b[0m     \u001b[38;5;124m\"\u001b[39m\u001b[38;5;124mmulticlass\u001b[39m\u001b[38;5;124m\"\u001b[39m,\n\u001b[1;32m   (...)\u001b[0m\n\u001b[0;32m    198\u001b[0m     \u001b[38;5;124m\"\u001b[39m\u001b[38;5;124mmultilabel-sequences\u001b[39m\u001b[38;5;124m\"\u001b[39m,\n\u001b[0;32m    199\u001b[0m ]:\n\u001b[1;32m--> 200\u001b[0m     \u001b[38;5;28;01mraise\u001b[39;00m \u001b[38;5;167;01mValueError\u001b[39;00m(\u001b[38;5;124m\"\u001b[39m\u001b[38;5;124mUnknown label type: \u001b[39m\u001b[38;5;132;01m%r\u001b[39;00m\u001b[38;5;124m\"\u001b[39m \u001b[38;5;241m%\u001b[39m y_type)\n",
      "\u001b[1;31mValueError\u001b[0m: Unknown label type: 'continuous'"
     ]
    }
   ],
   "source": [
    "# Import the RandomForestClassifier module from sklearn\n",
    "from sklearn.ensemble import RandomForestClassifier\n",
    "\n",
    "# initiate the RandomForestClassifier\n",
    "rfc = RandomForestClassifier()\n",
    "\n",
    "# fit the RandomForestClassifier to the mean imputed data\n",
    "rfc_mean = rfc.fit(X_train_mean, y_train)\n",
    "\n",
    "# fit the RandomForestClassifier to the median imputed data\n",
    "rfc_median = rfc.fit(X_train_median, y_train)\n",
    "\n",
    "# fit the RandomForestClassifier to the Constant imputed data\n",
    "rfc_constant = rfc.fit(X_train_Constant, y_train)\n",
    "\n",
    "# fit the RandomForestClassifier to the CDI imputed data\n",
    "rfc_CDI = rfc.fit(X_train_CDI, y_train)\n",
    "\n",
    "# fit the RandomForestClassifier to the FRNNI imputed data\n",
    "rfc_FRNNI = rfc.fit(X_train_FRNNI, y_train)\n",
    "\n",
    "# fit the RandomForestClassifier to the HDI imputed data\n",
    "rfc_HDI = rfc.fit(X_train_HDI, y_train)\n",
    "\n",
    "# fit the RandomForestClassifier to the KNNImputer imputed data\n",
    "rfc_KNNI = rfc.fit(X_train_KNNI, y_train)\n",
    "\n",
    "# fit the RandomForestClassifier to the PMM imputed data\n",
    "rfc_PMM = rfc.fit(X_train_PMM, y_train)\n",
    "\n",
    "# fit the RandomForestClassifier to the SICE imputed data\n",
    "rfc_SICE = rfc.fit(X_train_SICE, y_train)\n",
    "\n",
    "# fit the RandomForestClassifier to the MICE imputed data\n",
    "rfc_MICE = rfc.fit(X_train_MICE, y_train)"
   ]
  },
  {
   "cell_type": "markdown",
   "id": "29838c4f",
   "metadata": {},
   "source": [
    "### Test each of the models on the test set and build the following table:"
   ]
  },
  {
   "cell_type": "code",
   "execution_count": null,
   "id": "efb5c114",
   "metadata": {},
   "outputs": [],
   "source": []
  },
  {
   "cell_type": "markdown",
   "id": "4ddeae2e",
   "metadata": {},
   "source": [
    "### Conclude the results you got."
   ]
  },
  {
   "cell_type": "code",
   "execution_count": null,
   "id": "a6951458",
   "metadata": {},
   "outputs": [],
   "source": []
  }
 ],
 "metadata": {
  "kernelspec": {
   "display_name": "Python 3 (ipykernel)",
   "language": "python",
   "name": "python3"
  },
  "language_info": {
   "codemirror_mode": {
    "name": "ipython",
    "version": 3
   },
   "file_extension": ".py",
   "mimetype": "text/x-python",
   "name": "python",
   "nbconvert_exporter": "python",
   "pygments_lexer": "ipython3",
   "version": "3.10.2"
  }
 },
 "nbformat": 4,
 "nbformat_minor": 5
}
