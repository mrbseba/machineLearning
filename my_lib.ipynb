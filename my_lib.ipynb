{
 "cells": [
  {
   "cell_type": "markdown",
   "id": "7da9e77c",
   "metadata": {},
   "source": [
    "### my_lib\n",
    "This will be my library for automatizaed my work.\n",
    "- de asemenea de analizat dacă un anume functii nu sunt deja automatizare in Python\n",
    "\n",
    "Libary also work if I rerun the jp.\n",
    "\n",
    "Now I have to undestand what is most often functionality I need to do my work"
   ]
  },
  {
   "cell_type": "code",
   "execution_count": 6,
   "id": "5cf3bfcc",
   "metadata": {},
   "outputs": [],
   "source": [
    "# the external library for my library\n",
    "import math"
   ]
  },
  {
   "cell_type": "code",
   "execution_count": 7,
   "id": "193cd2fe",
   "metadata": {},
   "outputs": [],
   "source": [
    "# function for calculate the sigmoid function\n",
    "def my_lib_sigmoid(x):\n",
    "\n",
    "#   formula for the sigmoid function\n",
    "    sig = 1 / (1 + math.exp(- x))\n",
    "    \n",
    "#   display the sigmoid funnction\n",
    "    print('sigmoid result:', sig)\n",
    "\n",
    "# call and send the parameter for the sigmoid function\n",
    "# sigmoid(-4)\n",
    "# input value = -4\n",
    "# target value = 0.01798621"
   ]
  },
  {
   "cell_type": "code",
   "execution_count": 8,
   "id": "9bc402ee",
   "metadata": {},
   "outputs": [],
   "source": [
    "# function for calculate the sum \n",
    "def my_lib_sum(x, y):\n",
    "#   formula for calculate the sum of two var\n",
    "    sum = x + y\n",
    "    print('sum:', sum)"
   ]
  }
 ],
 "metadata": {
  "kernelspec": {
   "display_name": "Python 3 (ipykernel)",
   "language": "python",
   "name": "python3"
  },
  "language_info": {
   "codemirror_mode": {
    "name": "ipython",
    "version": 3
   },
   "file_extension": ".py",
   "mimetype": "text/x-python",
   "name": "python",
   "nbconvert_exporter": "python",
   "pygments_lexer": "ipython3",
   "version": "3.10.2"
  }
 },
 "nbformat": 4,
 "nbformat_minor": 5
}
