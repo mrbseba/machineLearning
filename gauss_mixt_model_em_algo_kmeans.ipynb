{
 "cells": [
  {
   "cell_type": "markdown",
   "id": "04e88e68",
   "metadata": {},
   "source": [
    "You already got to know the clustering problem in Machine Learning. Also you met one of the business problems where these algorithms are used - customer segmentation. Today you are going to practice this knowledge on a very similar task."
   ]
  },
  {
   "cell_type": "code",
   "execution_count": 2,
   "id": "8b85cbfd",
   "metadata": {},
   "outputs": [],
   "source": [
    "import numpy as np\n",
    "import pandas as pd"
   ]
  },
  {
   "cell_type": "code",
   "execution_count": 3,
   "id": "3a2eaf39",
   "metadata": {},
   "outputs": [],
   "source": [
    "df = pd.read_csv(\"wine_customer_segment.csv\")"
   ]
  },
  {
   "cell_type": "code",
   "execution_count": 4,
   "id": "3333ef80",
   "metadata": {},
   "outputs": [
    {
     "data": {
      "text/html": [
       "<div>\n",
       "<style scoped>\n",
       "    .dataframe tbody tr th:only-of-type {\n",
       "        vertical-align: middle;\n",
       "    }\n",
       "\n",
       "    .dataframe tbody tr th {\n",
       "        vertical-align: top;\n",
       "    }\n",
       "\n",
       "    .dataframe thead th {\n",
       "        text-align: right;\n",
       "    }\n",
       "</style>\n",
       "<table border=\"1\" class=\"dataframe\">\n",
       "  <thead>\n",
       "    <tr style=\"text-align: right;\">\n",
       "      <th></th>\n",
       "      <th>Alcohol</th>\n",
       "      <th>Malic_Acid</th>\n",
       "      <th>Ash</th>\n",
       "      <th>Ash_Alcanity</th>\n",
       "      <th>Magnesium</th>\n",
       "      <th>Total_Phenols</th>\n",
       "      <th>Flavanoids</th>\n",
       "      <th>Nonflavanoid_Phenols</th>\n",
       "      <th>Proanthocyanins</th>\n",
       "      <th>Color_Intensity</th>\n",
       "      <th>Hue</th>\n",
       "      <th>OD280</th>\n",
       "      <th>Proline</th>\n",
       "      <th>Customer_Segment</th>\n",
       "    </tr>\n",
       "  </thead>\n",
       "  <tbody>\n",
       "    <tr>\n",
       "      <th>0</th>\n",
       "      <td>14.23</td>\n",
       "      <td>1.71</td>\n",
       "      <td>2.43</td>\n",
       "      <td>15.6</td>\n",
       "      <td>127</td>\n",
       "      <td>2.80</td>\n",
       "      <td>3.06</td>\n",
       "      <td>0.28</td>\n",
       "      <td>2.29</td>\n",
       "      <td>5.64</td>\n",
       "      <td>1.04</td>\n",
       "      <td>3.92</td>\n",
       "      <td>1065</td>\n",
       "      <td>1</td>\n",
       "    </tr>\n",
       "    <tr>\n",
       "      <th>1</th>\n",
       "      <td>13.20</td>\n",
       "      <td>1.78</td>\n",
       "      <td>2.14</td>\n",
       "      <td>11.2</td>\n",
       "      <td>100</td>\n",
       "      <td>2.65</td>\n",
       "      <td>2.76</td>\n",
       "      <td>0.26</td>\n",
       "      <td>1.28</td>\n",
       "      <td>4.38</td>\n",
       "      <td>1.05</td>\n",
       "      <td>3.40</td>\n",
       "      <td>1050</td>\n",
       "      <td>1</td>\n",
       "    </tr>\n",
       "    <tr>\n",
       "      <th>2</th>\n",
       "      <td>13.16</td>\n",
       "      <td>2.36</td>\n",
       "      <td>2.67</td>\n",
       "      <td>18.6</td>\n",
       "      <td>101</td>\n",
       "      <td>2.80</td>\n",
       "      <td>3.24</td>\n",
       "      <td>0.30</td>\n",
       "      <td>2.81</td>\n",
       "      <td>5.68</td>\n",
       "      <td>1.03</td>\n",
       "      <td>3.17</td>\n",
       "      <td>1185</td>\n",
       "      <td>1</td>\n",
       "    </tr>\n",
       "    <tr>\n",
       "      <th>3</th>\n",
       "      <td>14.37</td>\n",
       "      <td>1.95</td>\n",
       "      <td>2.50</td>\n",
       "      <td>16.8</td>\n",
       "      <td>113</td>\n",
       "      <td>3.85</td>\n",
       "      <td>3.49</td>\n",
       "      <td>0.24</td>\n",
       "      <td>2.18</td>\n",
       "      <td>7.80</td>\n",
       "      <td>0.86</td>\n",
       "      <td>3.45</td>\n",
       "      <td>1480</td>\n",
       "      <td>1</td>\n",
       "    </tr>\n",
       "    <tr>\n",
       "      <th>4</th>\n",
       "      <td>13.24</td>\n",
       "      <td>2.59</td>\n",
       "      <td>2.87</td>\n",
       "      <td>21.0</td>\n",
       "      <td>118</td>\n",
       "      <td>2.80</td>\n",
       "      <td>2.69</td>\n",
       "      <td>0.39</td>\n",
       "      <td>1.82</td>\n",
       "      <td>4.32</td>\n",
       "      <td>1.04</td>\n",
       "      <td>2.93</td>\n",
       "      <td>735</td>\n",
       "      <td>1</td>\n",
       "    </tr>\n",
       "    <tr>\n",
       "      <th>5</th>\n",
       "      <td>14.20</td>\n",
       "      <td>1.76</td>\n",
       "      <td>2.45</td>\n",
       "      <td>15.2</td>\n",
       "      <td>112</td>\n",
       "      <td>3.27</td>\n",
       "      <td>3.39</td>\n",
       "      <td>0.34</td>\n",
       "      <td>1.97</td>\n",
       "      <td>6.75</td>\n",
       "      <td>1.05</td>\n",
       "      <td>2.85</td>\n",
       "      <td>1450</td>\n",
       "      <td>1</td>\n",
       "    </tr>\n",
       "    <tr>\n",
       "      <th>6</th>\n",
       "      <td>14.39</td>\n",
       "      <td>1.87</td>\n",
       "      <td>2.45</td>\n",
       "      <td>14.6</td>\n",
       "      <td>96</td>\n",
       "      <td>2.50</td>\n",
       "      <td>2.52</td>\n",
       "      <td>0.30</td>\n",
       "      <td>1.98</td>\n",
       "      <td>5.25</td>\n",
       "      <td>1.02</td>\n",
       "      <td>3.58</td>\n",
       "      <td>1290</td>\n",
       "      <td>1</td>\n",
       "    </tr>\n",
       "    <tr>\n",
       "      <th>7</th>\n",
       "      <td>14.06</td>\n",
       "      <td>2.15</td>\n",
       "      <td>2.61</td>\n",
       "      <td>17.6</td>\n",
       "      <td>121</td>\n",
       "      <td>2.60</td>\n",
       "      <td>2.51</td>\n",
       "      <td>0.31</td>\n",
       "      <td>1.25</td>\n",
       "      <td>5.05</td>\n",
       "      <td>1.06</td>\n",
       "      <td>3.58</td>\n",
       "      <td>1295</td>\n",
       "      <td>1</td>\n",
       "    </tr>\n",
       "    <tr>\n",
       "      <th>8</th>\n",
       "      <td>14.83</td>\n",
       "      <td>1.64</td>\n",
       "      <td>2.17</td>\n",
       "      <td>14.0</td>\n",
       "      <td>97</td>\n",
       "      <td>2.80</td>\n",
       "      <td>2.98</td>\n",
       "      <td>0.29</td>\n",
       "      <td>1.98</td>\n",
       "      <td>5.20</td>\n",
       "      <td>1.08</td>\n",
       "      <td>2.85</td>\n",
       "      <td>1045</td>\n",
       "      <td>1</td>\n",
       "    </tr>\n",
       "    <tr>\n",
       "      <th>9</th>\n",
       "      <td>13.86</td>\n",
       "      <td>1.35</td>\n",
       "      <td>2.27</td>\n",
       "      <td>16.0</td>\n",
       "      <td>98</td>\n",
       "      <td>2.98</td>\n",
       "      <td>3.15</td>\n",
       "      <td>0.22</td>\n",
       "      <td>1.85</td>\n",
       "      <td>7.22</td>\n",
       "      <td>1.01</td>\n",
       "      <td>3.55</td>\n",
       "      <td>1045</td>\n",
       "      <td>1</td>\n",
       "    </tr>\n",
       "  </tbody>\n",
       "</table>\n",
       "</div>"
      ],
      "text/plain": [
       "   Alcohol  Malic_Acid   Ash  Ash_Alcanity  Magnesium  Total_Phenols  \\\n",
       "0    14.23        1.71  2.43          15.6        127           2.80   \n",
       "1    13.20        1.78  2.14          11.2        100           2.65   \n",
       "2    13.16        2.36  2.67          18.6        101           2.80   \n",
       "3    14.37        1.95  2.50          16.8        113           3.85   \n",
       "4    13.24        2.59  2.87          21.0        118           2.80   \n",
       "5    14.20        1.76  2.45          15.2        112           3.27   \n",
       "6    14.39        1.87  2.45          14.6         96           2.50   \n",
       "7    14.06        2.15  2.61          17.6        121           2.60   \n",
       "8    14.83        1.64  2.17          14.0         97           2.80   \n",
       "9    13.86        1.35  2.27          16.0         98           2.98   \n",
       "\n",
       "   Flavanoids  Nonflavanoid_Phenols  Proanthocyanins  Color_Intensity   Hue  \\\n",
       "0        3.06                  0.28             2.29             5.64  1.04   \n",
       "1        2.76                  0.26             1.28             4.38  1.05   \n",
       "2        3.24                  0.30             2.81             5.68  1.03   \n",
       "3        3.49                  0.24             2.18             7.80  0.86   \n",
       "4        2.69                  0.39             1.82             4.32  1.04   \n",
       "5        3.39                  0.34             1.97             6.75  1.05   \n",
       "6        2.52                  0.30             1.98             5.25  1.02   \n",
       "7        2.51                  0.31             1.25             5.05  1.06   \n",
       "8        2.98                  0.29             1.98             5.20  1.08   \n",
       "9        3.15                  0.22             1.85             7.22  1.01   \n",
       "\n",
       "   OD280  Proline  Customer_Segment  \n",
       "0   3.92     1065                 1  \n",
       "1   3.40     1050                 1  \n",
       "2   3.17     1185                 1  \n",
       "3   3.45     1480                 1  \n",
       "4   2.93      735                 1  \n",
       "5   2.85     1450                 1  \n",
       "6   3.58     1290                 1  \n",
       "7   3.58     1295                 1  \n",
       "8   2.85     1045                 1  \n",
       "9   3.55     1045                 1  "
      ]
     },
     "execution_count": 4,
     "metadata": {},
     "output_type": "execute_result"
    }
   ],
   "source": [
    "df.head(10)"
   ]
  },
  {
   "cell_type": "code",
   "execution_count": 5,
   "id": "f4efb623",
   "metadata": {},
   "outputs": [
    {
     "name": "stdout",
     "output_type": "stream",
     "text": [
      "<class 'pandas.core.frame.DataFrame'>\n",
      "RangeIndex: 178 entries, 0 to 177\n",
      "Data columns (total 14 columns):\n",
      " #   Column                Non-Null Count  Dtype  \n",
      "---  ------                --------------  -----  \n",
      " 0   Alcohol               178 non-null    float64\n",
      " 1   Malic_Acid            178 non-null    float64\n",
      " 2   Ash                   178 non-null    float64\n",
      " 3   Ash_Alcanity          178 non-null    float64\n",
      " 4   Magnesium             178 non-null    int64  \n",
      " 5   Total_Phenols         178 non-null    float64\n",
      " 6   Flavanoids            178 non-null    float64\n",
      " 7   Nonflavanoid_Phenols  178 non-null    float64\n",
      " 8   Proanthocyanins       178 non-null    float64\n",
      " 9   Color_Intensity       178 non-null    float64\n",
      " 10  Hue                   178 non-null    float64\n",
      " 11  OD280                 178 non-null    float64\n",
      " 12  Proline               178 non-null    int64  \n",
      " 13  Customer_Segment      178 non-null    int64  \n",
      "dtypes: float64(11), int64(3)\n",
      "memory usage: 19.6 KB\n"
     ]
    }
   ],
   "source": [
    "# check the parameter of the data\n",
    "df.info()"
   ]
  },
  {
   "cell_type": "code",
   "execution_count": 6,
   "id": "76024430",
   "metadata": {},
   "outputs": [
    {
     "data": {
      "image/png": "[encoded data removed]",
      "text/plain": [
       "<Figure size 720x360 with 1 Axes>"
      ]
     },
     "metadata": {
      "needs_background": "light"
     },
     "output_type": "display_data"
    }
   ],
   "source": [
    "# check for missing values\n",
    "import matplotlib.pyplot as plt\n",
    "import seaborn as sns\n",
    "\n",
    "# Calculate the number of missing values in each column\n",
    "missing = df.isnull().sum()\n",
    "\n",
    "# Plot the number of missing values in each column\n",
    "plt.figure(figsize=(10,5))\n",
    "sns.barplot(x=missing.index, y=missing.values)\n",
    "\n",
    "# Add labels and title to the plot\n",
    "plt.xlabel(\"Columns\")\n",
    "plt.ylabel(\"Number of Missing Values\")\n",
    "plt.title(\"Number of Missing Values in Each Column\")\n",
    "\n",
    "# Show the plot\n",
    "plt.show()"
   ]
  },
  {
   "cell_type": "markdown",
   "id": "21ee723a",
   "metadata": {},
   "source": [
    "### Bring all columns into a numeric form: applying mapping or dummy variables."
   ]
  },
  {
   "cell_type": "code",
   "execution_count": 7,
   "id": "a91b72ec",
   "metadata": {},
   "outputs": [],
   "source": [
    "# done"
   ]
  },
  {
   "cell_type": "markdown",
   "id": "f67a1a59",
   "metadata": {},
   "source": [
    "### If you think that it can be useful you may apply feature scaling.\n"
   ]
  },
  {
   "cell_type": "code",
   "execution_count": 8,
   "id": "c295be63",
   "metadata": {},
   "outputs": [],
   "source": [
    "# done"
   ]
  },
  {
   "cell_type": "markdown",
   "id": "1fd01eed",
   "metadata": {},
   "source": [
    "### Using Silhouette score, find the best number of clusters for GMM (implemented in sklearn.)\n"
   ]
  },
  {
   "cell_type": "code",
   "execution_count": 9,
   "id": "06449ecc",
   "metadata": {},
   "outputs": [
    {
     "name": "stdout",
     "output_type": "stream",
     "text": [
      "Silhouette score for K=2: 0.5832\n",
      "Silhouette score for K=3: 0.2376\n",
      "Silhouette score for K=4: 0.1282\n",
      "Silhouette score for K=5: 0.1741\n",
      "Silhouette score for K=6: 0.2936\n",
      "Silhouette score for K=7: 0.4678\n",
      "Silhouette score for K=8: 0.4508\n",
      "Silhouette score for K=9: 0.4143\n",
      "Silhouette score for K=10: 0.4208\n",
      "Best number of clusters: 2\n"
     ]
    }
   ],
   "source": [
    "from sklearn.mixture import GaussianMixture\n",
    "from sklearn.metrics import silhouette_score\n",
    "import numpy as np\n",
    "\n",
    "# Load the wine data\n",
    "X = np.loadtxt(\"wine_customer_segment.csv\", delimiter=\",\", skiprows=1, usecols=range(1, 14))\n",
    "\n",
    "# Compute silhouette scores for K = 2 to 10\n",
    "silhouette_scores = []\n",
    "for n_clusters in range(2, 11):\n",
    "    clusterer = GaussianMixture(n_components=n_clusters, random_state=42)\n",
    "    cluster_labels = clusterer.fit_predict(X)\n",
    "    silhouette_scores.append(silhouette_score(X, cluster_labels))\n",
    "\n",
    "# Print the silhouette scores for each K\n",
    "for i, score in enumerate(silhouette_scores):\n",
    "    print(\"Silhouette score for K={}: {:.4f}\".format(i+2, score))\n",
    "\n",
    "# Find the best number of clusters\n",
    "best_n_clusters = np.argmax(silhouette_scores) + 2\n",
    "print(\"Best number of clusters:\", best_n_clusters)\n"
   ]
  },
  {
   "cell_type": "markdown",
   "id": "47033b69",
   "metadata": {},
   "source": [
    "### Using Silhouette score, find the best number of clusters for KMeans(implemented in sklearn.)\n"
   ]
  },
  {
   "cell_type": "code",
   "execution_count": 10,
   "id": "c99c25f1",
   "metadata": {},
   "outputs": [
    {
     "name": "stdout",
     "output_type": "stream",
     "text": [
      "Silhouette score for K=2: 0.6569\n",
      "Silhouette score for K=3: 0.5711\n",
      "Silhouette score for K=4: 0.5572\n",
      "Silhouette score for K=5: 0.5490\n",
      "Silhouette score for K=6: 0.5657\n",
      "Silhouette score for K=7: 0.5622\n",
      "Silhouette score for K=8: 0.5399\n",
      "Silhouette score for K=9: 0.5308\n",
      "Silhouette score for K=10: 0.5204\n",
      "Best number of clusters: 2\n"
     ]
    }
   ],
   "source": [
    "from sklearn.cluster import KMeans\n",
    "from sklearn.metrics import silhouette_score\n",
    "import numpy as np\n",
    "\n",
    "# Load the wine data\n",
    "X = np.loadtxt(\"wine_customer_segment.csv\", delimiter=\",\", skiprows=1, usecols=range(1, 14))\n",
    "\n",
    "# Compute silhouette scores for K = 2 to 10\n",
    "silhouette_scores = []\n",
    "for n_clusters in range(2, 11):\n",
    "    clusterer = KMeans(n_clusters=n_clusters, random_state=42)\n",
    "    cluster_labels = clusterer.fit_predict(X)\n",
    "    silhouette_scores.append(silhouette_score(X, cluster_labels))\n",
    "\n",
    "# Print the silhouette scores for each K\n",
    "for i, score in enumerate(silhouette_scores):\n",
    "    print(\"Silhouette score for K={}: {:.4f}\".format(i+2, score))\n",
    "\n",
    "# Find the best number of clusters\n",
    "best_n_clusters = np.argmax(silhouette_scores) + 2\n",
    "print(\"Best number of clusters:\", best_n_clusters)\n"
   ]
  },
  {
   "cell_type": "markdown",
   "id": "c4c7590f",
   "metadata": {},
   "source": [
    "### Plot the process of choosing the best number of clusters for each algorithm and try to explain."
   ]
  },
  {
   "cell_type": "code",
   "execution_count": 11,
   "id": "a77b29ea",
   "metadata": {},
   "outputs": [
    {
     "data": {
      "image/png": "[encoded data removed]",
      "text/plain": [
       "<Figure size 720x360 with 1 Axes>"
      ]
     },
     "metadata": {
      "needs_background": "light"
     },
     "output_type": "display_data"
    },
    {
     "name": "stdout",
     "output_type": "stream",
     "text": [
      "Best number of clusters for KMeans: 2\n",
      "Best number of clusters for GMM: 2\n"
     ]
    }
   ],
   "source": [
    "import numpy as np\n",
    "import matplotlib.pyplot as plt\n",
    "from sklearn.cluster import KMeans\n",
    "from sklearn.mixture import GaussianMixture\n",
    "from sklearn.metrics import silhouette_score\n",
    "\n",
    "# Load the wine data\n",
    "X = np.loadtxt(\"wine_customer_segment.csv\", delimiter=\",\", skiprows=1, usecols=range(1, 14))\n",
    "\n",
    "# Compute silhouette scores for KMeans with K = 2 to 10\n",
    "kmeans_scores = []\n",
    "for n_clusters in range(2, 11):\n",
    "    clusterer = KMeans(n_clusters=n_clusters, random_state=42)\n",
    "    cluster_labels = clusterer.fit_predict(X)\n",
    "    silhouette_avg = silhouette_score(X, cluster_labels)\n",
    "    kmeans_scores.append(silhouette_avg)\n",
    "\n",
    "# Compute silhouette scores for GMM with K = 2 to 10\n",
    "gmm_scores = []\n",
    "for n_clusters in range(2, 11):\n",
    "    gmm = GaussianMixture(n_components=n_clusters, random_state=42)\n",
    "    gmm.fit(X)\n",
    "    cluster_labels = gmm.predict(X)\n",
    "    silhouette_avg = silhouette_score(X, cluster_labels)\n",
    "    gmm_scores.append(silhouette_avg)\n",
    "\n",
    "# Plot the Silhouette scores for KMeans and GMM\n",
    "plt.figure(figsize=(10, 5))\n",
    "plt.plot(range(2, 11), kmeans_scores, label=\"KMeans\")\n",
    "plt.plot(range(2, 11), gmm_scores, label=\"GMM\")\n",
    "plt.xlabel(\"Number of Clusters\")\n",
    "plt.ylabel(\"Silhouette Score\")\n",
    "plt.title(\"Silhouette Score vs Number of Clusters\")\n",
    "plt.legend()\n",
    "plt.show()\n",
    "\n",
    "# Find the best number of clusters for KMeans\n",
    "best_kmeans_clusters = np.argmax(kmeans_scores) + 2\n",
    "print(\"Best number of clusters for KMeans:\", best_kmeans_clusters)\n",
    "\n",
    "# Find the best number of clusters for GMM\n",
    "best_gmm_clusters = np.argmax(gmm_scores) + 2\n",
    "print(\"Best number of clusters for GMM:\", best_gmm_clusters)\n"
   ]
  },
  {
   "cell_type": "markdown",
   "id": "87cfd76a",
   "metadata": {},
   "source": [
    "Dacă să analizăm cum lucrează aceste 2 metode ele se bazează pe număr de clustere pe care le are, pentru a putea face o clusterizare cât mai bună este nevoie să știm un nummăr optimi de clustere care este nevoie de ales pentru a face segmentarea cât mai bună"
   ]
  },
  {
   "cell_type": "markdown",
   "id": "ac143d71",
   "metadata": {},
   "source": [
    "### Cluster the data set using both algorithms."
   ]
  },
  {
   "cell_type": "code",
   "execution_count": 12,
   "id": "40816b8a",
   "metadata": {},
   "outputs": [],
   "source": [
    "import numpy as np\n",
    "import pandas as pd\n",
    "import matplotlib.pyplot as plt\n",
    "from sklearn.cluster import KMeans\n",
    "from sklearn.mixture import GaussianMixture\n",
    "from sklearn.preprocessing import StandardScaler\n",
    "from sklearn.decomposition import PCA\n",
    "from sklearn.metrics import silhouette_score\n",
    "\n",
    "# Load data\n",
    "# data = pd.read_csv('wine.csv')\n",
    "\n",
    "# Separate features and labels\n",
    "X = df.drop('Customer_Segment', axis=1)\n",
    "y = df['Customer_Segment']\n",
    "\n",
    "# Scale features\n",
    "scaler = StandardScaler()\n",
    "X_scaled = scaler.fit_transform(X)\n",
    "\n",
    "# Principal Component Analysis\n",
    "pca = PCA(n_components=2)\n",
    "X_pca = pca.fit_transform(X_scaled)"
   ]
  },
  {
   "cell_type": "code",
   "execution_count": 13,
   "id": "72571942",
   "metadata": {},
   "outputs": [],
   "source": [
    "# KMeans clustering\n",
    "kmeans = KMeans(n_clusters=3, random_state=42)\n",
    "kmeans.fit(X_scaled)\n",
    "kmeans_labels = kmeans.labels_\n",
    "kmeans_score = silhouette_score(X_scaled, kmeans_labels)"
   ]
  },
  {
   "cell_type": "code",
   "execution_count": 14,
   "id": "c3659eb0",
   "metadata": {},
   "outputs": [],
   "source": [
    "# GMM clustering\n",
    "gmm = GaussianMixture(n_components=3, random_state=42)\n",
    "gmm.fit(X_scaled)\n",
    "gmm_labels = gmm.predict(X_scaled)\n",
    "gmm_score = silhouette_score(X_scaled, gmm_labels)"
   ]
  },
  {
   "cell_type": "code",
   "execution_count": 15,
   "id": "6a56a3f6",
   "metadata": {},
   "outputs": [
    {
     "data": {
      "image/png": "[encoded data removed]",
      "text/plain": [
       "<Figure size 864x360 with 2 Axes>"
      ]
     },
     "metadata": {
      "needs_background": "light"
     },
     "output_type": "display_data"
    }
   ],
   "source": [
    "# Plot KMeans and GMM clusterings\n",
    "fig, ax = plt.subplots(nrows=1, ncols=2, figsize=(12, 5))\n",
    "\n",
    "# Plot KMeans\n",
    "ax[0].scatter(X_pca[:, 0], X_pca[:, 1], c=kmeans_labels, cmap='viridis')\n",
    "ax[0].set_title(f'KMeans Clustering\\nSilhouette Score: {kmeans_score:.2f}')\n",
    "\n",
    "# Plot GMM\n",
    "ax[1].scatter(X_pca[:, 0], X_pca[:, 1], c=gmm_labels, cmap='viridis')\n",
    "ax[1].set_title(f'GMM Clustering\\nSilhouette Score: {gmm_score:.2f}')\n",
    "\n",
    "plt.show()"
   ]
  },
  {
   "cell_type": "markdown",
   "id": "1f08ca86",
   "metadata": {},
   "source": [
    "### Extract from the KMeans algorithm the centroids."
   ]
  },
  {
   "cell_type": "code",
   "execution_count": 16,
   "id": "3cdaa9b8",
   "metadata": {},
   "outputs": [
    {
     "name": "stdout",
     "output_type": "stream",
     "text": [
      "[[1.25166667e+01 2.49420290e+00 2.28855072e+00 2.08231884e+01\n",
      "  9.23478261e+01 2.07072464e+00 1.75840580e+00 3.90144928e-01\n",
      "  1.45188406e+00 4.08695651e+00 9.41159420e-01 2.49072464e+00\n",
      "  4.58231884e+02]\n",
      " [1.38044681e+01 1.88340426e+00 2.42617021e+00 1.70234043e+01\n",
      "  1.05510638e+02 2.86723404e+00 3.01425532e+00 2.85319149e-01\n",
      "  1.91042553e+00 5.70255319e+00 1.07829787e+00 3.11404255e+00\n",
      "  1.19514894e+03]\n",
      " [1.29298387e+01 2.50403226e+00 2.40806452e+00 1.98903226e+01\n",
      "  1.03596774e+02 2.11112903e+00 1.58403226e+00 3.88387097e-01\n",
      "  1.50338710e+00 5.65032258e+00 8.83967742e-01 2.36548387e+00\n",
      "  7.28338710e+02]]\n"
     ]
    }
   ],
   "source": [
    "# Fit KMeans algorithm with 3 clusters\n",
    "kmeans = KMeans(n_clusters=3, random_state=42)\n",
    "kmeans.fit(X)\n",
    "\n",
    "# Extract centroids\n",
    "centroids = kmeans.cluster_centers_\n",
    "print(centroids)"
   ]
  },
  {
   "cell_type": "markdown",
   "id": "959d5565",
   "metadata": {},
   "source": [
    "### Extract from GMM the means of the clusters."
   ]
  },
  {
   "cell_type": "code",
   "execution_count": 17,
   "id": "a0c33329",
   "metadata": {},
   "outputs": [
    {
     "name": "stdout",
     "output_type": "stream",
     "text": [
      "[[1.23591713e+01 2.21875795e+00 2.25015482e+00 2.06732696e+01\n",
      "  9.13654548e+01 2.15403303e+00 2.00010159e+00 3.64839121e-01\n",
      "  1.50840698e+00 3.59868735e+00 9.97714554e-01 2.62517401e+00\n",
      "  4.74985241e+02]\n",
      " [1.36487205e+01 1.89301763e+00 2.44224824e+00 1.75027832e+01\n",
      "  1.05792456e+02 2.81100844e+00 2.93666388e+00 2.94993944e-01\n",
      "  1.88341313e+00 5.35438111e+00 1.07445213e+00 3.13311499e+00\n",
      "  1.08634973e+03]\n",
      " [1.30152258e+01 2.99167919e+00 2.41774130e+00 2.03987866e+01\n",
      "  1.02732859e+02 1.86485785e+00 1.01065378e+00 4.35909429e-01\n",
      "  1.34993269e+00 6.45929341e+00 7.73457507e-01 1.99016898e+00\n",
      "  6.77936558e+02]]\n"
     ]
    }
   ],
   "source": [
    "# Fit GMM algorithm with 3 clusters\n",
    "gmm = GaussianMixture(n_components=3, random_state=42)\n",
    "gmm.fit(X)\n",
    "\n",
    "# Extract means of each cluster\n",
    "means = gmm.means_\n",
    "print(means)"
   ]
  },
  {
   "cell_type": "markdown",
   "id": "e4589612",
   "metadata": {},
   "source": [
    "### Build the following table for both algorithms."
   ]
  },
  {
   "cell_type": "code",
   "execution_count": 19,
   "id": "b81140b0",
   "metadata": {},
   "outputs": [
    {
     "ename": "ValueError",
     "evalue": "cannot reshape array of size 178 into shape (83,13)",
     "output_type": "error",
     "traceback": [
      "\u001b[1;31m---------------------------------------------------------------------------\u001b[0m",
      "\u001b[1;31mValueError\u001b[0m                                Traceback (most recent call last)",
      "Input \u001b[1;32mIn [19]\u001b[0m, in \u001b[0;36m<cell line: 7>\u001b[1;34m()\u001b[0m\n\u001b[0;32m      4\u001b[0m \u001b[38;5;28;01mfrom\u001b[39;00m \u001b[38;5;21;01msklearn\u001b[39;00m\u001b[38;5;21;01m.\u001b[39;00m\u001b[38;5;21;01mmixture\u001b[39;00m \u001b[38;5;28;01mimport\u001b[39;00m GaussianMixture\n\u001b[0;32m      6\u001b[0m \u001b[38;5;66;03m# Assuming X is your data matrix with shape (n_samples, n_features)\u001b[39;00m\n\u001b[1;32m----> 7\u001b[0m X \u001b[38;5;241m=\u001b[39m \u001b[43mdf\u001b[49m\u001b[43m[\u001b[49m\u001b[38;5;124;43m'\u001b[39;49m\u001b[38;5;124;43mCustomer_Segment\u001b[39;49m\u001b[38;5;124;43m'\u001b[39;49m\u001b[43m]\u001b[49m\u001b[38;5;241;43m.\u001b[39;49m\u001b[43mvalues\u001b[49m\u001b[38;5;241;43m.\u001b[39;49m\u001b[43mreshape\u001b[49m\u001b[43m(\u001b[49m\u001b[43m(\u001b[49m\u001b[38;5;241;43m83\u001b[39;49m\u001b[43m,\u001b[49m\u001b[43m \u001b[49m\u001b[38;5;241;43m13\u001b[39;49m\u001b[43m)\u001b[49m\u001b[43m)\u001b[49m\n\u001b[0;32m      9\u001b[0m \u001b[38;5;66;03m# Fit KMeans with k=3 clusters\u001b[39;00m\n\u001b[0;32m     10\u001b[0m kmeans \u001b[38;5;241m=\u001b[39m KMeans(n_clusters\u001b[38;5;241m=\u001b[39m\u001b[38;5;241m3\u001b[39m, random_state\u001b[38;5;241m=\u001b[39m\u001b[38;5;241m42\u001b[39m)\n",
      "\u001b[1;31mValueError\u001b[0m: cannot reshape array of size 178 into shape (83,13)"
     ]
    }
   ],
   "source": [
    "import pandas as pd\n",
    "import numpy as np\n",
    "from sklearn.cluster import KMeans\n",
    "from sklearn.mixture import GaussianMixture\n",
    "\n",
    "# Assuming X is your data matrix with shape (n_samples, n_features)\n",
    "X = df['Customer_Segment'].values.reshape((83, 13))\n",
    "\n",
    "# Fit KMeans with k=3 clusters\n",
    "kmeans = KMeans(n_clusters=3, random_state=42)\n",
    "kmeans.fit(X)\n",
    "\n",
    "# Extract KMeans cluster centers\n",
    "kmeans_centers = kmeans.cluster_centers_\n",
    "\n",
    "# Fit GMM with k=3 clusters\n",
    "gmm = GaussianMixture(n_components=3, random_state=42)\n",
    "gmm.fit(X)\n",
    "\n",
    "# Extract GMM cluster means\n",
    "gmm_means = gmm.means_\n",
    "\n",
    "# Define feature names (assuming 13 features as in the wine dataset)\n",
    "feature_names = ['Alcohol', 'Malic Acid', 'Ash', 'Ash Alcanity', 'Magnesium', \n",
    "                 'Total Phenols', 'Flavanoids', 'Nonflavanoid Phenols', \n",
    "                 'Proanthocyanins', 'Color Intensity', 'Hue', 'OD280', 'Proline']\n",
    "\n",
    "# Create a DataFrame to store cluster means\n",
    "kmeans_means_df = pd.DataFrame(kmeans_centers, columns=feature_names)\n",
    "gmm_means_df = pd.DataFrame(gmm_means, columns=feature_names)\n",
    "\n",
    "# Set index labels for clusters\n",
    "kmeans_means_df.index.name = 'Cluster'\n",
    "gmm_means_df.index.name = 'Cluster'\n",
    "\n",
    "# Print the table of means for KMeans\n",
    "print(\"Table of cluster means for KMeans:\")\n",
    "print(kmeans_means_df)\n",
    "\n",
    "# Print the table of means for GMM\n",
    "print(\"\\nTable of cluster means for GMM:\")\n",
    "print(gmm_means_df)\n"
   ]
  },
  {
   "cell_type": "code",
   "execution_count": null,
   "id": "d721a5f9",
   "metadata": {},
   "outputs": [],
   "source": [
    "# Create a table of the following structure as a pandas data frame.\n",
    "# define the data for the table\n",
    "data = {\n",
    "    'ML model': ['GaussianNB', 'MultinomialNB', 'BernoulliNB'],\n",
    "    'Accuracy': [accuracy_ga, accuracy_mu, accuracy_be],\n",
    "    \n",
    "}\n",
    "\n",
    "# create the DataFrame\n",
    "new_df = pd.DataFrame(data)\n",
    "\n",
    "# display the DataFrame\n",
    "print(new_df)"
   ]
  },
  {
   "cell_type": "markdown",
   "id": "753a6faf",
   "metadata": {},
   "source": [
    "### Make a conclusion based on the table that you got and to create an imaginary customer for every cluster."
   ]
  },
  {
   "cell_type": "code",
   "execution_count": null,
   "id": "c609216c",
   "metadata": {},
   "outputs": [],
   "source": []
  }
 ],
 "metadata": {
  "kernelspec": {
   "display_name": "Python 3 (ipykernel)",
   "language": "python",
   "name": "python3"
  },
  "language_info": {
   "codemirror_mode": {
    "name": "ipython",
    "version": 3
   },
   "file_extension": ".py",
   "mimetype": "text/x-python",
   "name": "python",
   "nbconvert_exporter": "python",
   "pygments_lexer": "ipython3",
   "version": "3.10.2"
  }
 },
 "nbformat": 4,
 "nbformat_minor": 5
}
